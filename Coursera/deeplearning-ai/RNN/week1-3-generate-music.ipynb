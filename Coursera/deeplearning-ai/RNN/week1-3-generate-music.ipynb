{
 "cells": [
  {
   "cell_type": "markdown",
   "metadata": {},
   "source": [
    "# Improvise a Jazz Solo with an LSTM Network\n",
    "\n",
    "Welcome to your final programming assignment of this week! In this notebook, you will implement a model that uses an LSTM to generate music. You will even be able to listen to your own music at the end of the assignment. \n",
    "\n",
    "**You will learn to:**\n",
    "- Apply an LSTM to music generation.\n",
    "- Generate your own jazz music with deep learning.\n",
    "\n",
    "Please run the following cell to load all the packages required in this assignment. This may take a few minutes. "
   ]
  },
  {
   "cell_type": "code",
   "execution_count": 2,
   "metadata": {},
   "outputs": [
    {
     "name": "stdout",
     "output_type": "stream",
     "text": [
      "done\n"
     ]
    }
   ],
   "source": [
    "from __future__ import print_function\n",
    "import IPython\n",
    "import sys\n",
    "from music21 import *\n",
    "import numpy as np\n",
    "from grammar import *\n",
    "from qa import *\n",
    "from preprocess import * \n",
    "from music_utils import *\n",
    "from data_utils import *\n",
    "from keras.models import load_model, Model\n",
    "from keras.layers import Dense, Activation, Dropout, Input, LSTM, Reshape, Lambda, RepeatVector\n",
    "from keras.initializers import glorot_uniform\n",
    "from keras.utils import to_categorical\n",
    "from keras.optimizers import Adam\n",
    "from keras import backend as K\n",
    "print(\"done\")"
   ]
  },
  {
   "cell_type": "markdown",
   "metadata": {},
   "source": [
    "## 1 - Problem statement\n",
    "\n",
    "You would like to create a jazz music piece specially for a friend's birthday. However, you don't know any instruments or music composition. Fortunately, you know deep learning and will solve this problem using an LSTM netwok.  \n",
    "\n",
    "You will train a network to generate novel jazz solos in a style representative of a body of performed work.\n",
    "\n",
    "<img src=\"images/jazz.jpg\" style=\"width:450;height:300px;\">\n",
    "\n",
    "\n",
    "### 1.1 - Dataset\n",
    "\n",
    "You will train your algorithm on a corpus of Jazz music. Run the cell below to listen to a snippet of the audio from the training set:"
   ]
  },
  {
   "cell_type": "code",
   "execution_count": 3,
   "metadata": {},
   "outputs": [
    {
     "name": "stdout",
     "output_type": "stream",
     "text": [
      "done\n"
     ]
    }
   ],
   "source": [
    "IPython.display.Audio('./data/30s_seq.mp3')\n",
    "print(\"done\")"
   ]
  },
  {
   "cell_type": "markdown",
   "metadata": {},
   "source": [
    "We have taken care of the preprocessing of the musical data to render it in terms of musical \"values.\" You can informally think of each \"value\" as a note, which comprises a pitch and a duration. For example, if you press down a specific piano key for 0.5 seconds, then you have just played a note. In music theory, a \"value\" is actually more complicated than this--specifically, it also captures the information needed to play multiple notes at the same time. For example, when playing a music piece, you might press down two piano keys at the same time (playng multiple notes at the same time generates what's called a \"chord\"). But we don't need to worry about the details of music theory for this assignment. For the purpose of this assignment, all you need to know is that we will obtain a dataset of values, and will learn an RNN model to generate sequences of values. \n",
    "\n",
    "Our music generation system will use 78 unique values. Run the following code to load the raw music data and preprocess it into values. This might take a few minutes."
   ]
  },
  {
   "cell_type": "code",
   "execution_count": 4,
   "metadata": {},
   "outputs": [
    {
     "name": "stdout",
     "output_type": "stream",
     "text": [
      "shape of X: (60, 30, 78)\n",
      "number of training examples: 60\n",
      "Tx (length of sequence): 30\n",
      "total # of unique values: 78\n",
      "Shape of Y: (30, 60, 78)\n"
     ]
    }
   ],
   "source": [
    "X, Y, n_values, indices_values = load_music_utils()\n",
    "print('shape of X:', X.shape)\n",
    "print('number of training examples:', X.shape[0])\n",
    "print('Tx (length of sequence):', X.shape[1])\n",
    "print('total # of unique values:', n_values)\n",
    "print('Shape of Y:', Y.shape)"
   ]
  },
  {
   "cell_type": "markdown",
   "metadata": {},
   "source": [
    "You have just loaded the following:\n",
    "\n",
    "- `X`: This is an (m, $T_x$, 78) dimensional array. We have m training examples, each of which is a snippet of $T_x =30$ musical values. At each time step, the input is one of 78 different possible values, represented as a one-hot vector. Thus for example, X[i,t,:] is a one-hot vector representating the value of the i-th example at time t. \n",
    "\n",
    "- `Y`: This is essentially the same as `X`, but shifted one step to the left (to the past). Similar to the dinosaurus assignment, we're interested in the network using the previous values to predict the next value, so our sequence model will try to predict $y^{\\langle t \\rangle}$ given $x^{\\langle 1\\rangle}, \\ldots, x^{\\langle t \\rangle}$. However, the data in `Y` is reordered to be dimension $(T_y, m, 78)$, where $T_y = T_x$. This format makes it more convenient to feed to the LSTM later. \n",
    "\n",
    "- `n_values`: The number of unique values in this dataset. This should be 78. \n",
    "\n",
    "- `indices_values`: python dictionary mapping from 0-77 to musical values."
   ]
  },
  {
   "cell_type": "markdown",
   "metadata": {},
   "source": [
    "### 1.2 - Overview of our model\n",
    "\n",
    "Here is the architecture of the model we will use. This is similar to the Dinosaurus model you had used in the previous notebook, except that in you will be implementing it in Keras. The architecture is as follows: \n",
    "\n",
    "<img src=\"images/music_generation.png\" style=\"width:600;height:400px;\">\n",
    "\n",
    "<!--\n",
    "<img src=\"images/djmodel.png\" style=\"width:600;height:400px;\">\n",
    "<br>\n",
    "<caption><center> **Figure 1**: LSTM model. $X = (x^{\\langle 1 \\rangle}, x^{\\langle 2 \\rangle}, ..., x^{\\langle T_x \\rangle})$ is a window of size $T_x$ scanned over the musical corpus. Each $x^{\\langle t \\rangle}$ is an index corresponding to a value (ex: \"A,0.250,< m2,P-4 >\") while $\\hat{y}$ is the prediction for the next value  </center></caption>\n",
    "!--> \n",
    "\n",
    "We will be training the model on random snippets of 30 values taken from a much longer piece of music. Thus, we won't bother to set the first input $x^{\\langle 1 \\rangle} = \\vec{0}$, which we had done previously to denote the start of a dinosaur name, since now most of these snippets of audio start somewhere in the middle of a piece of music. We are setting each of the snippts to have the same length $T_x = 30$ to make vectorization easier. \n"
   ]
  },
  {
   "cell_type": "markdown",
   "metadata": {},
   "source": [
    "## 2 - Building the model\n",
    "\n",
    "In this part you will build and train a model that will learn musical patterns. To do so, you will need to build a model that takes in X of shape $(m, T_x, 78)$ and Y of shape $(T_y, m, 78)$. We will use an LSTM with 64 dimensional hidden states. Lets set `n_a = 64`. \n"
   ]
  },
  {
   "cell_type": "code",
   "execution_count": 5,
   "metadata": {
    "collapsed": true
   },
   "outputs": [],
   "source": [
    "n_a = 64 "
   ]
  },
  {
   "cell_type": "markdown",
   "metadata": {},
   "source": [
    "\n",
    "Here's how you can create a Keras model with multiple inputs and outputs. If you're building an RNN where even at test time entire input sequence $x^{\\langle 1 \\rangle}, x^{\\langle 2 \\rangle}, \\ldots, x^{\\langle T_x \\rangle}$ were *given in advance*, for example if the inputs were words and the output was a label, then Keras has simple built-in functions to build the model. However, for sequence generation, at test time we don't know all the values of $x^{\\langle t\\rangle}$ in advance; instead we generate them one at a time using $x^{\\langle t\\rangle} = y^{\\langle t-1 \\rangle}$. So the code will be a bit more complicated, and you'll need to implement your own for-loop to iterate over the different time steps. \n",
    "\n",
    "The function `djmodel()` will call the LSTM layer $T_x$ times using a for-loop, and it is important that all $T_x$ copies have the same weights. I.e., it should not re-initiaiize the weights every time---the $T_x$ steps should have shared weights. The key steps for implementing layers with shareable weights in Keras are: \n",
    "1. Define the layer objects (we will use global variables for this).\n",
    "2. Call these objects when propagating the input.\n",
    "\n",
    "We have defined the layers objects you need as global variables. Please run the next cell to create them. Please check the Keras documentation to make sure you understand what these layers are: [Reshape()](https://keras.io/layers/core/#reshape), [LSTM()](https://keras.io/layers/recurrent/#lstm), [Dense()](https://keras.io/layers/core/#dense).\n"
   ]
  },
  {
   "cell_type": "code",
   "execution_count": 6,
   "metadata": {
    "collapsed": true
   },
   "outputs": [],
   "source": [
    "reshapor = Reshape((1, 78))                        # Used in Step 2.B of djmodel(), below\n",
    "LSTM_cell = LSTM(n_a, return_state = True)         # Used in Step 2.C\n",
    "densor = Dense(n_values, activation='softmax')     # Used in Step 2.D"
   ]
  },
  {
   "cell_type": "markdown",
   "metadata": {},
   "source": [
    "Each of `reshapor`, `LSTM_cell` and `densor` are now layer objects, and you can use them to implement `djmodel()`. In order to propagate a Keras tensor object X through one of these layers, use `layer_object(X)` (or `layer_object([X,Y])` if it requires multiple inputs.). For example, `reshapor(X)` will propagate X through the `Reshape((1,78))` layer defined above."
   ]
  },
  {
   "cell_type": "markdown",
   "metadata": {},
   "source": [
    " \n",
    "**Exercise**: Implement `djmodel()`. You will need to carry out 2 steps:\n",
    "\n",
    "1. Create an empty list \"outputs\" to save the outputs of the LSTM Cell at every time step.\n",
    "2. Loop for $t \\in 1, \\ldots, T_x$:\n",
    "\n",
    "    A. Select the \"t\"th time-step vector from X. The shape of this selection should be (78,). To do so, create a custom [Lambda](https://keras.io/layers/core/#lambda) layer in Keras by using this line of code:\n",
    "```    \n",
    "           x = Lambda(lambda x: X[:,t,:])(X)\n",
    "``` \n",
    "Look over the Keras documentation to figure out what this does. It is creating a \"temporary\" or \"unnamed\" function (that's what Lambda functions are) that extracts out the appropriate one-hot vector, and making this function a Keras `Layer` object to apply to `X`. \n",
    "\n",
    "    B. Reshape x to be (1,78). You may find the `reshapor()` layer (defined below) helpful.\n",
    "\n",
    "    C. Run x through one step of LSTM_cell. Remember to initialize the LSTM_cell with the previous step's hidden state $a$ and cell state $c$. Use the following formatting:\n",
    "```python\n",
    "a, _, c = LSTM_cell(input_x, initial_state=[previous hidden state, previous cell state])\n",
    "```\n",
    "\n",
    "    D. Propagate the LSTM's output activation value through a dense+softmax layer using `densor`. \n",
    "    \n",
    "    E. Append the predicted value to the list of \"outputs\"\n",
    " \n"
   ]
  },
  {
   "cell_type": "code",
   "execution_count": 15,
   "metadata": {
    "collapsed": true
   },
   "outputs": [],
   "source": [
    "# GRADED FUNCTION: djmodel\n",
    "\n",
    "def djmodel(Tx, n_a, n_values):\n",
    "    \"\"\"\n",
    "    Implement the model\n",
    "    \n",
    "    Arguments:\n",
    "    Tx -- length of the sequence in a corpus\n",
    "    n_a -- the number of activations used in our model\n",
    "    n_values -- number of unique values in the music data \n",
    "    \n",
    "    Returns:\n",
    "    model -- a keras model with the \n",
    "    \"\"\"\n",
    "    \n",
    "    # Define the input of your model with a shape \n",
    "    X = Input(shape=(Tx, n_values))\n",
    "    \n",
    "    # Define s0, initial hidden state for the decoder LSTM\n",
    "    a0 = Input(shape=(n_a,), name='a0')\n",
    "    c0 = Input(shape=(n_a,), name='c0')\n",
    "    a = a0\n",
    "    c = c0\n",
    "    \n",
    "    ### START CODE HERE ### \n",
    "    # Step 1: Create empty list to append the outputs while you iterate (≈1 line)\n",
    "    outputs = []\n",
    "    \n",
    "    # Step 2: Loop\n",
    "    for t in range(Tx):\n",
    "        \n",
    "        # Step 2.A: select the \"t\"th time step vector from X. \n",
    "        x = Lambda(lambda x : X[:, t, :])(X)\n",
    "        # Step 2.B: Use reshapor to reshape x to be (1, n_values) (≈1 line)\n",
    "        x = reshapor(x)\n",
    "        # Step 2.C: Perform one step of the LSTM_cell\n",
    "        a, _, c = LSTM_cell(x, initial_state=[a, c])\n",
    "        # Step 2.D: Apply densor to the hidden state output of LSTM_Cell\n",
    "        out = densor(a)\n",
    "        # Step 2.E: add the output to \"outputs\"\n",
    "        outputs.append(out)\n",
    "        \n",
    "    # Step 3: Create model instance\n",
    "    model = Model(inputs=(X, a0, c0), outputs=outputs)\n",
    "    \n",
    "    ### END CODE HERE ###\n",
    "    \n",
    "    return model"
   ]
  },
  {
   "cell_type": "markdown",
   "metadata": {},
   "source": [
    "Run the following cell to define your model. We will use `Tx=30`, `n_a=64` (the dimension of the LSTM activations), and `n_values=78`. This cell may take a few seconds to run. "
   ]
  },
  {
   "cell_type": "code",
   "execution_count": 16,
   "metadata": {
    "collapsed": true
   },
   "outputs": [],
   "source": [
    "model = djmodel(Tx = 30 , n_a = 64, n_values = 78)"
   ]
  },
  {
   "cell_type": "markdown",
   "metadata": {},
   "source": [
    "You now need to compile your model to be trained. We will Adam and a categorical cross-entropy loss."
   ]
  },
  {
   "cell_type": "code",
   "execution_count": 17,
   "metadata": {},
   "outputs": [],
   "source": [
    "opt = Adam(lr=0.01, beta_1=0.9, beta_2=0.999, decay=0.01)\n",
    "\n",
    "model.compile(optimizer=opt, loss='categorical_crossentropy', metrics=['accuracy'])"
   ]
  },
  {
   "cell_type": "markdown",
   "metadata": {},
   "source": [
    "Finally, lets initialize `a0` and `c0` for the LSTM's initial state to be zero. "
   ]
  },
  {
   "cell_type": "code",
   "execution_count": 18,
   "metadata": {
    "collapsed": true,
    "scrolled": true
   },
   "outputs": [],
   "source": [
    "m = 60\n",
    "a0 = np.zeros((m, n_a))\n",
    "c0 = np.zeros((m, n_a))"
   ]
  },
  {
   "cell_type": "markdown",
   "metadata": {},
   "source": [
    "Lets now fit the model! We will turn `Y` to a list before doing so, since the cost function expects `Y` to be provided in this format (one list item per time-step). So `list(Y)` is a list with 30 items, where each of the list items is of shape (60,78). Lets train for 100 epochs. This will take a few minutes. \n",
    "\n"
   ]
  },
  {
   "cell_type": "code",
   "execution_count": null,
   "metadata": {
    "scrolled": true
   },
   "outputs": [
    {
     "name": "stdout",
     "output_type": "stream",
     "text": [
      "Epoch 1/100\n",
      "60/60 [==============================] - 16s - loss: 33.5095 - dense_1_loss_1: 3.8548 - dense_1_loss_2: 1.9154 - dense_1_loss_3: 1.1467 - dense_1_loss_4: 0.8268 - dense_1_loss_5: 0.6992 - dense_1_loss_6: 0.7612 - dense_1_loss_7: 0.7640 - dense_1_loss_8: 0.8454 - dense_1_loss_9: 0.9166 - dense_1_loss_10: 0.8556 - dense_1_loss_11: 0.9481 - dense_1_loss_12: 0.9468 - dense_1_loss_13: 0.8297 - dense_1_loss_14: 1.0404 - dense_1_loss_15: 1.0395 - dense_1_loss_16: 1.0454 - dense_1_loss_17: 1.0789 - dense_1_loss_18: 1.1167 - dense_1_loss_19: 1.0618 - dense_1_loss_20: 0.9866 - dense_1_loss_21: 1.0661 - dense_1_loss_22: 1.2705 - dense_1_loss_23: 1.1374 - dense_1_loss_24: 1.2453 - dense_1_loss_25: 1.1461 - dense_1_loss_26: 1.2627 - dense_1_loss_27: 1.4045 - dense_1_loss_28: 1.0700 - dense_1_loss_29: 1.2274 - dense_1_loss_30: 0.0000e+00 - dense_1_acc_1: 0.1000 - dense_1_acc_2: 0.6333 - dense_1_acc_3: 0.8667 - dense_1_acc_4: 0.9667 - dense_1_acc_5: 1.0000 - dense_1_acc_6: 0.9500 - dense_1_acc_7: 0.9667 - dense_1_acc_8: 0.9833 - dense_1_acc_9: 0.9333 - dense_1_acc_10: 0.9667 - dense_1_acc_11: 0.8833 - dense_1_acc_12: 0.8833 - dense_1_acc_13: 0.9500 - dense_1_acc_14: 0.8333 - dense_1_acc_15: 0.8333 - dense_1_acc_16: 0.8000 - dense_1_acc_17: 0.7667 - dense_1_acc_18: 0.7667 - dense_1_acc_19: 0.7667 - dense_1_acc_20: 0.8167 - dense_1_acc_21: 0.8667 - dense_1_acc_22: 0.7000 - dense_1_acc_23: 0.8167 - dense_1_acc_24: 0.7000 - dense_1_acc_25: 0.7667 - dense_1_acc_26: 0.7167 - dense_1_acc_27: 0.6500 - dense_1_acc_28: 0.8333 - dense_1_acc_29: 0.7333 - dense_1_acc_30: 0.0000e+00     \n",
      "Epoch 2/100\n",
      "60/60 [==============================] - 1s - loss: 26.6297 - dense_1_loss_1: 3.8445 - dense_1_loss_2: 1.8438 - dense_1_loss_3: 1.0078 - dense_1_loss_4: 0.6855 - dense_1_loss_5: 0.6136 - dense_1_loss_6: 0.5760 - dense_1_loss_7: 0.6156 - dense_1_loss_8: 0.6208 - dense_1_loss_9: 0.7158 - dense_1_loss_10: 0.6967 - dense_1_loss_11: 0.7181 - dense_1_loss_12: 0.7578 - dense_1_loss_13: 0.7133 - dense_1_loss_14: 0.7281 - dense_1_loss_15: 0.8535 - dense_1_loss_16: 0.7221 - dense_1_loss_17: 0.7701 - dense_1_loss_18: 0.7939 - dense_1_loss_19: 0.8324 - dense_1_loss_20: 0.8816 - dense_1_loss_21: 0.8395 - dense_1_loss_22: 0.8616 - dense_1_loss_23: 0.8983 - dense_1_loss_24: 0.7952 - dense_1_loss_25: 0.8121 - dense_1_loss_26: 0.8936 - dense_1_loss_27: 0.9004 - dense_1_loss_28: 0.7785 - dense_1_loss_29: 0.8597 - dense_1_loss_30: 0.0000e+00 - dense_1_acc_1: 0.0833 - dense_1_acc_2: 0.6333 - dense_1_acc_3: 0.9000 - dense_1_acc_4: 1.0000 - dense_1_acc_5: 1.0000 - dense_1_acc_6: 1.0000 - dense_1_acc_7: 1.0000 - dense_1_acc_8: 1.0000 - dense_1_acc_9: 0.9667 - dense_1_acc_10: 0.9833 - dense_1_acc_11: 0.9333 - dense_1_acc_12: 0.9500 - dense_1_acc_13: 0.9167 - dense_1_acc_14: 0.9667 - dense_1_acc_15: 0.8833 - dense_1_acc_16: 0.9167 - dense_1_acc_17: 0.9167 - dense_1_acc_18: 0.9167 - dense_1_acc_19: 0.9167 - dense_1_acc_20: 0.8167 - dense_1_acc_21: 0.8667 - dense_1_acc_22: 0.8833 - dense_1_acc_23: 0.8667 - dense_1_acc_24: 0.9167 - dense_1_acc_25: 0.9333 - dense_1_acc_26: 0.8500 - dense_1_acc_27: 0.8500 - dense_1_acc_28: 0.8833 - dense_1_acc_29: 0.9167 - dense_1_acc_30: 0.0000e+00     \n",
      "Epoch 3/100\n",
      "60/60 [==============================] - 1s - loss: 21.1532 - dense_1_loss_1: 3.8276 - dense_1_loss_2: 1.7794 - dense_1_loss_3: 0.9178 - dense_1_loss_4: 0.6150 - dense_1_loss_5: 0.5463 - dense_1_loss_6: 0.4996 - dense_1_loss_7: 0.4942 - dense_1_loss_8: 0.4714 - dense_1_loss_9: 0.5438 - dense_1_loss_10: 0.5256 - dense_1_loss_11: 0.5409 - dense_1_loss_12: 0.5490 - dense_1_loss_13: 0.4856 - dense_1_loss_14: 0.5672 - dense_1_loss_15: 0.6082 - dense_1_loss_16: 0.5466 - dense_1_loss_17: 0.5528 - dense_1_loss_18: 0.5104 - dense_1_loss_19: 0.5921 - dense_1_loss_20: 0.6515 - dense_1_loss_21: 0.5703 - dense_1_loss_22: 0.6480 - dense_1_loss_23: 0.5804 - dense_1_loss_24: 0.6118 - dense_1_loss_25: 0.6332 - dense_1_loss_26: 0.5248 - dense_1_loss_27: 0.5589 - dense_1_loss_28: 0.5868 - dense_1_loss_29: 0.6140 - dense_1_loss_30: 0.0000e+00 - dense_1_acc_1: 0.0667 - dense_1_acc_2: 0.6333 - dense_1_acc_3: 0.8500 - dense_1_acc_4: 1.0000 - dense_1_acc_5: 1.0000 - dense_1_acc_6: 0.9500 - dense_1_acc_7: 0.9833 - dense_1_acc_8: 0.9833 - dense_1_acc_9: 0.9833 - dense_1_acc_10: 0.9667 - dense_1_acc_11: 0.9833 - dense_1_acc_12: 0.9833 - dense_1_acc_13: 0.9667 - dense_1_acc_14: 0.9000 - dense_1_acc_15: 0.9500 - dense_1_acc_16: 1.0000 - dense_1_acc_17: 0.9667 - dense_1_acc_18: 1.0000 - dense_1_acc_19: 0.9667 - dense_1_acc_20: 0.9333 - dense_1_acc_21: 0.9833 - dense_1_acc_22: 0.9667 - dense_1_acc_23: 0.9667 - dense_1_acc_24: 0.9833 - dense_1_acc_25: 0.9500 - dense_1_acc_26: 0.9500 - dense_1_acc_27: 0.9500 - dense_1_acc_28: 0.9833 - dense_1_acc_29: 0.9333 - dense_1_acc_30: 0.0000e+00     \n",
      "Epoch 4/100\n",
      "60/60 [==============================] - 1s - loss: 17.7797 - dense_1_loss_1: 3.8142 - dense_1_loss_2: 1.7169 - dense_1_loss_3: 0.8319 - dense_1_loss_4: 0.5454 - dense_1_loss_5: 0.4732 - dense_1_loss_6: 0.4157 - dense_1_loss_7: 0.4189 - dense_1_loss_8: 0.3768 - dense_1_loss_9: 0.4315 - dense_1_loss_10: 0.3921 - dense_1_loss_11: 0.4086 - dense_1_loss_12: 0.4121 - dense_1_loss_13: 0.3589 - dense_1_loss_14: 0.4246 - dense_1_loss_15: 0.4379 - dense_1_loss_16: 0.3984 - dense_1_loss_17: 0.3855 - dense_1_loss_18: 0.4227 - dense_1_loss_19: 0.4194 - dense_1_loss_20: 0.4794 - dense_1_loss_21: 0.4666 - dense_1_loss_22: 0.4742 - dense_1_loss_23: 0.4601 - dense_1_loss_24: 0.4970 - dense_1_loss_25: 0.4775 - dense_1_loss_26: 0.4237 - dense_1_loss_27: 0.4302 - dense_1_loss_28: 0.4852 - dense_1_loss_29: 0.5009 - dense_1_loss_30: 0.0000e+00 - dense_1_acc_1: 0.0667 - dense_1_acc_2: 0.6167 - dense_1_acc_3: 0.8500 - dense_1_acc_4: 1.0000 - dense_1_acc_5: 0.9833 - dense_1_acc_6: 0.9833 - dense_1_acc_7: 0.9833 - dense_1_acc_8: 0.9833 - dense_1_acc_9: 1.0000 - dense_1_acc_10: 1.0000 - dense_1_acc_11: 0.9833 - dense_1_acc_12: 0.9833 - dense_1_acc_13: 1.0000 - dense_1_acc_14: 0.9833 - dense_1_acc_15: 0.9667 - dense_1_acc_16: 1.0000 - dense_1_acc_17: 1.0000 - dense_1_acc_18: 1.0000 - dense_1_acc_19: 1.0000 - dense_1_acc_20: 0.9667 - dense_1_acc_21: 0.9667 - dense_1_acc_22: 0.9667 - dense_1_acc_23: 0.9833 - dense_1_acc_24: 1.0000 - dense_1_acc_25: 1.0000 - dense_1_acc_26: 0.9667 - dense_1_acc_27: 0.9833 - dense_1_acc_28: 0.9667 - dense_1_acc_29: 0.9667 - dense_1_acc_30: 0.0000e+00     \n",
      "Epoch 5/100\n",
      "60/60 [==============================] - 1s - loss: 15.1257 - dense_1_loss_1: 3.8005 - dense_1_loss_2: 1.6493 - dense_1_loss_3: 0.7566 - dense_1_loss_4: 0.4759 - dense_1_loss_5: 0.3922 - dense_1_loss_6: 0.3280 - dense_1_loss_7: 0.3325 - dense_1_loss_8: 0.3202 - dense_1_loss_9: 0.3345 - dense_1_loss_10: 0.2993 - dense_1_loss_11: 0.3172 - dense_1_loss_12: 0.3384 - dense_1_loss_13: 0.2850 - dense_1_loss_14: 0.3341 - dense_1_loss_15: 0.3330 - dense_1_loss_16: 0.3169 - dense_1_loss_17: 0.3098 - dense_1_loss_18: 0.3111 - dense_1_loss_19: 0.3048 - dense_1_loss_20: 0.3695 - dense_1_loss_21: 0.3677 - dense_1_loss_22: 0.3429 - dense_1_loss_23: 0.3531 - dense_1_loss_24: 0.3704 - dense_1_loss_25: 0.3418 - dense_1_loss_26: 0.3234 - dense_1_loss_27: 0.3301 - dense_1_loss_28: 0.4044 - dense_1_loss_29: 0.3829 - dense_1_loss_30: 0.0000e+00 - dense_1_acc_1: 0.0667 - dense_1_acc_2: 0.6167 - dense_1_acc_3: 0.8667 - dense_1_acc_4: 0.9667 - dense_1_acc_5: 0.9833 - dense_1_acc_6: 1.0000 - dense_1_acc_7: 0.9833 - dense_1_acc_8: 0.9833 - dense_1_acc_9: 0.9833 - dense_1_acc_10: 1.0000 - dense_1_acc_11: 1.0000 - dense_1_acc_12: 1.0000 - dense_1_acc_13: 1.0000 - dense_1_acc_14: 1.0000 - dense_1_acc_15: 1.0000 - dense_1_acc_16: 1.0000 - dense_1_acc_17: 0.9833 - dense_1_acc_18: 1.0000 - dense_1_acc_19: 1.0000 - dense_1_acc_20: 0.9833 - dense_1_acc_21: 0.9667 - dense_1_acc_22: 1.0000 - dense_1_acc_23: 1.0000 - dense_1_acc_24: 1.0000 - dense_1_acc_25: 1.0000 - dense_1_acc_26: 0.9833 - dense_1_acc_27: 1.0000 - dense_1_acc_28: 0.9500 - dense_1_acc_29: 0.9667 - dense_1_acc_30: 0.0000e+00     \n",
      "Epoch 6/100\n"
     ]
    },
    {
     "name": "stdout",
     "output_type": "stream",
     "text": [
      "60/60 [==============================] - 1s - loss: 13.1291 - dense_1_loss_1: 3.7877 - dense_1_loss_2: 1.5885 - dense_1_loss_3: 0.6867 - dense_1_loss_4: 0.4114 - dense_1_loss_5: 0.3322 - dense_1_loss_6: 0.2653 - dense_1_loss_7: 0.2588 - dense_1_loss_8: 0.2738 - dense_1_loss_9: 0.2788 - dense_1_loss_10: 0.2185 - dense_1_loss_11: 0.2568 - dense_1_loss_12: 0.2619 - dense_1_loss_13: 0.2269 - dense_1_loss_14: 0.2491 - dense_1_loss_15: 0.2562 - dense_1_loss_16: 0.2637 - dense_1_loss_17: 0.2356 - dense_1_loss_18: 0.2559 - dense_1_loss_19: 0.2320 - dense_1_loss_20: 0.2765 - dense_1_loss_21: 0.2824 - dense_1_loss_22: 0.2721 - dense_1_loss_23: 0.2702 - dense_1_loss_24: 0.2717 - dense_1_loss_25: 0.2596 - dense_1_loss_26: 0.2634 - dense_1_loss_27: 0.2737 - dense_1_loss_28: 0.3170 - dense_1_loss_29: 0.3026 - dense_1_loss_30: 0.0000e+00 - dense_1_acc_1: 0.0667 - dense_1_acc_2: 0.6167 - dense_1_acc_3: 0.8667 - dense_1_acc_4: 0.9667 - dense_1_acc_5: 1.0000 - dense_1_acc_6: 1.0000 - dense_1_acc_7: 1.0000 - dense_1_acc_8: 1.0000 - dense_1_acc_9: 0.9833 - dense_1_acc_10: 1.0000 - dense_1_acc_11: 1.0000 - dense_1_acc_12: 1.0000 - dense_1_acc_13: 1.0000 - dense_1_acc_14: 1.0000 - dense_1_acc_15: 1.0000 - dense_1_acc_16: 1.0000 - dense_1_acc_17: 1.0000 - dense_1_acc_18: 1.0000 - dense_1_acc_19: 1.0000 - dense_1_acc_20: 1.0000 - dense_1_acc_21: 1.0000 - dense_1_acc_22: 1.0000 - dense_1_acc_23: 1.0000 - dense_1_acc_24: 0.9833 - dense_1_acc_25: 1.0000 - dense_1_acc_26: 0.9833 - dense_1_acc_27: 0.9833 - dense_1_acc_28: 0.9500 - dense_1_acc_29: 0.9667 - dense_1_acc_30: 0.0000e+00     \n",
      "Epoch 7/100\n",
      "60/60 [==============================] - 1s - loss: 11.5468 - dense_1_loss_1: 3.7777 - dense_1_loss_2: 1.5300 - dense_1_loss_3: 0.6265 - dense_1_loss_4: 0.3479 - dense_1_loss_5: 0.2777 - dense_1_loss_6: 0.2163 - dense_1_loss_7: 0.2025 - dense_1_loss_8: 0.2198 - dense_1_loss_9: 0.2406 - dense_1_loss_10: 0.1691 - dense_1_loss_11: 0.1957 - dense_1_loss_12: 0.1997 - dense_1_loss_13: 0.1687 - dense_1_loss_14: 0.1848 - dense_1_loss_15: 0.1967 - dense_1_loss_16: 0.2094 - dense_1_loss_17: 0.1878 - dense_1_loss_18: 0.1943 - dense_1_loss_19: 0.1837 - dense_1_loss_20: 0.2142 - dense_1_loss_21: 0.2239 - dense_1_loss_22: 0.2147 - dense_1_loss_23: 0.2057 - dense_1_loss_24: 0.2117 - dense_1_loss_25: 0.2099 - dense_1_loss_26: 0.2168 - dense_1_loss_27: 0.2189 - dense_1_loss_28: 0.2412 - dense_1_loss_29: 0.2609 - dense_1_loss_30: 0.0000e+00 - dense_1_acc_1: 0.1000 - dense_1_acc_2: 0.5833 - dense_1_acc_3: 0.8667 - dense_1_acc_4: 0.9667 - dense_1_acc_5: 1.0000 - dense_1_acc_6: 1.0000 - dense_1_acc_7: 1.0000 - dense_1_acc_8: 1.0000 - dense_1_acc_9: 0.9833 - dense_1_acc_10: 1.0000 - dense_1_acc_11: 1.0000 - dense_1_acc_12: 1.0000 - dense_1_acc_13: 1.0000 - dense_1_acc_14: 1.0000 - dense_1_acc_15: 1.0000 - dense_1_acc_16: 1.0000 - dense_1_acc_17: 1.0000 - dense_1_acc_18: 1.0000 - dense_1_acc_19: 1.0000 - dense_1_acc_20: 1.0000 - dense_1_acc_21: 1.0000 - dense_1_acc_22: 1.0000 - dense_1_acc_23: 1.0000 - dense_1_acc_24: 1.0000 - dense_1_acc_25: 1.0000 - dense_1_acc_26: 0.9833 - dense_1_acc_27: 1.0000 - dense_1_acc_28: 0.9833 - dense_1_acc_29: 0.9667 - dense_1_acc_30: 0.0000e+00     \n",
      "Epoch 8/100\n",
      "60/60 [==============================] - 1s - loss: 10.2879 - dense_1_loss_1: 3.7677 - dense_1_loss_2: 1.4739 - dense_1_loss_3: 0.5739 - dense_1_loss_4: 0.2882 - dense_1_loss_5: 0.2300 - dense_1_loss_6: 0.1774 - dense_1_loss_7: 0.1590 - dense_1_loss_8: 0.1769 - dense_1_loss_9: 0.2066 - dense_1_loss_10: 0.1327 - dense_1_loss_11: 0.1475 - dense_1_loss_12: 0.1497 - dense_1_loss_13: 0.1300 - dense_1_loss_14: 0.1491 - dense_1_loss_15: 0.1501 - dense_1_loss_16: 0.1649 - dense_1_loss_17: 0.1496 - dense_1_loss_18: 0.1442 - dense_1_loss_19: 0.1539 - dense_1_loss_20: 0.1670 - dense_1_loss_21: 0.1816 - dense_1_loss_22: 0.1637 - dense_1_loss_23: 0.1616 - dense_1_loss_24: 0.1619 - dense_1_loss_25: 0.1772 - dense_1_loss_26: 0.1786 - dense_1_loss_27: 0.1704 - dense_1_loss_28: 0.1868 - dense_1_loss_29: 0.2139 - dense_1_loss_30: 0.0000e+00 - dense_1_acc_1: 0.1000 - dense_1_acc_2: 0.6000 - dense_1_acc_3: 0.8667 - dense_1_acc_4: 0.9667 - dense_1_acc_5: 1.0000 - dense_1_acc_6: 1.0000 - dense_1_acc_7: 1.0000 - dense_1_acc_8: 1.0000 - dense_1_acc_9: 0.9833 - dense_1_acc_10: 1.0000 - dense_1_acc_11: 1.0000 - dense_1_acc_12: 1.0000 - dense_1_acc_13: 1.0000 - dense_1_acc_14: 1.0000 - dense_1_acc_15: 1.0000 - dense_1_acc_16: 1.0000 - dense_1_acc_17: 1.0000 - dense_1_acc_18: 1.0000 - dense_1_acc_19: 1.0000 - dense_1_acc_20: 1.0000 - dense_1_acc_21: 1.0000 - dense_1_acc_22: 1.0000 - dense_1_acc_23: 1.0000 - dense_1_acc_24: 1.0000 - dense_1_acc_25: 1.0000 - dense_1_acc_26: 0.9833 - dense_1_acc_27: 1.0000 - dense_1_acc_28: 0.9833 - dense_1_acc_29: 0.9667 - dense_1_acc_30: 0.0000e+00     \n",
      "Epoch 9/100\n",
      "60/60 [==============================] - 1s - loss: 9.3172 - dense_1_loss_1: 3.7580 - dense_1_loss_2: 1.4284 - dense_1_loss_3: 0.5295 - dense_1_loss_4: 0.2390 - dense_1_loss_5: 0.1900 - dense_1_loss_6: 0.1467 - dense_1_loss_7: 0.1287 - dense_1_loss_8: 0.1394 - dense_1_loss_9: 0.1742 - dense_1_loss_10: 0.1096 - dense_1_loss_11: 0.1196 - dense_1_loss_12: 0.1161 - dense_1_loss_13: 0.1034 - dense_1_loss_14: 0.1204 - dense_1_loss_15: 0.1149 - dense_1_loss_16: 0.1283 - dense_1_loss_17: 0.1224 - dense_1_loss_18: 0.1118 - dense_1_loss_19: 0.1277 - dense_1_loss_20: 0.1313 - dense_1_loss_21: 0.1486 - dense_1_loss_22: 0.1305 - dense_1_loss_23: 0.1283 - dense_1_loss_24: 0.1257 - dense_1_loss_25: 0.1419 - dense_1_loss_26: 0.1434 - dense_1_loss_27: 0.1306 - dense_1_loss_28: 0.1485 - dense_1_loss_29: 0.1800 - dense_1_loss_30: 0.0000e+00 - dense_1_acc_1: 0.1000 - dense_1_acc_2: 0.6000 - dense_1_acc_3: 0.8667 - dense_1_acc_4: 0.9667 - dense_1_acc_5: 1.0000 - dense_1_acc_6: 1.0000 - dense_1_acc_7: 1.0000 - dense_1_acc_8: 1.0000 - dense_1_acc_9: 1.0000 - dense_1_acc_10: 1.0000 - dense_1_acc_11: 1.0000 - dense_1_acc_12: 1.0000 - dense_1_acc_13: 1.0000 - dense_1_acc_14: 1.0000 - dense_1_acc_15: 1.0000 - dense_1_acc_16: 1.0000 - dense_1_acc_17: 1.0000 - dense_1_acc_18: 1.0000 - dense_1_acc_19: 1.0000 - dense_1_acc_20: 1.0000 - dense_1_acc_21: 1.0000 - dense_1_acc_22: 1.0000 - dense_1_acc_23: 1.0000 - dense_1_acc_24: 1.0000 - dense_1_acc_25: 1.0000 - dense_1_acc_26: 1.0000 - dense_1_acc_27: 1.0000 - dense_1_acc_28: 0.9833 - dense_1_acc_29: 0.9833 - dense_1_acc_30: 0.0000e+00     \n",
      "Epoch 10/100\n",
      "60/60 [==============================] - 1s - loss: 8.5549 - dense_1_loss_1: 3.7491 - dense_1_loss_2: 1.3852 - dense_1_loss_3: 0.4895 - dense_1_loss_4: 0.2041 - dense_1_loss_5: 0.1604 - dense_1_loss_6: 0.1202 - dense_1_loss_7: 0.1074 - dense_1_loss_8: 0.1101 - dense_1_loss_9: 0.1472 - dense_1_loss_10: 0.0947 - dense_1_loss_11: 0.0979 - dense_1_loss_12: 0.0948 - dense_1_loss_13: 0.0815 - dense_1_loss_14: 0.0994 - dense_1_loss_15: 0.0952 - dense_1_loss_16: 0.1010 - dense_1_loss_17: 0.0983 - dense_1_loss_18: 0.0882 - dense_1_loss_19: 0.1026 - dense_1_loss_20: 0.1071 - dense_1_loss_21: 0.1170 - dense_1_loss_22: 0.1060 - dense_1_loss_23: 0.1044 - dense_1_loss_24: 0.0975 - dense_1_loss_25: 0.1096 - dense_1_loss_26: 0.1103 - dense_1_loss_27: 0.1046 - dense_1_loss_28: 0.1276 - dense_1_loss_29: 0.1439 - dense_1_loss_30: 0.0000e+00 - dense_1_acc_1: 0.1000 - dense_1_acc_2: 0.6500 - dense_1_acc_3: 0.8833 - dense_1_acc_4: 0.9833 - dense_1_acc_5: 1.0000 - dense_1_acc_6: 1.0000 - dense_1_acc_7: 1.0000 - dense_1_acc_8: 1.0000 - dense_1_acc_9: 1.0000 - dense_1_acc_10: 1.0000 - dense_1_acc_11: 1.0000 - dense_1_acc_12: 1.0000 - dense_1_acc_13: 1.0000 - dense_1_acc_14: 1.0000 - dense_1_acc_15: 1.0000 - dense_1_acc_16: 1.0000 - dense_1_acc_17: 1.0000 - dense_1_acc_18: 1.0000 - dense_1_acc_19: 1.0000 - dense_1_acc_20: 1.0000 - dense_1_acc_21: 1.0000 - dense_1_acc_22: 1.0000 - dense_1_acc_23: 1.0000 - dense_1_acc_24: 1.0000 - dense_1_acc_25: 1.0000 - dense_1_acc_26: 1.0000 - dense_1_acc_27: 1.0000 - dense_1_acc_28: 0.9833 - dense_1_acc_29: 0.9833 - dense_1_acc_30: 0.0000e+00     \n",
      "Epoch 11/100\n"
     ]
    },
    {
     "name": "stdout",
     "output_type": "stream",
     "text": [
      "60/60 [==============================] - 1s - loss: 7.9800 - dense_1_loss_1: 3.7398 - dense_1_loss_2: 1.3475 - dense_1_loss_3: 0.4565 - dense_1_loss_4: 0.1756 - dense_1_loss_5: 0.1372 - dense_1_loss_6: 0.1010 - dense_1_loss_7: 0.0898 - dense_1_loss_8: 0.0890 - dense_1_loss_9: 0.1271 - dense_1_loss_10: 0.0837 - dense_1_loss_11: 0.0784 - dense_1_loss_12: 0.0781 - dense_1_loss_13: 0.0682 - dense_1_loss_14: 0.0835 - dense_1_loss_15: 0.0794 - dense_1_loss_16: 0.0796 - dense_1_loss_17: 0.0812 - dense_1_loss_18: 0.0736 - dense_1_loss_19: 0.0801 - dense_1_loss_20: 0.0896 - dense_1_loss_21: 0.0920 - dense_1_loss_22: 0.0873 - dense_1_loss_23: 0.0840 - dense_1_loss_24: 0.0817 - dense_1_loss_25: 0.0882 - dense_1_loss_26: 0.0838 - dense_1_loss_27: 0.0929 - dense_1_loss_28: 0.1116 - dense_1_loss_29: 0.1198 - dense_1_loss_30: 0.0000e+00 - dense_1_acc_1: 0.1000 - dense_1_acc_2: 0.6500 - dense_1_acc_3: 0.8833 - dense_1_acc_4: 0.9833 - dense_1_acc_5: 1.0000 - dense_1_acc_6: 1.0000 - dense_1_acc_7: 1.0000 - dense_1_acc_8: 1.0000 - dense_1_acc_9: 0.9833 - dense_1_acc_10: 1.0000 - dense_1_acc_11: 1.0000 - dense_1_acc_12: 1.0000 - dense_1_acc_13: 1.0000 - dense_1_acc_14: 1.0000 - dense_1_acc_15: 1.0000 - dense_1_acc_16: 1.0000 - dense_1_acc_17: 1.0000 - dense_1_acc_18: 1.0000 - dense_1_acc_19: 1.0000 - dense_1_acc_20: 1.0000 - dense_1_acc_21: 1.0000 - dense_1_acc_22: 1.0000 - dense_1_acc_23: 1.0000 - dense_1_acc_24: 1.0000 - dense_1_acc_25: 1.0000 - dense_1_acc_26: 1.0000 - dense_1_acc_27: 1.0000 - dense_1_acc_28: 0.9833 - dense_1_acc_29: 0.9833 - dense_1_acc_30: 0.0000e+00     \n",
      "Epoch 12/100\n",
      "60/60 [==============================] - 1s - loss: 7.5157 - dense_1_loss_1: 3.7317 - dense_1_loss_2: 1.3116 - dense_1_loss_3: 0.4265 - dense_1_loss_4: 0.1515 - dense_1_loss_5: 0.1178 - dense_1_loss_6: 0.0884 - dense_1_loss_7: 0.0746 - dense_1_loss_8: 0.0746 - dense_1_loss_9: 0.1096 - dense_1_loss_10: 0.0719 - dense_1_loss_11: 0.0636 - dense_1_loss_12: 0.0642 - dense_1_loss_13: 0.0585 - dense_1_loss_14: 0.0688 - dense_1_loss_15: 0.0648 - dense_1_loss_16: 0.0656 - dense_1_loss_17: 0.0675 - dense_1_loss_18: 0.0664 - dense_1_loss_19: 0.0653 - dense_1_loss_20: 0.0744 - dense_1_loss_21: 0.0729 - dense_1_loss_22: 0.0697 - dense_1_loss_23: 0.0694 - dense_1_loss_24: 0.0670 - dense_1_loss_25: 0.0724 - dense_1_loss_26: 0.0692 - dense_1_loss_27: 0.0817 - dense_1_loss_28: 0.0972 - dense_1_loss_29: 0.0989 - dense_1_loss_30: 0.0000e+00 - dense_1_acc_1: 0.1000 - dense_1_acc_2: 0.6500 - dense_1_acc_3: 0.9000 - dense_1_acc_4: 1.0000 - dense_1_acc_5: 1.0000 - dense_1_acc_6: 1.0000 - dense_1_acc_7: 1.0000 - dense_1_acc_8: 1.0000 - dense_1_acc_9: 0.9833 - dense_1_acc_10: 1.0000 - dense_1_acc_11: 1.0000 - dense_1_acc_12: 1.0000 - dense_1_acc_13: 1.0000 - dense_1_acc_14: 1.0000 - dense_1_acc_15: 1.0000 - dense_1_acc_16: 1.0000 - dense_1_acc_17: 1.0000 - dense_1_acc_18: 1.0000 - dense_1_acc_19: 1.0000 - dense_1_acc_20: 1.0000 - dense_1_acc_21: 1.0000 - dense_1_acc_22: 1.0000 - dense_1_acc_23: 1.0000 - dense_1_acc_24: 1.0000 - dense_1_acc_25: 1.0000 - dense_1_acc_26: 1.0000 - dense_1_acc_27: 1.0000 - dense_1_acc_28: 0.9833 - dense_1_acc_29: 1.0000 - dense_1_acc_30: 0.0000e+00         \n",
      "Epoch 13/100\n",
      "60/60 [==============================] - 1s - loss: 7.1547 - dense_1_loss_1: 3.7241 - dense_1_loss_2: 1.2815 - dense_1_loss_3: 0.4012 - dense_1_loss_4: 0.1330 - dense_1_loss_5: 0.1038 - dense_1_loss_6: 0.0784 - dense_1_loss_7: 0.0648 - dense_1_loss_8: 0.0649 - dense_1_loss_9: 0.0969 - dense_1_loss_10: 0.0640 - dense_1_loss_11: 0.0534 - dense_1_loss_12: 0.0539 - dense_1_loss_13: 0.0507 - dense_1_loss_14: 0.0577 - dense_1_loss_15: 0.0545 - dense_1_loss_16: 0.0543 - dense_1_loss_17: 0.0560 - dense_1_loss_18: 0.0574 - dense_1_loss_19: 0.0553 - dense_1_loss_20: 0.0614 - dense_1_loss_21: 0.0614 - dense_1_loss_22: 0.0565 - dense_1_loss_23: 0.0590 - dense_1_loss_24: 0.0559 - dense_1_loss_25: 0.0603 - dense_1_loss_26: 0.0589 - dense_1_loss_27: 0.0730 - dense_1_loss_28: 0.0837 - dense_1_loss_29: 0.0790 - dense_1_loss_30: 0.0000e+00 - dense_1_acc_1: 0.1000 - dense_1_acc_2: 0.6500 - dense_1_acc_3: 0.9000 - dense_1_acc_4: 1.0000 - dense_1_acc_5: 1.0000 - dense_1_acc_6: 1.0000 - dense_1_acc_7: 1.0000 - dense_1_acc_8: 1.0000 - dense_1_acc_9: 0.9833 - dense_1_acc_10: 1.0000 - dense_1_acc_11: 1.0000 - dense_1_acc_12: 1.0000 - dense_1_acc_13: 1.0000 - dense_1_acc_14: 1.0000 - dense_1_acc_15: 1.0000 - dense_1_acc_16: 1.0000 - dense_1_acc_17: 1.0000 - dense_1_acc_18: 1.0000 - dense_1_acc_19: 1.0000 - dense_1_acc_20: 1.0000 - dense_1_acc_21: 1.0000 - dense_1_acc_22: 1.0000 - dense_1_acc_23: 1.0000 - dense_1_acc_24: 1.0000 - dense_1_acc_25: 1.0000 - dense_1_acc_26: 1.0000 - dense_1_acc_27: 1.0000 - dense_1_acc_28: 0.9833 - dense_1_acc_29: 1.0000 - dense_1_acc_30: 0.0000e+00     \n",
      "Epoch 14/100\n",
      "60/60 [==============================] - 1s - loss: 6.8627 - dense_1_loss_1: 3.7158 - dense_1_loss_2: 1.2503 - dense_1_loss_3: 0.3783 - dense_1_loss_4: 0.1190 - dense_1_loss_5: 0.0926 - dense_1_loss_6: 0.0698 - dense_1_loss_7: 0.0562 - dense_1_loss_8: 0.0565 - dense_1_loss_9: 0.0833 - dense_1_loss_10: 0.0546 - dense_1_loss_11: 0.0477 - dense_1_loss_12: 0.0472 - dense_1_loss_13: 0.0441 - dense_1_loss_14: 0.0489 - dense_1_loss_15: 0.0475 - dense_1_loss_16: 0.0462 - dense_1_loss_17: 0.0488 - dense_1_loss_18: 0.0485 - dense_1_loss_19: 0.0482 - dense_1_loss_20: 0.0525 - dense_1_loss_21: 0.0517 - dense_1_loss_22: 0.0478 - dense_1_loss_23: 0.0513 - dense_1_loss_24: 0.0475 - dense_1_loss_25: 0.0521 - dense_1_loss_26: 0.0499 - dense_1_loss_27: 0.0661 - dense_1_loss_28: 0.0725 - dense_1_loss_29: 0.0682 - dense_1_loss_30: 0.0000e+00 - dense_1_acc_1: 0.1000 - dense_1_acc_2: 0.6500 - dense_1_acc_3: 0.9000 - dense_1_acc_4: 1.0000 - dense_1_acc_5: 1.0000 - dense_1_acc_6: 1.0000 - dense_1_acc_7: 1.0000 - dense_1_acc_8: 1.0000 - dense_1_acc_9: 1.0000 - dense_1_acc_10: 1.0000 - dense_1_acc_11: 1.0000 - dense_1_acc_12: 1.0000 - dense_1_acc_13: 1.0000 - dense_1_acc_14: 1.0000 - dense_1_acc_15: 1.0000 - dense_1_acc_16: 1.0000 - dense_1_acc_17: 1.0000 - dense_1_acc_18: 1.0000 - dense_1_acc_19: 1.0000 - dense_1_acc_20: 1.0000 - dense_1_acc_21: 1.0000 - dense_1_acc_22: 1.0000 - dense_1_acc_23: 1.0000 - dense_1_acc_24: 1.0000 - dense_1_acc_25: 1.0000 - dense_1_acc_26: 1.0000 - dense_1_acc_27: 1.0000 - dense_1_acc_28: 1.0000 - dense_1_acc_29: 1.0000 - dense_1_acc_30: 0.0000e+00     \n",
      "Epoch 15/100\n",
      "60/60 [==============================] - 1s - loss: 6.6120 - dense_1_loss_1: 3.7085 - dense_1_loss_2: 1.2262 - dense_1_loss_3: 0.3551 - dense_1_loss_4: 0.1078 - dense_1_loss_5: 0.0819 - dense_1_loss_6: 0.0628 - dense_1_loss_7: 0.0485 - dense_1_loss_8: 0.0497 - dense_1_loss_9: 0.0718 - dense_1_loss_10: 0.0456 - dense_1_loss_11: 0.0424 - dense_1_loss_12: 0.0412 - dense_1_loss_13: 0.0380 - dense_1_loss_14: 0.0421 - dense_1_loss_15: 0.0415 - dense_1_loss_16: 0.0404 - dense_1_loss_17: 0.0424 - dense_1_loss_18: 0.0418 - dense_1_loss_19: 0.0423 - dense_1_loss_20: 0.0445 - dense_1_loss_21: 0.0437 - dense_1_loss_22: 0.0422 - dense_1_loss_23: 0.0434 - dense_1_loss_24: 0.0417 - dense_1_loss_25: 0.0447 - dense_1_loss_26: 0.0441 - dense_1_loss_27: 0.0588 - dense_1_loss_28: 0.0597 - dense_1_loss_29: 0.0591 - dense_1_loss_30: 0.0000e+00 - dense_1_acc_1: 0.1000 - dense_1_acc_2: 0.6500 - dense_1_acc_3: 0.9000 - dense_1_acc_4: 1.0000 - dense_1_acc_5: 1.0000 - dense_1_acc_6: 1.0000 - dense_1_acc_7: 1.0000 - dense_1_acc_8: 1.0000 - dense_1_acc_9: 1.0000 - dense_1_acc_10: 1.0000 - dense_1_acc_11: 1.0000 - dense_1_acc_12: 1.0000 - dense_1_acc_13: 1.0000 - dense_1_acc_14: 1.0000 - dense_1_acc_15: 1.0000 - dense_1_acc_16: 1.0000 - dense_1_acc_17: 1.0000 - dense_1_acc_18: 1.0000 - dense_1_acc_19: 1.0000 - dense_1_acc_20: 1.0000 - dense_1_acc_21: 1.0000 - dense_1_acc_22: 1.0000 - dense_1_acc_23: 1.0000 - dense_1_acc_24: 1.0000 - dense_1_acc_25: 1.0000 - dense_1_acc_26: 1.0000 - dense_1_acc_27: 1.0000 - dense_1_acc_28: 1.0000 - dense_1_acc_29: 1.0000 - dense_1_acc_30: 0.0000e+00     \n",
      "Epoch 16/100\n"
     ]
    },
    {
     "name": "stdout",
     "output_type": "stream",
     "text": [
      "60/60 [==============================] - 1s - loss: 6.4217 - dense_1_loss_1: 3.7016 - dense_1_loss_2: 1.2002 - dense_1_loss_3: 0.3356 - dense_1_loss_4: 0.0998 - dense_1_loss_5: 0.0747 - dense_1_loss_6: 0.0581 - dense_1_loss_7: 0.0441 - dense_1_loss_8: 0.0453 - dense_1_loss_9: 0.0645 - dense_1_loss_10: 0.0392 - dense_1_loss_11: 0.0391 - dense_1_loss_12: 0.0361 - dense_1_loss_13: 0.0339 - dense_1_loss_14: 0.0360 - dense_1_loss_15: 0.0373 - dense_1_loss_16: 0.0361 - dense_1_loss_17: 0.0377 - dense_1_loss_18: 0.0369 - dense_1_loss_19: 0.0381 - dense_1_loss_20: 0.0386 - dense_1_loss_21: 0.0371 - dense_1_loss_22: 0.0384 - dense_1_loss_23: 0.0380 - dense_1_loss_24: 0.0375 - dense_1_loss_25: 0.0400 - dense_1_loss_26: 0.0394 - dense_1_loss_27: 0.0531 - dense_1_loss_28: 0.0522 - dense_1_loss_29: 0.0531 - dense_1_loss_30: 0.0000e+00 - dense_1_acc_1: 0.1000 - dense_1_acc_2: 0.6500 - dense_1_acc_3: 0.9000 - dense_1_acc_4: 1.0000 - dense_1_acc_5: 1.0000 - dense_1_acc_6: 1.0000 - dense_1_acc_7: 1.0000 - dense_1_acc_8: 1.0000 - dense_1_acc_9: 1.0000 - dense_1_acc_10: 1.0000 - dense_1_acc_11: 1.0000 - dense_1_acc_12: 1.0000 - dense_1_acc_13: 1.0000 - dense_1_acc_14: 1.0000 - dense_1_acc_15: 1.0000 - dense_1_acc_16: 1.0000 - dense_1_acc_17: 1.0000 - dense_1_acc_18: 1.0000 - dense_1_acc_19: 1.0000 - dense_1_acc_20: 1.0000 - dense_1_acc_21: 1.0000 - dense_1_acc_22: 1.0000 - dense_1_acc_23: 1.0000 - dense_1_acc_24: 1.0000 - dense_1_acc_25: 1.0000 - dense_1_acc_26: 1.0000 - dense_1_acc_27: 1.0000 - dense_1_acc_28: 1.0000 - dense_1_acc_29: 1.0000 - dense_1_acc_30: 0.0000e+00     \n",
      "Epoch 17/100\n",
      "60/60 [==============================] - 1s - loss: 6.2483 - dense_1_loss_1: 3.6953 - dense_1_loss_2: 1.1781 - dense_1_loss_3: 0.3176 - dense_1_loss_4: 0.0918 - dense_1_loss_5: 0.0671 - dense_1_loss_6: 0.0531 - dense_1_loss_7: 0.0397 - dense_1_loss_8: 0.0415 - dense_1_loss_9: 0.0552 - dense_1_loss_10: 0.0341 - dense_1_loss_11: 0.0360 - dense_1_loss_12: 0.0322 - dense_1_loss_13: 0.0301 - dense_1_loss_14: 0.0319 - dense_1_loss_15: 0.0326 - dense_1_loss_16: 0.0328 - dense_1_loss_17: 0.0336 - dense_1_loss_18: 0.0330 - dense_1_loss_19: 0.0347 - dense_1_loss_20: 0.0338 - dense_1_loss_21: 0.0333 - dense_1_loss_22: 0.0336 - dense_1_loss_23: 0.0340 - dense_1_loss_24: 0.0338 - dense_1_loss_25: 0.0356 - dense_1_loss_26: 0.0357 - dense_1_loss_27: 0.0453 - dense_1_loss_28: 0.0460 - dense_1_loss_29: 0.0469 - dense_1_loss_30: 0.0000e+00 - dense_1_acc_1: 0.1000 - dense_1_acc_2: 0.6500 - dense_1_acc_3: 0.9000 - dense_1_acc_4: 1.0000 - dense_1_acc_5: 1.0000 - dense_1_acc_6: 1.0000 - dense_1_acc_7: 1.0000 - dense_1_acc_8: 1.0000 - dense_1_acc_9: 1.0000 - dense_1_acc_10: 1.0000 - dense_1_acc_11: 1.0000 - dense_1_acc_12: 1.0000 - dense_1_acc_13: 1.0000 - dense_1_acc_14: 1.0000 - dense_1_acc_15: 1.0000 - dense_1_acc_16: 1.0000 - dense_1_acc_17: 1.0000 - dense_1_acc_18: 1.0000 - dense_1_acc_19: 1.0000 - dense_1_acc_20: 1.0000 - dense_1_acc_21: 1.0000 - dense_1_acc_22: 1.0000 - dense_1_acc_23: 1.0000 - dense_1_acc_24: 1.0000 - dense_1_acc_25: 1.0000 - dense_1_acc_26: 1.0000 - dense_1_acc_27: 1.0000 - dense_1_acc_28: 1.0000 - dense_1_acc_29: 1.0000 - dense_1_acc_30: 0.0000e+00     \n",
      "Epoch 18/100\n",
      "60/60 [==============================] - 1s - loss: 6.1033 - dense_1_loss_1: 3.6891 - dense_1_loss_2: 1.1554 - dense_1_loss_3: 0.3017 - dense_1_loss_4: 0.0853 - dense_1_loss_5: 0.0614 - dense_1_loss_6: 0.0490 - dense_1_loss_7: 0.0362 - dense_1_loss_8: 0.0384 - dense_1_loss_9: 0.0486 - dense_1_loss_10: 0.0304 - dense_1_loss_11: 0.0329 - dense_1_loss_12: 0.0292 - dense_1_loss_13: 0.0267 - dense_1_loss_14: 0.0283 - dense_1_loss_15: 0.0288 - dense_1_loss_16: 0.0299 - dense_1_loss_17: 0.0302 - dense_1_loss_18: 0.0297 - dense_1_loss_19: 0.0320 - dense_1_loss_20: 0.0299 - dense_1_loss_21: 0.0303 - dense_1_loss_22: 0.0298 - dense_1_loss_23: 0.0312 - dense_1_loss_24: 0.0307 - dense_1_loss_25: 0.0315 - dense_1_loss_26: 0.0329 - dense_1_loss_27: 0.0393 - dense_1_loss_28: 0.0422 - dense_1_loss_29: 0.0423 - dense_1_loss_30: 0.0000e+00 - dense_1_acc_1: 0.1000 - dense_1_acc_2: 0.6500 - dense_1_acc_3: 0.9000 - dense_1_acc_4: 1.0000 - dense_1_acc_5: 1.0000 - dense_1_acc_6: 1.0000 - dense_1_acc_7: 1.0000 - dense_1_acc_8: 1.0000 - dense_1_acc_9: 1.0000 - dense_1_acc_10: 1.0000 - dense_1_acc_11: 1.0000 - dense_1_acc_12: 1.0000 - dense_1_acc_13: 1.0000 - dense_1_acc_14: 1.0000 - dense_1_acc_15: 1.0000 - dense_1_acc_16: 1.0000 - dense_1_acc_17: 1.0000 - dense_1_acc_18: 1.0000 - dense_1_acc_19: 1.0000 - dense_1_acc_20: 1.0000 - dense_1_acc_21: 1.0000 - dense_1_acc_22: 1.0000 - dense_1_acc_23: 1.0000 - dense_1_acc_24: 1.0000 - dense_1_acc_25: 1.0000 - dense_1_acc_26: 1.0000 - dense_1_acc_27: 1.0000 - dense_1_acc_28: 1.0000 - dense_1_acc_29: 1.0000 - dense_1_acc_30: 0.0000e+00     \n",
      "Epoch 19/100\n",
      "60/60 [==============================] - 1s - loss: 5.9772 - dense_1_loss_1: 3.6828 - dense_1_loss_2: 1.1369 - dense_1_loss_3: 0.2878 - dense_1_loss_4: 0.0791 - dense_1_loss_5: 0.0566 - dense_1_loss_6: 0.0457 - dense_1_loss_7: 0.0330 - dense_1_loss_8: 0.0356 - dense_1_loss_9: 0.0445 - dense_1_loss_10: 0.0275 - dense_1_loss_11: 0.0297 - dense_1_loss_12: 0.0268 - dense_1_loss_13: 0.0243 - dense_1_loss_14: 0.0251 - dense_1_loss_15: 0.0259 - dense_1_loss_16: 0.0273 - dense_1_loss_17: 0.0269 - dense_1_loss_18: 0.0269 - dense_1_loss_19: 0.0292 - dense_1_loss_20: 0.0268 - dense_1_loss_21: 0.0279 - dense_1_loss_22: 0.0261 - dense_1_loss_23: 0.0282 - dense_1_loss_24: 0.0278 - dense_1_loss_25: 0.0282 - dense_1_loss_26: 0.0287 - dense_1_loss_27: 0.0350 - dense_1_loss_28: 0.0384 - dense_1_loss_29: 0.0384 - dense_1_loss_30: 0.0000e+00 - dense_1_acc_1: 0.1000 - dense_1_acc_2: 0.6500 - dense_1_acc_3: 0.9167 - dense_1_acc_4: 1.0000 - dense_1_acc_5: 1.0000 - dense_1_acc_6: 1.0000 - dense_1_acc_7: 1.0000 - dense_1_acc_8: 1.0000 - dense_1_acc_9: 1.0000 - dense_1_acc_10: 1.0000 - dense_1_acc_11: 1.0000 - dense_1_acc_12: 1.0000 - dense_1_acc_13: 1.0000 - dense_1_acc_14: 1.0000 - dense_1_acc_15: 1.0000 - dense_1_acc_16: 1.0000 - dense_1_acc_17: 1.0000 - dense_1_acc_18: 1.0000 - dense_1_acc_19: 1.0000 - dense_1_acc_20: 1.0000 - dense_1_acc_21: 1.0000 - dense_1_acc_22: 1.0000 - dense_1_acc_23: 1.0000 - dense_1_acc_24: 1.0000 - dense_1_acc_25: 1.0000 - dense_1_acc_26: 1.0000 - dense_1_acc_27: 1.0000 - dense_1_acc_28: 1.0000 - dense_1_acc_29: 1.0000 - dense_1_acc_30: 0.0000e+00     \n",
      "Epoch 20/100\n",
      "60/60 [==============================] - 1s - loss: 5.8637 - dense_1_loss_1: 3.6770 - dense_1_loss_2: 1.1187 - dense_1_loss_3: 0.2718 - dense_1_loss_4: 0.0736 - dense_1_loss_5: 0.0519 - dense_1_loss_6: 0.0425 - dense_1_loss_7: 0.0305 - dense_1_loss_8: 0.0330 - dense_1_loss_9: 0.0401 - dense_1_loss_10: 0.0253 - dense_1_loss_11: 0.0269 - dense_1_loss_12: 0.0248 - dense_1_loss_13: 0.0226 - dense_1_loss_14: 0.0229 - dense_1_loss_15: 0.0236 - dense_1_loss_16: 0.0253 - dense_1_loss_17: 0.0240 - dense_1_loss_18: 0.0249 - dense_1_loss_19: 0.0260 - dense_1_loss_20: 0.0246 - dense_1_loss_21: 0.0256 - dense_1_loss_22: 0.0237 - dense_1_loss_23: 0.0254 - dense_1_loss_24: 0.0251 - dense_1_loss_25: 0.0254 - dense_1_loss_26: 0.0265 - dense_1_loss_27: 0.0319 - dense_1_loss_28: 0.0350 - dense_1_loss_29: 0.0353 - dense_1_loss_30: 0.0000e+00 - dense_1_acc_1: 0.1000 - dense_1_acc_2: 0.6500 - dense_1_acc_3: 0.9333 - dense_1_acc_4: 1.0000 - dense_1_acc_5: 1.0000 - dense_1_acc_6: 1.0000 - dense_1_acc_7: 1.0000 - dense_1_acc_8: 1.0000 - dense_1_acc_9: 1.0000 - dense_1_acc_10: 1.0000 - dense_1_acc_11: 1.0000 - dense_1_acc_12: 1.0000 - dense_1_acc_13: 1.0000 - dense_1_acc_14: 1.0000 - dense_1_acc_15: 1.0000 - dense_1_acc_16: 1.0000 - dense_1_acc_17: 1.0000 - dense_1_acc_18: 1.0000 - dense_1_acc_19: 1.0000 - dense_1_acc_20: 1.0000 - dense_1_acc_21: 1.0000 - dense_1_acc_22: 1.0000 - dense_1_acc_23: 1.0000 - dense_1_acc_24: 1.0000 - dense_1_acc_25: 1.0000 - dense_1_acc_26: 1.0000 - dense_1_acc_27: 1.0000 - dense_1_acc_28: 1.0000 - dense_1_acc_29: 1.0000 - dense_1_acc_30: 0.0000e+00     \n",
      "Epoch 21/100\n"
     ]
    },
    {
     "name": "stdout",
     "output_type": "stream",
     "text": [
      "60/60 [==============================] - 1s - loss: 5.7644 - dense_1_loss_1: 3.6712 - dense_1_loss_2: 1.1003 - dense_1_loss_3: 0.2585 - dense_1_loss_4: 0.0688 - dense_1_loss_5: 0.0485 - dense_1_loss_6: 0.0398 - dense_1_loss_7: 0.0283 - dense_1_loss_8: 0.0303 - dense_1_loss_9: 0.0362 - dense_1_loss_10: 0.0236 - dense_1_loss_11: 0.0244 - dense_1_loss_12: 0.0231 - dense_1_loss_13: 0.0208 - dense_1_loss_14: 0.0208 - dense_1_loss_15: 0.0220 - dense_1_loss_16: 0.0231 - dense_1_loss_17: 0.0218 - dense_1_loss_18: 0.0232 - dense_1_loss_19: 0.0235 - dense_1_loss_20: 0.0230 - dense_1_loss_21: 0.0238 - dense_1_loss_22: 0.0218 - dense_1_loss_23: 0.0233 - dense_1_loss_24: 0.0229 - dense_1_loss_25: 0.0232 - dense_1_loss_26: 0.0243 - dense_1_loss_27: 0.0296 - dense_1_loss_28: 0.0317 - dense_1_loss_29: 0.0326 - dense_1_loss_30: 0.0000e+00 - dense_1_acc_1: 0.1000 - dense_1_acc_2: 0.6667 - dense_1_acc_3: 0.9333 - dense_1_acc_4: 1.0000 - dense_1_acc_5: 1.0000 - dense_1_acc_6: 1.0000 - dense_1_acc_7: 1.0000 - dense_1_acc_8: 1.0000 - dense_1_acc_9: 1.0000 - dense_1_acc_10: 1.0000 - dense_1_acc_11: 1.0000 - dense_1_acc_12: 1.0000 - dense_1_acc_13: 1.0000 - dense_1_acc_14: 1.0000 - dense_1_acc_15: 1.0000 - dense_1_acc_16: 1.0000 - dense_1_acc_17: 1.0000 - dense_1_acc_18: 1.0000 - dense_1_acc_19: 1.0000 - dense_1_acc_20: 1.0000 - dense_1_acc_21: 1.0000 - dense_1_acc_22: 1.0000 - dense_1_acc_23: 1.0000 - dense_1_acc_24: 1.0000 - dense_1_acc_25: 1.0000 - dense_1_acc_26: 1.0000 - dense_1_acc_27: 1.0000 - dense_1_acc_28: 1.0000 - dense_1_acc_29: 1.0000 - dense_1_acc_30: 0.0000e+00     \n",
      "Epoch 22/100\n",
      "60/60 [==============================] - 1s - loss: 5.6754 - dense_1_loss_1: 3.6654 - dense_1_loss_2: 1.0824 - dense_1_loss_3: 0.2477 - dense_1_loss_4: 0.0653 - dense_1_loss_5: 0.0455 - dense_1_loss_6: 0.0370 - dense_1_loss_7: 0.0265 - dense_1_loss_8: 0.0278 - dense_1_loss_9: 0.0328 - dense_1_loss_10: 0.0220 - dense_1_loss_11: 0.0224 - dense_1_loss_12: 0.0215 - dense_1_loss_13: 0.0194 - dense_1_loss_14: 0.0192 - dense_1_loss_15: 0.0204 - dense_1_loss_16: 0.0213 - dense_1_loss_17: 0.0201 - dense_1_loss_18: 0.0215 - dense_1_loss_19: 0.0212 - dense_1_loss_20: 0.0212 - dense_1_loss_21: 0.0221 - dense_1_loss_22: 0.0203 - dense_1_loss_23: 0.0215 - dense_1_loss_24: 0.0211 - dense_1_loss_25: 0.0213 - dense_1_loss_26: 0.0227 - dense_1_loss_27: 0.0267 - dense_1_loss_28: 0.0294 - dense_1_loss_29: 0.0297 - dense_1_loss_30: 0.0000e+00 - dense_1_acc_1: 0.1000 - dense_1_acc_2: 0.6667 - dense_1_acc_3: 0.9500 - dense_1_acc_4: 1.0000 - dense_1_acc_5: 1.0000 - dense_1_acc_6: 1.0000 - dense_1_acc_7: 1.0000 - dense_1_acc_8: 1.0000 - dense_1_acc_9: 1.0000 - dense_1_acc_10: 1.0000 - dense_1_acc_11: 1.0000 - dense_1_acc_12: 1.0000 - dense_1_acc_13: 1.0000 - dense_1_acc_14: 1.0000 - dense_1_acc_15: 1.0000 - dense_1_acc_16: 1.0000 - dense_1_acc_17: 1.0000 - dense_1_acc_18: 1.0000 - dense_1_acc_19: 1.0000 - dense_1_acc_20: 1.0000 - dense_1_acc_21: 1.0000 - dense_1_acc_22: 1.0000 - dense_1_acc_23: 1.0000 - dense_1_acc_24: 1.0000 - dense_1_acc_25: 1.0000 - dense_1_acc_26: 1.0000 - dense_1_acc_27: 1.0000 - dense_1_acc_28: 1.0000 - dense_1_acc_29: 1.0000 - dense_1_acc_30: 0.0000e+00     \n",
      "Epoch 23/100\n",
      "60/60 [==============================] - 1s - loss: 5.5965 - dense_1_loss_1: 3.6606 - dense_1_loss_2: 1.0668 - dense_1_loss_3: 0.2360 - dense_1_loss_4: 0.0618 - dense_1_loss_5: 0.0426 - dense_1_loss_6: 0.0344 - dense_1_loss_7: 0.0250 - dense_1_loss_8: 0.0259 - dense_1_loss_9: 0.0299 - dense_1_loss_10: 0.0207 - dense_1_loss_11: 0.0208 - dense_1_loss_12: 0.0200 - dense_1_loss_13: 0.0180 - dense_1_loss_14: 0.0181 - dense_1_loss_15: 0.0189 - dense_1_loss_16: 0.0198 - dense_1_loss_17: 0.0186 - dense_1_loss_18: 0.0199 - dense_1_loss_19: 0.0196 - dense_1_loss_20: 0.0197 - dense_1_loss_21: 0.0206 - dense_1_loss_22: 0.0189 - dense_1_loss_23: 0.0199 - dense_1_loss_24: 0.0198 - dense_1_loss_25: 0.0196 - dense_1_loss_26: 0.0213 - dense_1_loss_27: 0.0244 - dense_1_loss_28: 0.0277 - dense_1_loss_29: 0.0272 - dense_1_loss_30: 0.0000e+00 - dense_1_acc_1: 0.1000 - dense_1_acc_2: 0.6667 - dense_1_acc_3: 0.9500 - dense_1_acc_4: 1.0000 - dense_1_acc_5: 1.0000 - dense_1_acc_6: 1.0000 - dense_1_acc_7: 1.0000 - dense_1_acc_8: 1.0000 - dense_1_acc_9: 1.0000 - dense_1_acc_10: 1.0000 - dense_1_acc_11: 1.0000 - dense_1_acc_12: 1.0000 - dense_1_acc_13: 1.0000 - dense_1_acc_14: 1.0000 - dense_1_acc_15: 1.0000 - dense_1_acc_16: 1.0000 - dense_1_acc_17: 1.0000 - dense_1_acc_18: 1.0000 - dense_1_acc_19: 1.0000 - dense_1_acc_20: 1.0000 - dense_1_acc_21: 1.0000 - dense_1_acc_22: 1.0000 - dense_1_acc_23: 1.0000 - dense_1_acc_24: 1.0000 - dense_1_acc_25: 1.0000 - dense_1_acc_26: 1.0000 - dense_1_acc_27: 1.0000 - dense_1_acc_28: 1.0000 - dense_1_acc_29: 1.0000 - dense_1_acc_30: 0.0000e+00     \n",
      "Epoch 24/100\n",
      "60/60 [==============================] - 1s - loss: 5.5258 - dense_1_loss_1: 3.6552 - dense_1_loss_2: 1.0517 - dense_1_loss_3: 0.2259 - dense_1_loss_4: 0.0590 - dense_1_loss_5: 0.0405 - dense_1_loss_6: 0.0317 - dense_1_loss_7: 0.0237 - dense_1_loss_8: 0.0243 - dense_1_loss_9: 0.0272 - dense_1_loss_10: 0.0194 - dense_1_loss_11: 0.0195 - dense_1_loss_12: 0.0184 - dense_1_loss_13: 0.0169 - dense_1_loss_14: 0.0169 - dense_1_loss_15: 0.0179 - dense_1_loss_16: 0.0185 - dense_1_loss_17: 0.0173 - dense_1_loss_18: 0.0186 - dense_1_loss_19: 0.0181 - dense_1_loss_20: 0.0184 - dense_1_loss_21: 0.0191 - dense_1_loss_22: 0.0180 - dense_1_loss_23: 0.0189 - dense_1_loss_24: 0.0187 - dense_1_loss_25: 0.0183 - dense_1_loss_26: 0.0201 - dense_1_loss_27: 0.0231 - dense_1_loss_28: 0.0253 - dense_1_loss_29: 0.0253 - dense_1_loss_30: 0.0000e+00 - dense_1_acc_1: 0.1000 - dense_1_acc_2: 0.6667 - dense_1_acc_3: 0.9500 - dense_1_acc_4: 1.0000 - dense_1_acc_5: 1.0000 - dense_1_acc_6: 1.0000 - dense_1_acc_7: 1.0000 - dense_1_acc_8: 1.0000 - dense_1_acc_9: 1.0000 - dense_1_acc_10: 1.0000 - dense_1_acc_11: 1.0000 - dense_1_acc_12: 1.0000 - dense_1_acc_13: 1.0000 - dense_1_acc_14: 1.0000 - dense_1_acc_15: 1.0000 - dense_1_acc_16: 1.0000 - dense_1_acc_17: 1.0000 - dense_1_acc_18: 1.0000 - dense_1_acc_19: 1.0000 - dense_1_acc_20: 1.0000 - dense_1_acc_21: 1.0000 - dense_1_acc_22: 1.0000 - dense_1_acc_23: 1.0000 - dense_1_acc_24: 1.0000 - dense_1_acc_25: 1.0000 - dense_1_acc_26: 1.0000 - dense_1_acc_27: 1.0000 - dense_1_acc_28: 1.0000 - dense_1_acc_29: 1.0000 - dense_1_acc_30: 0.0000e+00     \n",
      "Epoch 25/100\n",
      "60/60 [==============================] - 1s - loss: 5.4623 - dense_1_loss_1: 3.6496 - dense_1_loss_2: 1.0352 - dense_1_loss_3: 0.2186 - dense_1_loss_4: 0.0564 - dense_1_loss_5: 0.0387 - dense_1_loss_6: 0.0294 - dense_1_loss_7: 0.0226 - dense_1_loss_8: 0.0229 - dense_1_loss_9: 0.0247 - dense_1_loss_10: 0.0184 - dense_1_loss_11: 0.0183 - dense_1_loss_12: 0.0174 - dense_1_loss_13: 0.0159 - dense_1_loss_14: 0.0158 - dense_1_loss_15: 0.0170 - dense_1_loss_16: 0.0173 - dense_1_loss_17: 0.0164 - dense_1_loss_18: 0.0173 - dense_1_loss_19: 0.0169 - dense_1_loss_20: 0.0173 - dense_1_loss_21: 0.0179 - dense_1_loss_22: 0.0171 - dense_1_loss_23: 0.0179 - dense_1_loss_24: 0.0176 - dense_1_loss_25: 0.0173 - dense_1_loss_26: 0.0190 - dense_1_loss_27: 0.0219 - dense_1_loss_28: 0.0234 - dense_1_loss_29: 0.0240 - dense_1_loss_30: 0.0000e+00 - dense_1_acc_1: 0.1000 - dense_1_acc_2: 0.6833 - dense_1_acc_3: 0.9500 - dense_1_acc_4: 1.0000 - dense_1_acc_5: 1.0000 - dense_1_acc_6: 1.0000 - dense_1_acc_7: 1.0000 - dense_1_acc_8: 1.0000 - dense_1_acc_9: 1.0000 - dense_1_acc_10: 1.0000 - dense_1_acc_11: 1.0000 - dense_1_acc_12: 1.0000 - dense_1_acc_13: 1.0000 - dense_1_acc_14: 1.0000 - dense_1_acc_15: 1.0000 - dense_1_acc_16: 1.0000 - dense_1_acc_17: 1.0000 - dense_1_acc_18: 1.0000 - dense_1_acc_19: 1.0000 - dense_1_acc_20: 1.0000 - dense_1_acc_21: 1.0000 - dense_1_acc_22: 1.0000 - dense_1_acc_23: 1.0000 - dense_1_acc_24: 1.0000 - dense_1_acc_25: 1.0000 - dense_1_acc_26: 1.0000 - dense_1_acc_27: 1.0000 - dense_1_acc_28: 1.0000 - dense_1_acc_29: 1.0000 - dense_1_acc_30: 0.0000e+00     \n",
      "Epoch 26/100\n"
     ]
    },
    {
     "name": "stdout",
     "output_type": "stream",
     "text": [
      "60/60 [==============================] - 1s - loss: 5.4070 - dense_1_loss_1: 3.6444 - dense_1_loss_2: 1.0214 - dense_1_loss_3: 0.2117 - dense_1_loss_4: 0.0540 - dense_1_loss_5: 0.0371 - dense_1_loss_6: 0.0276 - dense_1_loss_7: 0.0215 - dense_1_loss_8: 0.0218 - dense_1_loss_9: 0.0233 - dense_1_loss_10: 0.0175 - dense_1_loss_11: 0.0173 - dense_1_loss_12: 0.0164 - dense_1_loss_13: 0.0149 - dense_1_loss_14: 0.0149 - dense_1_loss_15: 0.0162 - dense_1_loss_16: 0.0164 - dense_1_loss_17: 0.0154 - dense_1_loss_18: 0.0163 - dense_1_loss_19: 0.0158 - dense_1_loss_20: 0.0165 - dense_1_loss_21: 0.0167 - dense_1_loss_22: 0.0164 - dense_1_loss_23: 0.0169 - dense_1_loss_24: 0.0166 - dense_1_loss_25: 0.0163 - dense_1_loss_26: 0.0182 - dense_1_loss_27: 0.0207 - dense_1_loss_28: 0.0217 - dense_1_loss_29: 0.0231 - dense_1_loss_30: 0.0000e+00 - dense_1_acc_1: 0.1000 - dense_1_acc_2: 0.6833 - dense_1_acc_3: 0.9667 - dense_1_acc_4: 1.0000 - dense_1_acc_5: 1.0000 - dense_1_acc_6: 1.0000 - dense_1_acc_7: 1.0000 - dense_1_acc_8: 1.0000 - dense_1_acc_9: 1.0000 - dense_1_acc_10: 1.0000 - dense_1_acc_11: 1.0000 - dense_1_acc_12: 1.0000 - dense_1_acc_13: 1.0000 - dense_1_acc_14: 1.0000 - dense_1_acc_15: 1.0000 - dense_1_acc_16: 1.0000 - dense_1_acc_17: 1.0000 - dense_1_acc_18: 1.0000 - dense_1_acc_19: 1.0000 - dense_1_acc_20: 1.0000 - dense_1_acc_21: 1.0000 - dense_1_acc_22: 1.0000 - dense_1_acc_23: 1.0000 - dense_1_acc_24: 1.0000 - dense_1_acc_25: 1.0000 - dense_1_acc_26: 1.0000 - dense_1_acc_27: 1.0000 - dense_1_acc_28: 1.0000 - dense_1_acc_29: 1.0000 - dense_1_acc_30: 0.0000e+00     \n",
      "Epoch 27/100\n",
      "60/60 [==============================] - 1s - loss: 5.3544 - dense_1_loss_1: 3.6392 - dense_1_loss_2: 1.0077 - dense_1_loss_3: 0.2057 - dense_1_loss_4: 0.0518 - dense_1_loss_5: 0.0356 - dense_1_loss_6: 0.0260 - dense_1_loss_7: 0.0205 - dense_1_loss_8: 0.0208 - dense_1_loss_9: 0.0217 - dense_1_loss_10: 0.0167 - dense_1_loss_11: 0.0163 - dense_1_loss_12: 0.0156 - dense_1_loss_13: 0.0142 - dense_1_loss_14: 0.0141 - dense_1_loss_15: 0.0155 - dense_1_loss_16: 0.0153 - dense_1_loss_17: 0.0145 - dense_1_loss_18: 0.0153 - dense_1_loss_19: 0.0150 - dense_1_loss_20: 0.0157 - dense_1_loss_21: 0.0157 - dense_1_loss_22: 0.0154 - dense_1_loss_23: 0.0160 - dense_1_loss_24: 0.0156 - dense_1_loss_25: 0.0155 - dense_1_loss_26: 0.0173 - dense_1_loss_27: 0.0195 - dense_1_loss_28: 0.0201 - dense_1_loss_29: 0.0222 - dense_1_loss_30: 0.0000e+00 - dense_1_acc_1: 0.1000 - dense_1_acc_2: 0.7000 - dense_1_acc_3: 0.9667 - dense_1_acc_4: 1.0000 - dense_1_acc_5: 1.0000 - dense_1_acc_6: 1.0000 - dense_1_acc_7: 1.0000 - dense_1_acc_8: 1.0000 - dense_1_acc_9: 1.0000 - dense_1_acc_10: 1.0000 - dense_1_acc_11: 1.0000 - dense_1_acc_12: 1.0000 - dense_1_acc_13: 1.0000 - dense_1_acc_14: 1.0000 - dense_1_acc_15: 1.0000 - dense_1_acc_16: 1.0000 - dense_1_acc_17: 1.0000 - dense_1_acc_18: 1.0000 - dense_1_acc_19: 1.0000 - dense_1_acc_20: 1.0000 - dense_1_acc_21: 1.0000 - dense_1_acc_22: 1.0000 - dense_1_acc_23: 1.0000 - dense_1_acc_24: 1.0000 - dense_1_acc_25: 1.0000 - dense_1_acc_26: 1.0000 - dense_1_acc_27: 1.0000 - dense_1_acc_28: 1.0000 - dense_1_acc_29: 1.0000 - dense_1_acc_30: 0.0000e+00     \n",
      "Epoch 28/100\n",
      "60/60 [==============================] - 1s - loss: 5.3030 - dense_1_loss_1: 3.6338 - dense_1_loss_2: 0.9937 - dense_1_loss_3: 0.1997 - dense_1_loss_4: 0.0495 - dense_1_loss_5: 0.0341 - dense_1_loss_6: 0.0246 - dense_1_loss_7: 0.0196 - dense_1_loss_8: 0.0199 - dense_1_loss_9: 0.0199 - dense_1_loss_10: 0.0160 - dense_1_loss_11: 0.0153 - dense_1_loss_12: 0.0149 - dense_1_loss_13: 0.0135 - dense_1_loss_14: 0.0135 - dense_1_loss_15: 0.0146 - dense_1_loss_16: 0.0145 - dense_1_loss_17: 0.0138 - dense_1_loss_18: 0.0144 - dense_1_loss_19: 0.0143 - dense_1_loss_20: 0.0149 - dense_1_loss_21: 0.0149 - dense_1_loss_22: 0.0145 - dense_1_loss_23: 0.0151 - dense_1_loss_24: 0.0147 - dense_1_loss_25: 0.0148 - dense_1_loss_26: 0.0164 - dense_1_loss_27: 0.0182 - dense_1_loss_28: 0.0192 - dense_1_loss_29: 0.0209 - dense_1_loss_30: 0.0000e+00 - dense_1_acc_1: 0.1000 - dense_1_acc_2: 0.7000 - dense_1_acc_3: 0.9667 - dense_1_acc_4: 1.0000 - dense_1_acc_5: 1.0000 - dense_1_acc_6: 1.0000 - dense_1_acc_7: 1.0000 - dense_1_acc_8: 1.0000 - dense_1_acc_9: 1.0000 - dense_1_acc_10: 1.0000 - dense_1_acc_11: 1.0000 - dense_1_acc_12: 1.0000 - dense_1_acc_13: 1.0000 - dense_1_acc_14: 1.0000 - dense_1_acc_15: 1.0000 - dense_1_acc_16: 1.0000 - dense_1_acc_17: 1.0000 - dense_1_acc_18: 1.0000 - dense_1_acc_19: 1.0000 - dense_1_acc_20: 1.0000 - dense_1_acc_21: 1.0000 - dense_1_acc_22: 1.0000 - dense_1_acc_23: 1.0000 - dense_1_acc_24: 1.0000 - dense_1_acc_25: 1.0000 - dense_1_acc_26: 1.0000 - dense_1_acc_27: 1.0000 - dense_1_acc_28: 1.0000 - dense_1_acc_29: 1.0000 - dense_1_acc_30: 0.0000e+00     \n",
      "Epoch 29/100\n",
      "60/60 [==============================] - 1s - loss: 5.2596 - dense_1_loss_1: 3.6289 - dense_1_loss_2: 0.9807 - dense_1_loss_3: 0.1951 - dense_1_loss_4: 0.0477 - dense_1_loss_5: 0.0327 - dense_1_loss_6: 0.0237 - dense_1_loss_7: 0.0186 - dense_1_loss_8: 0.0191 - dense_1_loss_9: 0.0190 - dense_1_loss_10: 0.0153 - dense_1_loss_11: 0.0146 - dense_1_loss_12: 0.0142 - dense_1_loss_13: 0.0129 - dense_1_loss_14: 0.0128 - dense_1_loss_15: 0.0139 - dense_1_loss_16: 0.0137 - dense_1_loss_17: 0.0131 - dense_1_loss_18: 0.0137 - dense_1_loss_19: 0.0136 - dense_1_loss_20: 0.0143 - dense_1_loss_21: 0.0142 - dense_1_loss_22: 0.0137 - dense_1_loss_23: 0.0144 - dense_1_loss_24: 0.0140 - dense_1_loss_25: 0.0142 - dense_1_loss_26: 0.0156 - dense_1_loss_27: 0.0175 - dense_1_loss_28: 0.0186 - dense_1_loss_29: 0.0198 - dense_1_loss_30: 0.0000e+00 - dense_1_acc_1: 0.1000 - dense_1_acc_2: 0.7000 - dense_1_acc_3: 0.9667 - dense_1_acc_4: 1.0000 - dense_1_acc_5: 1.0000 - dense_1_acc_6: 1.0000 - dense_1_acc_7: 1.0000 - dense_1_acc_8: 1.0000 - dense_1_acc_9: 1.0000 - dense_1_acc_10: 1.0000 - dense_1_acc_11: 1.0000 - dense_1_acc_12: 1.0000 - dense_1_acc_13: 1.0000 - dense_1_acc_14: 1.0000 - dense_1_acc_15: 1.0000 - dense_1_acc_16: 1.0000 - dense_1_acc_17: 1.0000 - dense_1_acc_18: 1.0000 - dense_1_acc_19: 1.0000 - dense_1_acc_20: 1.0000 - dense_1_acc_21: 1.0000 - dense_1_acc_22: 1.0000 - dense_1_acc_23: 1.0000 - dense_1_acc_24: 1.0000 - dense_1_acc_25: 1.0000 - dense_1_acc_26: 1.0000 - dense_1_acc_27: 1.0000 - dense_1_acc_28: 1.0000 - dense_1_acc_29: 1.0000 - dense_1_acc_30: 0.0000e+00     \n",
      "Epoch 30/100\n",
      "60/60 [==============================] - 1s - loss: 5.2158 - dense_1_loss_1: 3.6236 - dense_1_loss_2: 0.9678 - dense_1_loss_3: 0.1905 - dense_1_loss_4: 0.0460 - dense_1_loss_5: 0.0314 - dense_1_loss_6: 0.0228 - dense_1_loss_7: 0.0177 - dense_1_loss_8: 0.0183 - dense_1_loss_9: 0.0179 - dense_1_loss_10: 0.0145 - dense_1_loss_11: 0.0139 - dense_1_loss_12: 0.0135 - dense_1_loss_13: 0.0124 - dense_1_loss_14: 0.0122 - dense_1_loss_15: 0.0133 - dense_1_loss_16: 0.0130 - dense_1_loss_17: 0.0125 - dense_1_loss_18: 0.0131 - dense_1_loss_19: 0.0130 - dense_1_loss_20: 0.0135 - dense_1_loss_21: 0.0136 - dense_1_loss_22: 0.0130 - dense_1_loss_23: 0.0136 - dense_1_loss_24: 0.0133 - dense_1_loss_25: 0.0136 - dense_1_loss_26: 0.0145 - dense_1_loss_27: 0.0171 - dense_1_loss_28: 0.0177 - dense_1_loss_29: 0.0186 - dense_1_loss_30: 0.0000e+00 - dense_1_acc_1: 0.1000 - dense_1_acc_2: 0.7000 - dense_1_acc_3: 0.9667 - dense_1_acc_4: 1.0000 - dense_1_acc_5: 1.0000 - dense_1_acc_6: 1.0000 - dense_1_acc_7: 1.0000 - dense_1_acc_8: 1.0000 - dense_1_acc_9: 1.0000 - dense_1_acc_10: 1.0000 - dense_1_acc_11: 1.0000 - dense_1_acc_12: 1.0000 - dense_1_acc_13: 1.0000 - dense_1_acc_14: 1.0000 - dense_1_acc_15: 1.0000 - dense_1_acc_16: 1.0000 - dense_1_acc_17: 1.0000 - dense_1_acc_18: 1.0000 - dense_1_acc_19: 1.0000 - dense_1_acc_20: 1.0000 - dense_1_acc_21: 1.0000 - dense_1_acc_22: 1.0000 - dense_1_acc_23: 1.0000 - dense_1_acc_24: 1.0000 - dense_1_acc_25: 1.0000 - dense_1_acc_26: 1.0000 - dense_1_acc_27: 1.0000 - dense_1_acc_28: 1.0000 - dense_1_acc_29: 1.0000 - dense_1_acc_30: 0.0000e+00     \n",
      "Epoch 31/100\n"
     ]
    },
    {
     "name": "stdout",
     "output_type": "stream",
     "text": [
      "60/60 [==============================] - 1s - loss: 5.1776 - dense_1_loss_1: 3.6186 - dense_1_loss_2: 0.9559 - dense_1_loss_3: 0.1867 - dense_1_loss_4: 0.0444 - dense_1_loss_5: 0.0301 - dense_1_loss_6: 0.0221 - dense_1_loss_7: 0.0168 - dense_1_loss_8: 0.0176 - dense_1_loss_9: 0.0169 - dense_1_loss_10: 0.0140 - dense_1_loss_11: 0.0133 - dense_1_loss_12: 0.0129 - dense_1_loss_13: 0.0119 - dense_1_loss_14: 0.0117 - dense_1_loss_15: 0.0127 - dense_1_loss_16: 0.0124 - dense_1_loss_17: 0.0120 - dense_1_loss_18: 0.0126 - dense_1_loss_19: 0.0125 - dense_1_loss_20: 0.0129 - dense_1_loss_21: 0.0131 - dense_1_loss_22: 0.0124 - dense_1_loss_23: 0.0130 - dense_1_loss_24: 0.0128 - dense_1_loss_25: 0.0131 - dense_1_loss_26: 0.0138 - dense_1_loss_27: 0.0166 - dense_1_loss_28: 0.0171 - dense_1_loss_29: 0.0177 - dense_1_loss_30: 0.0000e+00 - dense_1_acc_1: 0.1000 - dense_1_acc_2: 0.7000 - dense_1_acc_3: 0.9667 - dense_1_acc_4: 1.0000 - dense_1_acc_5: 1.0000 - dense_1_acc_6: 1.0000 - dense_1_acc_7: 1.0000 - dense_1_acc_8: 1.0000 - dense_1_acc_9: 1.0000 - dense_1_acc_10: 1.0000 - dense_1_acc_11: 1.0000 - dense_1_acc_12: 1.0000 - dense_1_acc_13: 1.0000 - dense_1_acc_14: 1.0000 - dense_1_acc_15: 1.0000 - dense_1_acc_16: 1.0000 - dense_1_acc_17: 1.0000 - dense_1_acc_18: 1.0000 - dense_1_acc_19: 1.0000 - dense_1_acc_20: 1.0000 - dense_1_acc_21: 1.0000 - dense_1_acc_22: 1.0000 - dense_1_acc_23: 1.0000 - dense_1_acc_24: 1.0000 - dense_1_acc_25: 1.0000 - dense_1_acc_26: 1.0000 - dense_1_acc_27: 1.0000 - dense_1_acc_28: 1.0000 - dense_1_acc_29: 1.0000 - dense_1_acc_30: 0.0000e+00     \n",
      "Epoch 32/100\n",
      "60/60 [==============================] - 1s - loss: 5.1420 - dense_1_loss_1: 3.6130 - dense_1_loss_2: 0.9459 - dense_1_loss_3: 0.1827 - dense_1_loss_4: 0.0430 - dense_1_loss_5: 0.0289 - dense_1_loss_6: 0.0213 - dense_1_loss_7: 0.0161 - dense_1_loss_8: 0.0170 - dense_1_loss_9: 0.0160 - dense_1_loss_10: 0.0135 - dense_1_loss_11: 0.0128 - dense_1_loss_12: 0.0124 - dense_1_loss_13: 0.0115 - dense_1_loss_14: 0.0112 - dense_1_loss_15: 0.0121 - dense_1_loss_16: 0.0119 - dense_1_loss_17: 0.0115 - dense_1_loss_18: 0.0120 - dense_1_loss_19: 0.0121 - dense_1_loss_20: 0.0124 - dense_1_loss_21: 0.0126 - dense_1_loss_22: 0.0119 - dense_1_loss_23: 0.0124 - dense_1_loss_24: 0.0123 - dense_1_loss_25: 0.0126 - dense_1_loss_26: 0.0133 - dense_1_loss_27: 0.0159 - dense_1_loss_28: 0.0164 - dense_1_loss_29: 0.0171 - dense_1_loss_30: 0.0000e+00 - dense_1_acc_1: 0.1000 - dense_1_acc_2: 0.7000 - dense_1_acc_3: 0.9667 - dense_1_acc_4: 1.0000 - dense_1_acc_5: 1.0000 - dense_1_acc_6: 1.0000 - dense_1_acc_7: 1.0000 - dense_1_acc_8: 1.0000 - dense_1_acc_9: 1.0000 - dense_1_acc_10: 1.0000 - dense_1_acc_11: 1.0000 - dense_1_acc_12: 1.0000 - dense_1_acc_13: 1.0000 - dense_1_acc_14: 1.0000 - dense_1_acc_15: 1.0000 - dense_1_acc_16: 1.0000 - dense_1_acc_17: 1.0000 - dense_1_acc_18: 1.0000 - dense_1_acc_19: 1.0000 - dense_1_acc_20: 1.0000 - dense_1_acc_21: 1.0000 - dense_1_acc_22: 1.0000 - dense_1_acc_23: 1.0000 - dense_1_acc_24: 1.0000 - dense_1_acc_25: 1.0000 - dense_1_acc_26: 1.0000 - dense_1_acc_27: 1.0000 - dense_1_acc_28: 1.0000 - dense_1_acc_29: 1.0000 - dense_1_acc_30: 0.0000e+00     \n",
      "Epoch 33/100\n",
      "60/60 [==============================] - 1s - loss: 5.1085 - dense_1_loss_1: 3.6088 - dense_1_loss_2: 0.9342 - dense_1_loss_3: 0.1800 - dense_1_loss_4: 0.0416 - dense_1_loss_5: 0.0280 - dense_1_loss_6: 0.0205 - dense_1_loss_7: 0.0154 - dense_1_loss_8: 0.0164 - dense_1_loss_9: 0.0153 - dense_1_loss_10: 0.0130 - dense_1_loss_11: 0.0124 - dense_1_loss_12: 0.0120 - dense_1_loss_13: 0.0110 - dense_1_loss_14: 0.0108 - dense_1_loss_15: 0.0116 - dense_1_loss_16: 0.0114 - dense_1_loss_17: 0.0112 - dense_1_loss_18: 0.0115 - dense_1_loss_19: 0.0116 - dense_1_loss_20: 0.0119 - dense_1_loss_21: 0.0121 - dense_1_loss_22: 0.0114 - dense_1_loss_23: 0.0119 - dense_1_loss_24: 0.0118 - dense_1_loss_25: 0.0122 - dense_1_loss_26: 0.0130 - dense_1_loss_27: 0.0151 - dense_1_loss_28: 0.0156 - dense_1_loss_29: 0.0167 - dense_1_loss_30: 0.0000e+00 - dense_1_acc_1: 0.1000 - dense_1_acc_2: 0.7000 - dense_1_acc_3: 0.9667 - dense_1_acc_4: 1.0000 - dense_1_acc_5: 1.0000 - dense_1_acc_6: 1.0000 - dense_1_acc_7: 1.0000 - dense_1_acc_8: 1.0000 - dense_1_acc_9: 1.0000 - dense_1_acc_10: 1.0000 - dense_1_acc_11: 1.0000 - dense_1_acc_12: 1.0000 - dense_1_acc_13: 1.0000 - dense_1_acc_14: 1.0000 - dense_1_acc_15: 1.0000 - dense_1_acc_16: 1.0000 - dense_1_acc_17: 1.0000 - dense_1_acc_18: 1.0000 - dense_1_acc_19: 1.0000 - dense_1_acc_20: 1.0000 - dense_1_acc_21: 1.0000 - dense_1_acc_22: 1.0000 - dense_1_acc_23: 1.0000 - dense_1_acc_24: 1.0000 - dense_1_acc_25: 1.0000 - dense_1_acc_26: 1.0000 - dense_1_acc_27: 1.0000 - dense_1_acc_28: 1.0000 - dense_1_acc_29: 1.0000 - dense_1_acc_30: 0.0000e+00     \n",
      "Epoch 34/100\n",
      "60/60 [==============================] - 1s - loss: 5.0733 - dense_1_loss_1: 3.6039 - dense_1_loss_2: 0.9219 - dense_1_loss_3: 0.1765 - dense_1_loss_4: 0.0402 - dense_1_loss_5: 0.0270 - dense_1_loss_6: 0.0197 - dense_1_loss_7: 0.0148 - dense_1_loss_8: 0.0158 - dense_1_loss_9: 0.0146 - dense_1_loss_10: 0.0126 - dense_1_loss_11: 0.0119 - dense_1_loss_12: 0.0115 - dense_1_loss_13: 0.0106 - dense_1_loss_14: 0.0104 - dense_1_loss_15: 0.0112 - dense_1_loss_16: 0.0110 - dense_1_loss_17: 0.0107 - dense_1_loss_18: 0.0111 - dense_1_loss_19: 0.0113 - dense_1_loss_20: 0.0114 - dense_1_loss_21: 0.0117 - dense_1_loss_22: 0.0110 - dense_1_loss_23: 0.0115 - dense_1_loss_24: 0.0113 - dense_1_loss_25: 0.0117 - dense_1_loss_26: 0.0127 - dense_1_loss_27: 0.0143 - dense_1_loss_28: 0.0149 - dense_1_loss_29: 0.0162 - dense_1_loss_30: 0.0000e+00 - dense_1_acc_1: 0.1000 - dense_1_acc_2: 0.7000 - dense_1_acc_3: 0.9667 - dense_1_acc_4: 1.0000 - dense_1_acc_5: 1.0000 - dense_1_acc_6: 1.0000 - dense_1_acc_7: 1.0000 - dense_1_acc_8: 1.0000 - dense_1_acc_9: 1.0000 - dense_1_acc_10: 1.0000 - dense_1_acc_11: 1.0000 - dense_1_acc_12: 1.0000 - dense_1_acc_13: 1.0000 - dense_1_acc_14: 1.0000 - dense_1_acc_15: 1.0000 - dense_1_acc_16: 1.0000 - dense_1_acc_17: 1.0000 - dense_1_acc_18: 1.0000 - dense_1_acc_19: 1.0000 - dense_1_acc_20: 1.0000 - dense_1_acc_21: 1.0000 - dense_1_acc_22: 1.0000 - dense_1_acc_23: 1.0000 - dense_1_acc_24: 1.0000 - dense_1_acc_25: 1.0000 - dense_1_acc_26: 1.0000 - dense_1_acc_27: 1.0000 - dense_1_acc_28: 1.0000 - dense_1_acc_29: 1.0000 - dense_1_acc_30: 0.0000e+00     \n",
      "Epoch 35/100\n",
      "60/60 [==============================] - 1s - loss: 5.0430 - dense_1_loss_1: 3.5991 - dense_1_loss_2: 0.9122 - dense_1_loss_3: 0.1731 - dense_1_loss_4: 0.0389 - dense_1_loss_5: 0.0261 - dense_1_loss_6: 0.0190 - dense_1_loss_7: 0.0143 - dense_1_loss_8: 0.0152 - dense_1_loss_9: 0.0140 - dense_1_loss_10: 0.0122 - dense_1_loss_11: 0.0115 - dense_1_loss_12: 0.0111 - dense_1_loss_13: 0.0102 - dense_1_loss_14: 0.0101 - dense_1_loss_15: 0.0108 - dense_1_loss_16: 0.0106 - dense_1_loss_17: 0.0104 - dense_1_loss_18: 0.0107 - dense_1_loss_19: 0.0109 - dense_1_loss_20: 0.0110 - dense_1_loss_21: 0.0113 - dense_1_loss_22: 0.0107 - dense_1_loss_23: 0.0111 - dense_1_loss_24: 0.0109 - dense_1_loss_25: 0.0112 - dense_1_loss_26: 0.0123 - dense_1_loss_27: 0.0139 - dense_1_loss_28: 0.0144 - dense_1_loss_29: 0.0158 - dense_1_loss_30: 0.0000e+00 - dense_1_acc_1: 0.1000 - dense_1_acc_2: 0.7000 - dense_1_acc_3: 0.9667 - dense_1_acc_4: 1.0000 - dense_1_acc_5: 1.0000 - dense_1_acc_6: 1.0000 - dense_1_acc_7: 1.0000 - dense_1_acc_8: 1.0000 - dense_1_acc_9: 1.0000 - dense_1_acc_10: 1.0000 - dense_1_acc_11: 1.0000 - dense_1_acc_12: 1.0000 - dense_1_acc_13: 1.0000 - dense_1_acc_14: 1.0000 - dense_1_acc_15: 1.0000 - dense_1_acc_16: 1.0000 - dense_1_acc_17: 1.0000 - dense_1_acc_18: 1.0000 - dense_1_acc_19: 1.0000 - dense_1_acc_20: 1.0000 - dense_1_acc_21: 1.0000 - dense_1_acc_22: 1.0000 - dense_1_acc_23: 1.0000 - dense_1_acc_24: 1.0000 - dense_1_acc_25: 1.0000 - dense_1_acc_26: 1.0000 - dense_1_acc_27: 1.0000 - dense_1_acc_28: 1.0000 - dense_1_acc_29: 1.0000 - dense_1_acc_30: 0.0000e+00     \n",
      "Epoch 36/100\n"
     ]
    },
    {
     "name": "stdout",
     "output_type": "stream",
     "text": [
      "60/60 [==============================] - 1s - loss: 5.0135 - dense_1_loss_1: 3.5942 - dense_1_loss_2: 0.9021 - dense_1_loss_3: 0.1707 - dense_1_loss_4: 0.0378 - dense_1_loss_5: 0.0251 - dense_1_loss_6: 0.0184 - dense_1_loss_7: 0.0138 - dense_1_loss_8: 0.0147 - dense_1_loss_9: 0.0136 - dense_1_loss_10: 0.0118 - dense_1_loss_11: 0.0112 - dense_1_loss_12: 0.0107 - dense_1_loss_13: 0.0098 - dense_1_loss_14: 0.0097 - dense_1_loss_15: 0.0105 - dense_1_loss_16: 0.0102 - dense_1_loss_17: 0.0099 - dense_1_loss_18: 0.0104 - dense_1_loss_19: 0.0105 - dense_1_loss_20: 0.0106 - dense_1_loss_21: 0.0108 - dense_1_loss_22: 0.0104 - dense_1_loss_23: 0.0107 - dense_1_loss_24: 0.0106 - dense_1_loss_25: 0.0108 - dense_1_loss_26: 0.0118 - dense_1_loss_27: 0.0136 - dense_1_loss_28: 0.0139 - dense_1_loss_29: 0.0151 - dense_1_loss_30: 0.0000e+00 - dense_1_acc_1: 0.1000 - dense_1_acc_2: 0.7000 - dense_1_acc_3: 0.9667 - dense_1_acc_4: 1.0000 - dense_1_acc_5: 1.0000 - dense_1_acc_6: 1.0000 - dense_1_acc_7: 1.0000 - dense_1_acc_8: 1.0000 - dense_1_acc_9: 1.0000 - dense_1_acc_10: 1.0000 - dense_1_acc_11: 1.0000 - dense_1_acc_12: 1.0000 - dense_1_acc_13: 1.0000 - dense_1_acc_14: 1.0000 - dense_1_acc_15: 1.0000 - dense_1_acc_16: 1.0000 - dense_1_acc_17: 1.0000 - dense_1_acc_18: 1.0000 - dense_1_acc_19: 1.0000 - dense_1_acc_20: 1.0000 - dense_1_acc_21: 1.0000 - dense_1_acc_22: 1.0000 - dense_1_acc_23: 1.0000 - dense_1_acc_24: 1.0000 - dense_1_acc_25: 1.0000 - dense_1_acc_26: 1.0000 - dense_1_acc_27: 1.0000 - dense_1_acc_28: 1.0000 - dense_1_acc_29: 1.0000 - dense_1_acc_30: 0.0000e+00     \n",
      "Epoch 37/100\n",
      "60/60 [==============================] - 1s - loss: 4.9883 - dense_1_loss_1: 3.5899 - dense_1_loss_2: 0.8939 - dense_1_loss_3: 0.1685 - dense_1_loss_4: 0.0368 - dense_1_loss_5: 0.0244 - dense_1_loss_6: 0.0178 - dense_1_loss_7: 0.0134 - dense_1_loss_8: 0.0143 - dense_1_loss_9: 0.0132 - dense_1_loss_10: 0.0114 - dense_1_loss_11: 0.0109 - dense_1_loss_12: 0.0104 - dense_1_loss_13: 0.0095 - dense_1_loss_14: 0.0093 - dense_1_loss_15: 0.0102 - dense_1_loss_16: 0.0098 - dense_1_loss_17: 0.0096 - dense_1_loss_18: 0.0101 - dense_1_loss_19: 0.0102 - dense_1_loss_20: 0.0102 - dense_1_loss_21: 0.0105 - dense_1_loss_22: 0.0101 - dense_1_loss_23: 0.0104 - dense_1_loss_24: 0.0104 - dense_1_loss_25: 0.0104 - dense_1_loss_26: 0.0114 - dense_1_loss_27: 0.0132 - dense_1_loss_28: 0.0134 - dense_1_loss_29: 0.0145 - dense_1_loss_30: 0.0000e+00 - dense_1_acc_1: 0.1000 - dense_1_acc_2: 0.7000 - dense_1_acc_3: 0.9667 - dense_1_acc_4: 1.0000 - dense_1_acc_5: 1.0000 - dense_1_acc_6: 1.0000 - dense_1_acc_7: 1.0000 - dense_1_acc_8: 1.0000 - dense_1_acc_9: 1.0000 - dense_1_acc_10: 1.0000 - dense_1_acc_11: 1.0000 - dense_1_acc_12: 1.0000 - dense_1_acc_13: 1.0000 - dense_1_acc_14: 1.0000 - dense_1_acc_15: 1.0000 - dense_1_acc_16: 1.0000 - dense_1_acc_17: 1.0000 - dense_1_acc_18: 1.0000 - dense_1_acc_19: 1.0000 - dense_1_acc_20: 1.0000 - dense_1_acc_21: 1.0000 - dense_1_acc_22: 1.0000 - dense_1_acc_23: 1.0000 - dense_1_acc_24: 1.0000 - dense_1_acc_25: 1.0000 - dense_1_acc_26: 1.0000 - dense_1_acc_27: 1.0000 - dense_1_acc_28: 1.0000 - dense_1_acc_29: 1.0000 - dense_1_acc_30: 0.0000e+00     \n",
      "Epoch 38/100\n",
      "60/60 [==============================] - 1s - loss: 4.9622 - dense_1_loss_1: 3.5851 - dense_1_loss_2: 0.8849 - dense_1_loss_3: 0.1662 - dense_1_loss_4: 0.0358 - dense_1_loss_5: 0.0237 - dense_1_loss_6: 0.0172 - dense_1_loss_7: 0.0130 - dense_1_loss_8: 0.0137 - dense_1_loss_9: 0.0129 - dense_1_loss_10: 0.0111 - dense_1_loss_11: 0.0106 - dense_1_loss_12: 0.0101 - dense_1_loss_13: 0.0092 - dense_1_loss_14: 0.0090 - dense_1_loss_15: 0.0099 - dense_1_loss_16: 0.0095 - dense_1_loss_17: 0.0093 - dense_1_loss_18: 0.0098 - dense_1_loss_19: 0.0099 - dense_1_loss_20: 0.0099 - dense_1_loss_21: 0.0102 - dense_1_loss_22: 0.0098 - dense_1_loss_23: 0.0101 - dense_1_loss_24: 0.0100 - dense_1_loss_25: 0.0101 - dense_1_loss_26: 0.0110 - dense_1_loss_27: 0.0129 - dense_1_loss_28: 0.0131 - dense_1_loss_29: 0.0140 - dense_1_loss_30: 0.0000e+00 - dense_1_acc_1: 0.1000 - dense_1_acc_2: 0.7000 - dense_1_acc_3: 0.9667 - dense_1_acc_4: 1.0000 - dense_1_acc_5: 1.0000 - dense_1_acc_6: 1.0000 - dense_1_acc_7: 1.0000 - dense_1_acc_8: 1.0000 - dense_1_acc_9: 1.0000 - dense_1_acc_10: 1.0000 - dense_1_acc_11: 1.0000 - dense_1_acc_12: 1.0000 - dense_1_acc_13: 1.0000 - dense_1_acc_14: 1.0000 - dense_1_acc_15: 1.0000 - dense_1_acc_16: 1.0000 - dense_1_acc_17: 1.0000 - dense_1_acc_18: 1.0000 - dense_1_acc_19: 1.0000 - dense_1_acc_20: 1.0000 - dense_1_acc_21: 1.0000 - dense_1_acc_22: 1.0000 - dense_1_acc_23: 1.0000 - dense_1_acc_24: 1.0000 - dense_1_acc_25: 1.0000 - dense_1_acc_26: 1.0000 - dense_1_acc_27: 1.0000 - dense_1_acc_28: 1.0000 - dense_1_acc_29: 1.0000 - dense_1_acc_30: 0.0000e+00     \n",
      "Epoch 39/100\n",
      "60/60 [==============================] - 1s - loss: 4.9360 - dense_1_loss_1: 3.5805 - dense_1_loss_2: 0.8758 - dense_1_loss_3: 0.1637 - dense_1_loss_4: 0.0347 - dense_1_loss_5: 0.0230 - dense_1_loss_6: 0.0166 - dense_1_loss_7: 0.0125 - dense_1_loss_8: 0.0133 - dense_1_loss_9: 0.0125 - dense_1_loss_10: 0.0108 - dense_1_loss_11: 0.0103 - dense_1_loss_12: 0.0098 - dense_1_loss_13: 0.0090 - dense_1_loss_14: 0.0087 - dense_1_loss_15: 0.0096 - dense_1_loss_16: 0.0092 - dense_1_loss_17: 0.0090 - dense_1_loss_18: 0.0095 - dense_1_loss_19: 0.0096 - dense_1_loss_20: 0.0096 - dense_1_loss_21: 0.0099 - dense_1_loss_22: 0.0095 - dense_1_loss_23: 0.0098 - dense_1_loss_24: 0.0098 - dense_1_loss_25: 0.0098 - dense_1_loss_26: 0.0107 - dense_1_loss_27: 0.0125 - dense_1_loss_28: 0.0128 - dense_1_loss_29: 0.0136 - dense_1_loss_30: 0.0000e+00 - dense_1_acc_1: 0.1000 - dense_1_acc_2: 0.7000 - dense_1_acc_3: 0.9667 - dense_1_acc_4: 1.0000 - dense_1_acc_5: 1.0000 - dense_1_acc_6: 1.0000 - dense_1_acc_7: 1.0000 - dense_1_acc_8: 1.0000 - dense_1_acc_9: 1.0000 - dense_1_acc_10: 1.0000 - dense_1_acc_11: 1.0000 - dense_1_acc_12: 1.0000 - dense_1_acc_13: 1.0000 - dense_1_acc_14: 1.0000 - dense_1_acc_15: 1.0000 - dense_1_acc_16: 1.0000 - dense_1_acc_17: 1.0000 - dense_1_acc_18: 1.0000 - dense_1_acc_19: 1.0000 - dense_1_acc_20: 1.0000 - dense_1_acc_21: 1.0000 - dense_1_acc_22: 1.0000 - dense_1_acc_23: 1.0000 - dense_1_acc_24: 1.0000 - dense_1_acc_25: 1.0000 - dense_1_acc_26: 1.0000 - dense_1_acc_27: 1.0000 - dense_1_acc_28: 1.0000 - dense_1_acc_29: 1.0000 - dense_1_acc_30: 0.0000e+00     \n",
      "Epoch 40/100\n",
      "60/60 [==============================] - 1s - loss: 4.9137 - dense_1_loss_1: 3.5764 - dense_1_loss_2: 0.8681 - dense_1_loss_3: 0.1617 - dense_1_loss_4: 0.0339 - dense_1_loss_5: 0.0225 - dense_1_loss_6: 0.0161 - dense_1_loss_7: 0.0122 - dense_1_loss_8: 0.0129 - dense_1_loss_9: 0.0121 - dense_1_loss_10: 0.0105 - dense_1_loss_11: 0.0100 - dense_1_loss_12: 0.0095 - dense_1_loss_13: 0.0087 - dense_1_loss_14: 0.0085 - dense_1_loss_15: 0.0093 - dense_1_loss_16: 0.0089 - dense_1_loss_17: 0.0087 - dense_1_loss_18: 0.0093 - dense_1_loss_19: 0.0093 - dense_1_loss_20: 0.0093 - dense_1_loss_21: 0.0096 - dense_1_loss_22: 0.0092 - dense_1_loss_23: 0.0096 - dense_1_loss_24: 0.0095 - dense_1_loss_25: 0.0096 - dense_1_loss_26: 0.0104 - dense_1_loss_27: 0.0122 - dense_1_loss_28: 0.0124 - dense_1_loss_29: 0.0132 - dense_1_loss_30: 0.0000e+00 - dense_1_acc_1: 0.1000 - dense_1_acc_2: 0.7000 - dense_1_acc_3: 0.9667 - dense_1_acc_4: 1.0000 - dense_1_acc_5: 1.0000 - dense_1_acc_6: 1.0000 - dense_1_acc_7: 1.0000 - dense_1_acc_8: 1.0000 - dense_1_acc_9: 1.0000 - dense_1_acc_10: 1.0000 - dense_1_acc_11: 1.0000 - dense_1_acc_12: 1.0000 - dense_1_acc_13: 1.0000 - dense_1_acc_14: 1.0000 - dense_1_acc_15: 1.0000 - dense_1_acc_16: 1.0000 - dense_1_acc_17: 1.0000 - dense_1_acc_18: 1.0000 - dense_1_acc_19: 1.0000 - dense_1_acc_20: 1.0000 - dense_1_acc_21: 1.0000 - dense_1_acc_22: 1.0000 - dense_1_acc_23: 1.0000 - dense_1_acc_24: 1.0000 - dense_1_acc_25: 1.0000 - dense_1_acc_26: 1.0000 - dense_1_acc_27: 1.0000 - dense_1_acc_28: 1.0000 - dense_1_acc_29: 1.0000 - dense_1_acc_30: 0.0000e+00     \n",
      "Epoch 41/100\n"
     ]
    },
    {
     "name": "stdout",
     "output_type": "stream",
     "text": [
      "60/60 [==============================] - 1s - loss: 4.8905 - dense_1_loss_1: 3.5723 - dense_1_loss_2: 0.8595 - dense_1_loss_3: 0.1595 - dense_1_loss_4: 0.0331 - dense_1_loss_5: 0.0220 - dense_1_loss_6: 0.0156 - dense_1_loss_7: 0.0119 - dense_1_loss_8: 0.0125 - dense_1_loss_9: 0.0118 - dense_1_loss_10: 0.0102 - dense_1_loss_11: 0.0097 - dense_1_loss_12: 0.0093 - dense_1_loss_13: 0.0085 - dense_1_loss_14: 0.0083 - dense_1_loss_15: 0.0091 - dense_1_loss_16: 0.0087 - dense_1_loss_17: 0.0085 - dense_1_loss_18: 0.0090 - dense_1_loss_19: 0.0091 - dense_1_loss_20: 0.0091 - dense_1_loss_21: 0.0094 - dense_1_loss_22: 0.0090 - dense_1_loss_23: 0.0093 - dense_1_loss_24: 0.0092 - dense_1_loss_25: 0.0094 - dense_1_loss_26: 0.0101 - dense_1_loss_27: 0.0118 - dense_1_loss_28: 0.0121 - dense_1_loss_29: 0.0128 - dense_1_loss_30: 0.0000e+00 - dense_1_acc_1: 0.1000 - dense_1_acc_2: 0.7000 - dense_1_acc_3: 0.9667 - dense_1_acc_4: 1.0000 - dense_1_acc_5: 1.0000 - dense_1_acc_6: 1.0000 - dense_1_acc_7: 1.0000 - dense_1_acc_8: 1.0000 - dense_1_acc_9: 1.0000 - dense_1_acc_10: 1.0000 - dense_1_acc_11: 1.0000 - dense_1_acc_12: 1.0000 - dense_1_acc_13: 1.0000 - dense_1_acc_14: 1.0000 - dense_1_acc_15: 1.0000 - dense_1_acc_16: 1.0000 - dense_1_acc_17: 1.0000 - dense_1_acc_18: 1.0000 - dense_1_acc_19: 1.0000 - dense_1_acc_20: 1.0000 - dense_1_acc_21: 1.0000 - dense_1_acc_22: 1.0000 - dense_1_acc_23: 1.0000 - dense_1_acc_24: 1.0000 - dense_1_acc_25: 1.0000 - dense_1_acc_26: 1.0000 - dense_1_acc_27: 1.0000 - dense_1_acc_28: 1.0000 - dense_1_acc_29: 1.0000 - dense_1_acc_30: 0.0000e+00     \n",
      "Epoch 42/100\n",
      "60/60 [==============================] - 1s - loss: 4.8688 - dense_1_loss_1: 3.5679 - dense_1_loss_2: 0.8522 - dense_1_loss_3: 0.1576 - dense_1_loss_4: 0.0323 - dense_1_loss_5: 0.0214 - dense_1_loss_6: 0.0152 - dense_1_loss_7: 0.0115 - dense_1_loss_8: 0.0121 - dense_1_loss_9: 0.0114 - dense_1_loss_10: 0.0099 - dense_1_loss_11: 0.0095 - dense_1_loss_12: 0.0090 - dense_1_loss_13: 0.0083 - dense_1_loss_14: 0.0081 - dense_1_loss_15: 0.0088 - dense_1_loss_16: 0.0084 - dense_1_loss_17: 0.0082 - dense_1_loss_18: 0.0088 - dense_1_loss_19: 0.0088 - dense_1_loss_20: 0.0088 - dense_1_loss_21: 0.0091 - dense_1_loss_22: 0.0088 - dense_1_loss_23: 0.0090 - dense_1_loss_24: 0.0090 - dense_1_loss_25: 0.0092 - dense_1_loss_26: 0.0098 - dense_1_loss_27: 0.0114 - dense_1_loss_28: 0.0117 - dense_1_loss_29: 0.0125 - dense_1_loss_30: 0.0000e+00 - dense_1_acc_1: 0.1000 - dense_1_acc_2: 0.7167 - dense_1_acc_3: 0.9667 - dense_1_acc_4: 1.0000 - dense_1_acc_5: 1.0000 - dense_1_acc_6: 1.0000 - dense_1_acc_7: 1.0000 - dense_1_acc_8: 1.0000 - dense_1_acc_9: 1.0000 - dense_1_acc_10: 1.0000 - dense_1_acc_11: 1.0000 - dense_1_acc_12: 1.0000 - dense_1_acc_13: 1.0000 - dense_1_acc_14: 1.0000 - dense_1_acc_15: 1.0000 - dense_1_acc_16: 1.0000 - dense_1_acc_17: 1.0000 - dense_1_acc_18: 1.0000 - dense_1_acc_19: 1.0000 - dense_1_acc_20: 1.0000 - dense_1_acc_21: 1.0000 - dense_1_acc_22: 1.0000 - dense_1_acc_23: 1.0000 - dense_1_acc_24: 1.0000 - dense_1_acc_25: 1.0000 - dense_1_acc_26: 1.0000 - dense_1_acc_27: 1.0000 - dense_1_acc_28: 1.0000 - dense_1_acc_29: 1.0000 - dense_1_acc_30: 0.0000e+00     \n",
      "Epoch 43/100\n",
      "60/60 [==============================] - 1s - loss: 4.8480 - dense_1_loss_1: 3.5637 - dense_1_loss_2: 0.8452 - dense_1_loss_3: 0.1555 - dense_1_loss_4: 0.0315 - dense_1_loss_5: 0.0210 - dense_1_loss_6: 0.0148 - dense_1_loss_7: 0.0112 - dense_1_loss_8: 0.0118 - dense_1_loss_9: 0.0111 - dense_1_loss_10: 0.0097 - dense_1_loss_11: 0.0092 - dense_1_loss_12: 0.0088 - dense_1_loss_13: 0.0081 - dense_1_loss_14: 0.0079 - dense_1_loss_15: 0.0086 - dense_1_loss_16: 0.0082 - dense_1_loss_17: 0.0080 - dense_1_loss_18: 0.0085 - dense_1_loss_19: 0.0086 - dense_1_loss_20: 0.0086 - dense_1_loss_21: 0.0088 - dense_1_loss_22: 0.0085 - dense_1_loss_23: 0.0088 - dense_1_loss_24: 0.0087 - dense_1_loss_25: 0.0090 - dense_1_loss_26: 0.0095 - dense_1_loss_27: 0.0112 - dense_1_loss_28: 0.0114 - dense_1_loss_29: 0.0121 - dense_1_loss_30: 0.0000e+00 - dense_1_acc_1: 0.1000 - dense_1_acc_2: 0.7167 - dense_1_acc_3: 0.9667 - dense_1_acc_4: 1.0000 - dense_1_acc_5: 1.0000 - dense_1_acc_6: 1.0000 - dense_1_acc_7: 1.0000 - dense_1_acc_8: 1.0000 - dense_1_acc_9: 1.0000 - dense_1_acc_10: 1.0000 - dense_1_acc_11: 1.0000 - dense_1_acc_12: 1.0000 - dense_1_acc_13: 1.0000 - dense_1_acc_14: 1.0000 - dense_1_acc_15: 1.0000 - dense_1_acc_16: 1.0000 - dense_1_acc_17: 1.0000 - dense_1_acc_18: 1.0000 - dense_1_acc_19: 1.0000 - dense_1_acc_20: 1.0000 - dense_1_acc_21: 1.0000 - dense_1_acc_22: 1.0000 - dense_1_acc_23: 1.0000 - dense_1_acc_24: 1.0000 - dense_1_acc_25: 1.0000 - dense_1_acc_26: 1.0000 - dense_1_acc_27: 1.0000 - dense_1_acc_28: 1.0000 - dense_1_acc_29: 1.0000 - dense_1_acc_30: 0.0000e+00     \n",
      "Epoch 44/100\n",
      "60/60 [==============================] - 1s - loss: 4.8278 - dense_1_loss_1: 3.5594 - dense_1_loss_2: 0.8382 - dense_1_loss_3: 0.1537 - dense_1_loss_4: 0.0307 - dense_1_loss_5: 0.0204 - dense_1_loss_6: 0.0145 - dense_1_loss_7: 0.0109 - dense_1_loss_8: 0.0115 - dense_1_loss_9: 0.0109 - dense_1_loss_10: 0.0094 - dense_1_loss_11: 0.0090 - dense_1_loss_12: 0.0086 - dense_1_loss_13: 0.0079 - dense_1_loss_14: 0.0076 - dense_1_loss_15: 0.0083 - dense_1_loss_16: 0.0080 - dense_1_loss_17: 0.0078 - dense_1_loss_18: 0.0083 - dense_1_loss_19: 0.0084 - dense_1_loss_20: 0.0083 - dense_1_loss_21: 0.0086 - dense_1_loss_22: 0.0083 - dense_1_loss_23: 0.0086 - dense_1_loss_24: 0.0085 - dense_1_loss_25: 0.0088 - dense_1_loss_26: 0.0092 - dense_1_loss_27: 0.0110 - dense_1_loss_28: 0.0112 - dense_1_loss_29: 0.0118 - dense_1_loss_30: 0.0000e+00 - dense_1_acc_1: 0.1000 - dense_1_acc_2: 0.7167 - dense_1_acc_3: 0.9667 - dense_1_acc_4: 1.0000 - dense_1_acc_5: 1.0000 - dense_1_acc_6: 1.0000 - dense_1_acc_7: 1.0000 - dense_1_acc_8: 1.0000 - dense_1_acc_9: 1.0000 - dense_1_acc_10: 1.0000 - dense_1_acc_11: 1.0000 - dense_1_acc_12: 1.0000 - dense_1_acc_13: 1.0000 - dense_1_acc_14: 1.0000 - dense_1_acc_15: 1.0000 - dense_1_acc_16: 1.0000 - dense_1_acc_17: 1.0000 - dense_1_acc_18: 1.0000 - dense_1_acc_19: 1.0000 - dense_1_acc_20: 1.0000 - dense_1_acc_21: 1.0000 - dense_1_acc_22: 1.0000 - dense_1_acc_23: 1.0000 - dense_1_acc_24: 1.0000 - dense_1_acc_25: 1.0000 - dense_1_acc_26: 1.0000 - dense_1_acc_27: 1.0000 - dense_1_acc_28: 1.0000 - dense_1_acc_29: 1.0000 - dense_1_acc_30: 0.0000e+00     \n",
      "Epoch 45/100\n",
      "60/60 [==============================] - 1s - loss: 4.8095 - dense_1_loss_1: 3.5557 - dense_1_loss_2: 0.8316 - dense_1_loss_3: 0.1525 - dense_1_loss_4: 0.0300 - dense_1_loss_5: 0.0199 - dense_1_loss_6: 0.0141 - dense_1_loss_7: 0.0106 - dense_1_loss_8: 0.0111 - dense_1_loss_9: 0.0106 - dense_1_loss_10: 0.0092 - dense_1_loss_11: 0.0088 - dense_1_loss_12: 0.0084 - dense_1_loss_13: 0.0077 - dense_1_loss_14: 0.0075 - dense_1_loss_15: 0.0081 - dense_1_loss_16: 0.0078 - dense_1_loss_17: 0.0076 - dense_1_loss_18: 0.0081 - dense_1_loss_19: 0.0082 - dense_1_loss_20: 0.0081 - dense_1_loss_21: 0.0084 - dense_1_loss_22: 0.0081 - dense_1_loss_23: 0.0084 - dense_1_loss_24: 0.0083 - dense_1_loss_25: 0.0086 - dense_1_loss_26: 0.0091 - dense_1_loss_27: 0.0107 - dense_1_loss_28: 0.0110 - dense_1_loss_29: 0.0115 - dense_1_loss_30: 0.0000e+00 - dense_1_acc_1: 0.1000 - dense_1_acc_2: 0.7167 - dense_1_acc_3: 0.9667 - dense_1_acc_4: 1.0000 - dense_1_acc_5: 1.0000 - dense_1_acc_6: 1.0000 - dense_1_acc_7: 1.0000 - dense_1_acc_8: 1.0000 - dense_1_acc_9: 1.0000 - dense_1_acc_10: 1.0000 - dense_1_acc_11: 1.0000 - dense_1_acc_12: 1.0000 - dense_1_acc_13: 1.0000 - dense_1_acc_14: 1.0000 - dense_1_acc_15: 1.0000 - dense_1_acc_16: 1.0000 - dense_1_acc_17: 1.0000 - dense_1_acc_18: 1.0000 - dense_1_acc_19: 1.0000 - dense_1_acc_20: 1.0000 - dense_1_acc_21: 1.0000 - dense_1_acc_22: 1.0000 - dense_1_acc_23: 1.0000 - dense_1_acc_24: 1.0000 - dense_1_acc_25: 1.0000 - dense_1_acc_26: 1.0000 - dense_1_acc_27: 1.0000 - dense_1_acc_28: 1.0000 - dense_1_acc_29: 1.0000 - dense_1_acc_30: 0.0000e+00     \n",
      "Epoch 46/100\n"
     ]
    },
    {
     "name": "stdout",
     "output_type": "stream",
     "text": [
      "60/60 [==============================] - 1s - loss: 4.7910 - dense_1_loss_1: 3.5516 - dense_1_loss_2: 0.8256 - dense_1_loss_3: 0.1505 - dense_1_loss_4: 0.0293 - dense_1_loss_5: 0.0194 - dense_1_loss_6: 0.0138 - dense_1_loss_7: 0.0103 - dense_1_loss_8: 0.0109 - dense_1_loss_9: 0.0103 - dense_1_loss_10: 0.0090 - dense_1_loss_11: 0.0086 - dense_1_loss_12: 0.0082 - dense_1_loss_13: 0.0075 - dense_1_loss_14: 0.0073 - dense_1_loss_15: 0.0079 - dense_1_loss_16: 0.0076 - dense_1_loss_17: 0.0075 - dense_1_loss_18: 0.0079 - dense_1_loss_19: 0.0080 - dense_1_loss_20: 0.0080 - dense_1_loss_21: 0.0082 - dense_1_loss_22: 0.0079 - dense_1_loss_23: 0.0082 - dense_1_loss_24: 0.0081 - dense_1_loss_25: 0.0084 - dense_1_loss_26: 0.0089 - dense_1_loss_27: 0.0104 - dense_1_loss_28: 0.0107 - dense_1_loss_29: 0.0112 - dense_1_loss_30: 0.0000e+00 - dense_1_acc_1: 0.1000 - dense_1_acc_2: 0.7167 - dense_1_acc_3: 0.9667 - dense_1_acc_4: 1.0000 - dense_1_acc_5: 1.0000 - dense_1_acc_6: 1.0000 - dense_1_acc_7: 1.0000 - dense_1_acc_8: 1.0000 - dense_1_acc_9: 1.0000 - dense_1_acc_10: 1.0000 - dense_1_acc_11: 1.0000 - dense_1_acc_12: 1.0000 - dense_1_acc_13: 1.0000 - dense_1_acc_14: 1.0000 - dense_1_acc_15: 1.0000 - dense_1_acc_16: 1.0000 - dense_1_acc_17: 1.0000 - dense_1_acc_18: 1.0000 - dense_1_acc_19: 1.0000 - dense_1_acc_20: 1.0000 - dense_1_acc_21: 1.0000 - dense_1_acc_22: 1.0000 - dense_1_acc_23: 1.0000 - dense_1_acc_24: 1.0000 - dense_1_acc_25: 1.0000 - dense_1_acc_26: 1.0000 - dense_1_acc_27: 1.0000 - dense_1_acc_28: 1.0000 - dense_1_acc_29: 1.0000 - dense_1_acc_30: 0.0000e+00     \n",
      "Epoch 47/100\n",
      "60/60 [==============================] - 1s - loss: 4.7736 - dense_1_loss_1: 3.5476 - dense_1_loss_2: 0.8194 - dense_1_loss_3: 0.1492 - dense_1_loss_4: 0.0287 - dense_1_loss_5: 0.0190 - dense_1_loss_6: 0.0136 - dense_1_loss_7: 0.0101 - dense_1_loss_8: 0.0106 - dense_1_loss_9: 0.0101 - dense_1_loss_10: 0.0088 - dense_1_loss_11: 0.0084 - dense_1_loss_12: 0.0080 - dense_1_loss_13: 0.0073 - dense_1_loss_14: 0.0071 - dense_1_loss_15: 0.0077 - dense_1_loss_16: 0.0074 - dense_1_loss_17: 0.0073 - dense_1_loss_18: 0.0077 - dense_1_loss_19: 0.0078 - dense_1_loss_20: 0.0078 - dense_1_loss_21: 0.0080 - dense_1_loss_22: 0.0077 - dense_1_loss_23: 0.0080 - dense_1_loss_24: 0.0079 - dense_1_loss_25: 0.0082 - dense_1_loss_26: 0.0087 - dense_1_loss_27: 0.0101 - dense_1_loss_28: 0.0104 - dense_1_loss_29: 0.0110 - dense_1_loss_30: 0.0000e+00 - dense_1_acc_1: 0.1000 - dense_1_acc_2: 0.7167 - dense_1_acc_3: 0.9667 - dense_1_acc_4: 1.0000 - dense_1_acc_5: 1.0000 - dense_1_acc_6: 1.0000 - dense_1_acc_7: 1.0000 - dense_1_acc_8: 1.0000 - dense_1_acc_9: 1.0000 - dense_1_acc_10: 1.0000 - dense_1_acc_11: 1.0000 - dense_1_acc_12: 1.0000 - dense_1_acc_13: 1.0000 - dense_1_acc_14: 1.0000 - dense_1_acc_15: 1.0000 - dense_1_acc_16: 1.0000 - dense_1_acc_17: 1.0000 - dense_1_acc_18: 1.0000 - dense_1_acc_19: 1.0000 - dense_1_acc_20: 1.0000 - dense_1_acc_21: 1.0000 - dense_1_acc_22: 1.0000 - dense_1_acc_23: 1.0000 - dense_1_acc_24: 1.0000 - dense_1_acc_25: 1.0000 - dense_1_acc_26: 1.0000 - dense_1_acc_27: 1.0000 - dense_1_acc_28: 1.0000 - dense_1_acc_29: 1.0000 - dense_1_acc_30: 0.0000e+00     \n",
      "Epoch 48/100\n",
      "60/60 [==============================] - 1s - loss: 4.7560 - dense_1_loss_1: 3.5440 - dense_1_loss_2: 0.8133 - dense_1_loss_3: 0.1473 - dense_1_loss_4: 0.0281 - dense_1_loss_5: 0.0185 - dense_1_loss_6: 0.0133 - dense_1_loss_7: 0.0098 - dense_1_loss_8: 0.0104 - dense_1_loss_9: 0.0099 - dense_1_loss_10: 0.0086 - dense_1_loss_11: 0.0081 - dense_1_loss_12: 0.0078 - dense_1_loss_13: 0.0072 - dense_1_loss_14: 0.0069 - dense_1_loss_15: 0.0075 - dense_1_loss_16: 0.0072 - dense_1_loss_17: 0.0071 - dense_1_loss_18: 0.0075 - dense_1_loss_19: 0.0076 - dense_1_loss_20: 0.0076 - dense_1_loss_21: 0.0079 - dense_1_loss_22: 0.0076 - dense_1_loss_23: 0.0079 - dense_1_loss_24: 0.0077 - dense_1_loss_25: 0.0080 - dense_1_loss_26: 0.0085 - dense_1_loss_27: 0.0098 - dense_1_loss_28: 0.0102 - dense_1_loss_29: 0.0108 - dense_1_loss_30: 0.0000e+00 - dense_1_acc_1: 0.1000 - dense_1_acc_2: 0.7167 - dense_1_acc_3: 0.9667 - dense_1_acc_4: 1.0000 - dense_1_acc_5: 1.0000 - dense_1_acc_6: 1.0000 - dense_1_acc_7: 1.0000 - dense_1_acc_8: 1.0000 - dense_1_acc_9: 1.0000 - dense_1_acc_10: 1.0000 - dense_1_acc_11: 1.0000 - dense_1_acc_12: 1.0000 - dense_1_acc_13: 1.0000 - dense_1_acc_14: 1.0000 - dense_1_acc_15: 1.0000 - dense_1_acc_16: 1.0000 - dense_1_acc_17: 1.0000 - dense_1_acc_18: 1.0000 - dense_1_acc_19: 1.0000 - dense_1_acc_20: 1.0000 - dense_1_acc_21: 1.0000 - dense_1_acc_22: 1.0000 - dense_1_acc_23: 1.0000 - dense_1_acc_24: 1.0000 - dense_1_acc_25: 1.0000 - dense_1_acc_26: 1.0000 - dense_1_acc_27: 1.0000 - dense_1_acc_28: 1.0000 - dense_1_acc_29: 1.0000 - dense_1_acc_30: 0.0000e+00     \n",
      "Epoch 49/100\n",
      "60/60 [==============================] - 1s - loss: 4.7392 - dense_1_loss_1: 3.5400 - dense_1_loss_2: 0.8078 - dense_1_loss_3: 0.1455 - dense_1_loss_4: 0.0276 - dense_1_loss_5: 0.0181 - dense_1_loss_6: 0.0130 - dense_1_loss_7: 0.0096 - dense_1_loss_8: 0.0102 - dense_1_loss_9: 0.0097 - dense_1_loss_10: 0.0084 - dense_1_loss_11: 0.0080 - dense_1_loss_12: 0.0076 - dense_1_loss_13: 0.0070 - dense_1_loss_14: 0.0068 - dense_1_loss_15: 0.0073 - dense_1_loss_16: 0.0071 - dense_1_loss_17: 0.0069 - dense_1_loss_18: 0.0074 - dense_1_loss_19: 0.0074 - dense_1_loss_20: 0.0074 - dense_1_loss_21: 0.0077 - dense_1_loss_22: 0.0074 - dense_1_loss_23: 0.0077 - dense_1_loss_24: 0.0076 - dense_1_loss_25: 0.0078 - dense_1_loss_26: 0.0084 - dense_1_loss_27: 0.0096 - dense_1_loss_28: 0.0099 - dense_1_loss_29: 0.0105 - dense_1_loss_30: 0.0000e+00 - dense_1_acc_1: 0.1000 - dense_1_acc_2: 0.7167 - dense_1_acc_3: 0.9667 - dense_1_acc_4: 1.0000 - dense_1_acc_5: 1.0000 - dense_1_acc_6: 1.0000 - dense_1_acc_7: 1.0000 - dense_1_acc_8: 1.0000 - dense_1_acc_9: 1.0000 - dense_1_acc_10: 1.0000 - dense_1_acc_11: 1.0000 - dense_1_acc_12: 1.0000 - dense_1_acc_13: 1.0000 - dense_1_acc_14: 1.0000 - dense_1_acc_15: 1.0000 - dense_1_acc_16: 1.0000 - dense_1_acc_17: 1.0000 - dense_1_acc_18: 1.0000 - dense_1_acc_19: 1.0000 - dense_1_acc_20: 1.0000 - dense_1_acc_21: 1.0000 - dense_1_acc_22: 1.0000 - dense_1_acc_23: 1.0000 - dense_1_acc_24: 1.0000 - dense_1_acc_25: 1.0000 - dense_1_acc_26: 1.0000 - dense_1_acc_27: 1.0000 - dense_1_acc_28: 1.0000 - dense_1_acc_29: 1.0000 - dense_1_acc_30: 0.0000e+00     \n",
      "Epoch 50/100\n",
      "60/60 [==============================] - 1s - loss: 4.7232 - dense_1_loss_1: 3.5364 - dense_1_loss_2: 0.8019 - dense_1_loss_3: 0.1444 - dense_1_loss_4: 0.0271 - dense_1_loss_5: 0.0177 - dense_1_loss_6: 0.0127 - dense_1_loss_7: 0.0094 - dense_1_loss_8: 0.0099 - dense_1_loss_9: 0.0095 - dense_1_loss_10: 0.0082 - dense_1_loss_11: 0.0078 - dense_1_loss_12: 0.0075 - dense_1_loss_13: 0.0068 - dense_1_loss_14: 0.0066 - dense_1_loss_15: 0.0072 - dense_1_loss_16: 0.0069 - dense_1_loss_17: 0.0068 - dense_1_loss_18: 0.0072 - dense_1_loss_19: 0.0072 - dense_1_loss_20: 0.0072 - dense_1_loss_21: 0.0075 - dense_1_loss_22: 0.0073 - dense_1_loss_23: 0.0075 - dense_1_loss_24: 0.0074 - dense_1_loss_25: 0.0076 - dense_1_loss_26: 0.0081 - dense_1_loss_27: 0.0095 - dense_1_loss_28: 0.0097 - dense_1_loss_29: 0.0102 - dense_1_loss_30: 0.0000e+00 - dense_1_acc_1: 0.1000 - dense_1_acc_2: 0.7167 - dense_1_acc_3: 0.9667 - dense_1_acc_4: 1.0000 - dense_1_acc_5: 1.0000 - dense_1_acc_6: 1.0000 - dense_1_acc_7: 1.0000 - dense_1_acc_8: 1.0000 - dense_1_acc_9: 1.0000 - dense_1_acc_10: 1.0000 - dense_1_acc_11: 1.0000 - dense_1_acc_12: 1.0000 - dense_1_acc_13: 1.0000 - dense_1_acc_14: 1.0000 - dense_1_acc_15: 1.0000 - dense_1_acc_16: 1.0000 - dense_1_acc_17: 1.0000 - dense_1_acc_18: 1.0000 - dense_1_acc_19: 1.0000 - dense_1_acc_20: 1.0000 - dense_1_acc_21: 1.0000 - dense_1_acc_22: 1.0000 - dense_1_acc_23: 1.0000 - dense_1_acc_24: 1.0000 - dense_1_acc_25: 1.0000 - dense_1_acc_26: 1.0000 - dense_1_acc_27: 1.0000 - dense_1_acc_28: 1.0000 - dense_1_acc_29: 1.0000 - dense_1_acc_30: 0.0000e+00     \n",
      "Epoch 51/100\n"
     ]
    },
    {
     "name": "stdout",
     "output_type": "stream",
     "text": [
      "60/60 [==============================] - 1s - loss: 4.7077 - dense_1_loss_1: 3.5329 - dense_1_loss_2: 0.7964 - dense_1_loss_3: 0.1429 - dense_1_loss_4: 0.0266 - dense_1_loss_5: 0.0174 - dense_1_loss_6: 0.0125 - dense_1_loss_7: 0.0092 - dense_1_loss_8: 0.0097 - dense_1_loss_9: 0.0093 - dense_1_loss_10: 0.0080 - dense_1_loss_11: 0.0077 - dense_1_loss_12: 0.0073 - dense_1_loss_13: 0.0067 - dense_1_loss_14: 0.0065 - dense_1_loss_15: 0.0070 - dense_1_loss_16: 0.0068 - dense_1_loss_17: 0.0066 - dense_1_loss_18: 0.0070 - dense_1_loss_19: 0.0071 - dense_1_loss_20: 0.0071 - dense_1_loss_21: 0.0074 - dense_1_loss_22: 0.0071 - dense_1_loss_23: 0.0074 - dense_1_loss_24: 0.0072 - dense_1_loss_25: 0.0075 - dense_1_loss_26: 0.0079 - dense_1_loss_27: 0.0093 - dense_1_loss_28: 0.0095 - dense_1_loss_29: 0.0100 - dense_1_loss_30: 0.0000e+00 - dense_1_acc_1: 0.1000 - dense_1_acc_2: 0.7167 - dense_1_acc_3: 0.9667 - dense_1_acc_4: 1.0000 - dense_1_acc_5: 1.0000 - dense_1_acc_6: 1.0000 - dense_1_acc_7: 1.0000 - dense_1_acc_8: 1.0000 - dense_1_acc_9: 1.0000 - dense_1_acc_10: 1.0000 - dense_1_acc_11: 1.0000 - dense_1_acc_12: 1.0000 - dense_1_acc_13: 1.0000 - dense_1_acc_14: 1.0000 - dense_1_acc_15: 1.0000 - dense_1_acc_16: 1.0000 - dense_1_acc_17: 1.0000 - dense_1_acc_18: 1.0000 - dense_1_acc_19: 1.0000 - dense_1_acc_20: 1.0000 - dense_1_acc_21: 1.0000 - dense_1_acc_22: 1.0000 - dense_1_acc_23: 1.0000 - dense_1_acc_24: 1.0000 - dense_1_acc_25: 1.0000 - dense_1_acc_26: 1.0000 - dense_1_acc_27: 1.0000 - dense_1_acc_28: 1.0000 - dense_1_acc_29: 1.0000 - dense_1_acc_30: 0.0000e+00     \n",
      "Epoch 52/100\n",
      "60/60 [==============================] - 1s - loss: 4.6938 - dense_1_loss_1: 3.5292 - dense_1_loss_2: 0.7919 - dense_1_loss_3: 0.1420 - dense_1_loss_4: 0.0261 - dense_1_loss_5: 0.0170 - dense_1_loss_6: 0.0122 - dense_1_loss_7: 0.0090 - dense_1_loss_8: 0.0095 - dense_1_loss_9: 0.0091 - dense_1_loss_10: 0.0078 - dense_1_loss_11: 0.0075 - dense_1_loss_12: 0.0072 - dense_1_loss_13: 0.0065 - dense_1_loss_14: 0.0063 - dense_1_loss_15: 0.0069 - dense_1_loss_16: 0.0066 - dense_1_loss_17: 0.0065 - dense_1_loss_18: 0.0069 - dense_1_loss_19: 0.0069 - dense_1_loss_20: 0.0069 - dense_1_loss_21: 0.0072 - dense_1_loss_22: 0.0070 - dense_1_loss_23: 0.0072 - dense_1_loss_24: 0.0071 - dense_1_loss_25: 0.0073 - dense_1_loss_26: 0.0078 - dense_1_loss_27: 0.0092 - dense_1_loss_28: 0.0094 - dense_1_loss_29: 0.0098 - dense_1_loss_30: 0.0000e+00 - dense_1_acc_1: 0.1000 - dense_1_acc_2: 0.7167 - dense_1_acc_3: 0.9667 - dense_1_acc_4: 1.0000 - dense_1_acc_5: 1.0000 - dense_1_acc_6: 1.0000 - dense_1_acc_7: 1.0000 - dense_1_acc_8: 1.0000 - dense_1_acc_9: 1.0000 - dense_1_acc_10: 1.0000 - dense_1_acc_11: 1.0000 - dense_1_acc_12: 1.0000 - dense_1_acc_13: 1.0000 - dense_1_acc_14: 1.0000 - dense_1_acc_15: 1.0000 - dense_1_acc_16: 1.0000 - dense_1_acc_17: 1.0000 - dense_1_acc_18: 1.0000 - dense_1_acc_19: 1.0000 - dense_1_acc_20: 1.0000 - dense_1_acc_21: 1.0000 - dense_1_acc_22: 1.0000 - dense_1_acc_23: 1.0000 - dense_1_acc_24: 1.0000 - dense_1_acc_25: 1.0000 - dense_1_acc_26: 1.0000 - dense_1_acc_27: 1.0000 - dense_1_acc_28: 1.0000 - dense_1_acc_29: 1.0000 - dense_1_acc_30: 0.0000e+00     \n",
      "Epoch 53/100\n",
      "60/60 [==============================] - 1s - loss: 4.6788 - dense_1_loss_1: 3.5256 - dense_1_loss_2: 0.7867 - dense_1_loss_3: 0.1403 - dense_1_loss_4: 0.0256 - dense_1_loss_5: 0.0167 - dense_1_loss_6: 0.0120 - dense_1_loss_7: 0.0088 - dense_1_loss_8: 0.0094 - dense_1_loss_9: 0.0089 - dense_1_loss_10: 0.0077 - dense_1_loss_11: 0.0073 - dense_1_loss_12: 0.0070 - dense_1_loss_13: 0.0064 - dense_1_loss_14: 0.0062 - dense_1_loss_15: 0.0067 - dense_1_loss_16: 0.0065 - dense_1_loss_17: 0.0064 - dense_1_loss_18: 0.0067 - dense_1_loss_19: 0.0068 - dense_1_loss_20: 0.0068 - dense_1_loss_21: 0.0071 - dense_1_loss_22: 0.0068 - dense_1_loss_23: 0.0071 - dense_1_loss_24: 0.0070 - dense_1_loss_25: 0.0072 - dense_1_loss_26: 0.0076 - dense_1_loss_27: 0.0090 - dense_1_loss_28: 0.0092 - dense_1_loss_29: 0.0096 - dense_1_loss_30: 0.0000e+00 - dense_1_acc_1: 0.1000 - dense_1_acc_2: 0.7167 - dense_1_acc_3: 0.9667 - dense_1_acc_4: 1.0000 - dense_1_acc_5: 1.0000 - dense_1_acc_6: 1.0000 - dense_1_acc_7: 1.0000 - dense_1_acc_8: 1.0000 - dense_1_acc_9: 1.0000 - dense_1_acc_10: 1.0000 - dense_1_acc_11: 1.0000 - dense_1_acc_12: 1.0000 - dense_1_acc_13: 1.0000 - dense_1_acc_14: 1.0000 - dense_1_acc_15: 1.0000 - dense_1_acc_16: 1.0000 - dense_1_acc_17: 1.0000 - dense_1_acc_18: 1.0000 - dense_1_acc_19: 1.0000 - dense_1_acc_20: 1.0000 - dense_1_acc_21: 1.0000 - dense_1_acc_22: 1.0000 - dense_1_acc_23: 1.0000 - dense_1_acc_24: 1.0000 - dense_1_acc_25: 1.0000 - dense_1_acc_26: 1.0000 - dense_1_acc_27: 1.0000 - dense_1_acc_28: 1.0000 - dense_1_acc_29: 1.0000 - dense_1_acc_30: 0.0000e+00     \n",
      "Epoch 54/100\n",
      "60/60 [==============================] - 1s - loss: 4.6646 - dense_1_loss_1: 3.5223 - dense_1_loss_2: 0.7818 - dense_1_loss_3: 0.1387 - dense_1_loss_4: 0.0251 - dense_1_loss_5: 0.0165 - dense_1_loss_6: 0.0117 - dense_1_loss_7: 0.0086 - dense_1_loss_8: 0.0092 - dense_1_loss_9: 0.0087 - dense_1_loss_10: 0.0075 - dense_1_loss_11: 0.0072 - dense_1_loss_12: 0.0069 - dense_1_loss_13: 0.0063 - dense_1_loss_14: 0.0061 - dense_1_loss_15: 0.0066 - dense_1_loss_16: 0.0064 - dense_1_loss_17: 0.0062 - dense_1_loss_18: 0.0066 - dense_1_loss_19: 0.0067 - dense_1_loss_20: 0.0066 - dense_1_loss_21: 0.0069 - dense_1_loss_22: 0.0067 - dense_1_loss_23: 0.0069 - dense_1_loss_24: 0.0068 - dense_1_loss_25: 0.0071 - dense_1_loss_26: 0.0074 - dense_1_loss_27: 0.0088 - dense_1_loss_28: 0.0090 - dense_1_loss_29: 0.0094 - dense_1_loss_30: 0.0000e+00 - dense_1_acc_1: 0.1000 - dense_1_acc_2: 0.7167 - dense_1_acc_3: 0.9667 - dense_1_acc_4: 1.0000 - dense_1_acc_5: 1.0000 - dense_1_acc_6: 1.0000 - dense_1_acc_7: 1.0000 - dense_1_acc_8: 1.0000 - dense_1_acc_9: 1.0000 - dense_1_acc_10: 1.0000 - dense_1_acc_11: 1.0000 - dense_1_acc_12: 1.0000 - dense_1_acc_13: 1.0000 - dense_1_acc_14: 1.0000 - dense_1_acc_15: 1.0000 - dense_1_acc_16: 1.0000 - dense_1_acc_17: 1.0000 - dense_1_acc_18: 1.0000 - dense_1_acc_19: 1.0000 - dense_1_acc_20: 1.0000 - dense_1_acc_21: 1.0000 - dense_1_acc_22: 1.0000 - dense_1_acc_23: 1.0000 - dense_1_acc_24: 1.0000 - dense_1_acc_25: 1.0000 - dense_1_acc_26: 1.0000 - dense_1_acc_27: 1.0000 - dense_1_acc_28: 1.0000 - dense_1_acc_29: 1.0000 - dense_1_acc_30: 0.0000e+00     \n",
      "Epoch 55/100\n",
      "60/60 [==============================] - 1s - loss: 4.6520 - dense_1_loss_1: 3.5190 - dense_1_loss_2: 0.7778 - dense_1_loss_3: 0.1376 - dense_1_loss_4: 0.0247 - dense_1_loss_5: 0.0162 - dense_1_loss_6: 0.0115 - dense_1_loss_7: 0.0084 - dense_1_loss_8: 0.0090 - dense_1_loss_9: 0.0085 - dense_1_loss_10: 0.0074 - dense_1_loss_11: 0.0071 - dense_1_loss_12: 0.0068 - dense_1_loss_13: 0.0062 - dense_1_loss_14: 0.0060 - dense_1_loss_15: 0.0064 - dense_1_loss_16: 0.0062 - dense_1_loss_17: 0.0061 - dense_1_loss_18: 0.0064 - dense_1_loss_19: 0.0066 - dense_1_loss_20: 0.0065 - dense_1_loss_21: 0.0068 - dense_1_loss_22: 0.0066 - dense_1_loss_23: 0.0068 - dense_1_loss_24: 0.0067 - dense_1_loss_25: 0.0069 - dense_1_loss_26: 0.0073 - dense_1_loss_27: 0.0086 - dense_1_loss_28: 0.0088 - dense_1_loss_29: 0.0092 - dense_1_loss_30: 0.0000e+00 - dense_1_acc_1: 0.1000 - dense_1_acc_2: 0.7167 - dense_1_acc_3: 0.9667 - dense_1_acc_4: 1.0000 - dense_1_acc_5: 1.0000 - dense_1_acc_6: 1.0000 - dense_1_acc_7: 1.0000 - dense_1_acc_8: 1.0000 - dense_1_acc_9: 1.0000 - dense_1_acc_10: 1.0000 - dense_1_acc_11: 1.0000 - dense_1_acc_12: 1.0000 - dense_1_acc_13: 1.0000 - dense_1_acc_14: 1.0000 - dense_1_acc_15: 1.0000 - dense_1_acc_16: 1.0000 - dense_1_acc_17: 1.0000 - dense_1_acc_18: 1.0000 - dense_1_acc_19: 1.0000 - dense_1_acc_20: 1.0000 - dense_1_acc_21: 1.0000 - dense_1_acc_22: 1.0000 - dense_1_acc_23: 1.0000 - dense_1_acc_24: 1.0000 - dense_1_acc_25: 1.0000 - dense_1_acc_26: 1.0000 - dense_1_acc_27: 1.0000 - dense_1_acc_28: 1.0000 - dense_1_acc_29: 1.0000 - dense_1_acc_30: 0.0000e+00     \n",
      "Epoch 56/100\n"
     ]
    },
    {
     "name": "stdout",
     "output_type": "stream",
     "text": [
      "60/60 [==============================] - 1s - loss: 4.6385 - dense_1_loss_1: 3.5154 - dense_1_loss_2: 0.7730 - dense_1_loss_3: 0.1367 - dense_1_loss_4: 0.0243 - dense_1_loss_5: 0.0159 - dense_1_loss_6: 0.0113 - dense_1_loss_7: 0.0082 - dense_1_loss_8: 0.0088 - dense_1_loss_9: 0.0084 - dense_1_loss_10: 0.0072 - dense_1_loss_11: 0.0069 - dense_1_loss_12: 0.0066 - dense_1_loss_13: 0.0061 - dense_1_loss_14: 0.0059 - dense_1_loss_15: 0.0063 - dense_1_loss_16: 0.0061 - dense_1_loss_17: 0.0060 - dense_1_loss_18: 0.0063 - dense_1_loss_19: 0.0064 - dense_1_loss_20: 0.0064 - dense_1_loss_21: 0.0066 - dense_1_loss_22: 0.0064 - dense_1_loss_23: 0.0066 - dense_1_loss_24: 0.0065 - dense_1_loss_25: 0.0068 - dense_1_loss_26: 0.0071 - dense_1_loss_27: 0.0084 - dense_1_loss_28: 0.0086 - dense_1_loss_29: 0.0090 - dense_1_loss_30: 0.0000e+00 - dense_1_acc_1: 0.1000 - dense_1_acc_2: 0.7167 - dense_1_acc_3: 0.9667 - dense_1_acc_4: 1.0000 - dense_1_acc_5: 1.0000 - dense_1_acc_6: 1.0000 - dense_1_acc_7: 1.0000 - dense_1_acc_8: 1.0000 - dense_1_acc_9: 1.0000 - dense_1_acc_10: 1.0000 - dense_1_acc_11: 1.0000 - dense_1_acc_12: 1.0000 - dense_1_acc_13: 1.0000 - dense_1_acc_14: 1.0000 - dense_1_acc_15: 1.0000 - dense_1_acc_16: 1.0000 - dense_1_acc_17: 1.0000 - dense_1_acc_18: 1.0000 - dense_1_acc_19: 1.0000 - dense_1_acc_20: 1.0000 - dense_1_acc_21: 1.0000 - dense_1_acc_22: 1.0000 - dense_1_acc_23: 1.0000 - dense_1_acc_24: 1.0000 - dense_1_acc_25: 1.0000 - dense_1_acc_26: 1.0000 - dense_1_acc_27: 1.0000 - dense_1_acc_28: 1.0000 - dense_1_acc_29: 1.0000 - dense_1_acc_30: 0.0000e+00     \n",
      "Epoch 57/100\n",
      "60/60 [==============================] - 1s - loss: 4.6255 - dense_1_loss_1: 3.5123 - dense_1_loss_2: 0.7689 - dense_1_loss_3: 0.1350 - dense_1_loss_4: 0.0239 - dense_1_loss_5: 0.0156 - dense_1_loss_6: 0.0111 - dense_1_loss_7: 0.0081 - dense_1_loss_8: 0.0086 - dense_1_loss_9: 0.0082 - dense_1_loss_10: 0.0071 - dense_1_loss_11: 0.0068 - dense_1_loss_12: 0.0065 - dense_1_loss_13: 0.0059 - dense_1_loss_14: 0.0058 - dense_1_loss_15: 0.0062 - dense_1_loss_16: 0.0060 - dense_1_loss_17: 0.0059 - dense_1_loss_18: 0.0062 - dense_1_loss_19: 0.0063 - dense_1_loss_20: 0.0062 - dense_1_loss_21: 0.0065 - dense_1_loss_22: 0.0063 - dense_1_loss_23: 0.0065 - dense_1_loss_24: 0.0064 - dense_1_loss_25: 0.0067 - dense_1_loss_26: 0.0070 - dense_1_loss_27: 0.0083 - dense_1_loss_28: 0.0084 - dense_1_loss_29: 0.0088 - dense_1_loss_30: 0.0000e+00 - dense_1_acc_1: 0.1000 - dense_1_acc_2: 0.7167 - dense_1_acc_3: 0.9667 - dense_1_acc_4: 1.0000 - dense_1_acc_5: 1.0000 - dense_1_acc_6: 1.0000 - dense_1_acc_7: 1.0000 - dense_1_acc_8: 1.0000 - dense_1_acc_9: 1.0000 - dense_1_acc_10: 1.0000 - dense_1_acc_11: 1.0000 - dense_1_acc_12: 1.0000 - dense_1_acc_13: 1.0000 - dense_1_acc_14: 1.0000 - dense_1_acc_15: 1.0000 - dense_1_acc_16: 1.0000 - dense_1_acc_17: 1.0000 - dense_1_acc_18: 1.0000 - dense_1_acc_19: 1.0000 - dense_1_acc_20: 1.0000 - dense_1_acc_21: 1.0000 - dense_1_acc_22: 1.0000 - dense_1_acc_23: 1.0000 - dense_1_acc_24: 1.0000 - dense_1_acc_25: 1.0000 - dense_1_acc_26: 1.0000 - dense_1_acc_27: 1.0000 - dense_1_acc_28: 1.0000 - dense_1_acc_29: 1.0000 - dense_1_acc_30: 0.0000e+00     \n",
      "Epoch 58/100\n",
      "60/60 [==============================] - 1s - loss: 4.6132 - dense_1_loss_1: 3.5091 - dense_1_loss_2: 0.7644 - dense_1_loss_3: 0.1341 - dense_1_loss_4: 0.0235 - dense_1_loss_5: 0.0154 - dense_1_loss_6: 0.0109 - dense_1_loss_7: 0.0079 - dense_1_loss_8: 0.0085 - dense_1_loss_9: 0.0081 - dense_1_loss_10: 0.0070 - dense_1_loss_11: 0.0067 - dense_1_loss_12: 0.0064 - dense_1_loss_13: 0.0058 - dense_1_loss_14: 0.0056 - dense_1_loss_15: 0.0061 - dense_1_loss_16: 0.0059 - dense_1_loss_17: 0.0058 - dense_1_loss_18: 0.0061 - dense_1_loss_19: 0.0062 - dense_1_loss_20: 0.0061 - dense_1_loss_21: 0.0064 - dense_1_loss_22: 0.0062 - dense_1_loss_23: 0.0064 - dense_1_loss_24: 0.0063 - dense_1_loss_25: 0.0065 - dense_1_loss_26: 0.0069 - dense_1_loss_27: 0.0081 - dense_1_loss_28: 0.0083 - dense_1_loss_29: 0.0087 - dense_1_loss_30: 0.0000e+00 - dense_1_acc_1: 0.1000 - dense_1_acc_2: 0.7167 - dense_1_acc_3: 0.9667 - dense_1_acc_4: 1.0000 - dense_1_acc_5: 1.0000 - dense_1_acc_6: 1.0000 - dense_1_acc_7: 1.0000 - dense_1_acc_8: 1.0000 - dense_1_acc_9: 1.0000 - dense_1_acc_10: 1.0000 - dense_1_acc_11: 1.0000 - dense_1_acc_12: 1.0000 - dense_1_acc_13: 1.0000 - dense_1_acc_14: 1.0000 - dense_1_acc_15: 1.0000 - dense_1_acc_16: 1.0000 - dense_1_acc_17: 1.0000 - dense_1_acc_18: 1.0000 - dense_1_acc_19: 1.0000 - dense_1_acc_20: 1.0000 - dense_1_acc_21: 1.0000 - dense_1_acc_22: 1.0000 - dense_1_acc_23: 1.0000 - dense_1_acc_24: 1.0000 - dense_1_acc_25: 1.0000 - dense_1_acc_26: 1.0000 - dense_1_acc_27: 1.0000 - dense_1_acc_28: 1.0000 - dense_1_acc_29: 1.0000 - dense_1_acc_30: 0.0000e+00     \n",
      "Epoch 59/100\n",
      "60/60 [==============================] - 1s - loss: 4.6015 - dense_1_loss_1: 3.5060 - dense_1_loss_2: 0.7604 - dense_1_loss_3: 0.1332 - dense_1_loss_4: 0.0230 - dense_1_loss_5: 0.0151 - dense_1_loss_6: 0.0106 - dense_1_loss_7: 0.0078 - dense_1_loss_8: 0.0083 - dense_1_loss_9: 0.0079 - dense_1_loss_10: 0.0068 - dense_1_loss_11: 0.0066 - dense_1_loss_12: 0.0063 - dense_1_loss_13: 0.0057 - dense_1_loss_14: 0.0055 - dense_1_loss_15: 0.0060 - dense_1_loss_16: 0.0058 - dense_1_loss_17: 0.0057 - dense_1_loss_18: 0.0060 - dense_1_loss_19: 0.0061 - dense_1_loss_20: 0.0060 - dense_1_loss_21: 0.0063 - dense_1_loss_22: 0.0061 - dense_1_loss_23: 0.0063 - dense_1_loss_24: 0.0062 - dense_1_loss_25: 0.0064 - dense_1_loss_26: 0.0068 - dense_1_loss_27: 0.0080 - dense_1_loss_28: 0.0081 - dense_1_loss_29: 0.0085 - dense_1_loss_30: 0.0000e+00 - dense_1_acc_1: 0.1000 - dense_1_acc_2: 0.7167 - dense_1_acc_3: 0.9667 - dense_1_acc_4: 1.0000 - dense_1_acc_5: 1.0000 - dense_1_acc_6: 1.0000 - dense_1_acc_7: 1.0000 - dense_1_acc_8: 1.0000 - dense_1_acc_9: 1.0000 - dense_1_acc_10: 1.0000 - dense_1_acc_11: 1.0000 - dense_1_acc_12: 1.0000 - dense_1_acc_13: 1.0000 - dense_1_acc_14: 1.0000 - dense_1_acc_15: 1.0000 - dense_1_acc_16: 1.0000 - dense_1_acc_17: 1.0000 - dense_1_acc_18: 1.0000 - dense_1_acc_19: 1.0000 - dense_1_acc_20: 1.0000 - dense_1_acc_21: 1.0000 - dense_1_acc_22: 1.0000 - dense_1_acc_23: 1.0000 - dense_1_acc_24: 1.0000 - dense_1_acc_25: 1.0000 - dense_1_acc_26: 1.0000 - dense_1_acc_27: 1.0000 - dense_1_acc_28: 1.0000 - dense_1_acc_29: 1.0000 - dense_1_acc_30: 0.0000e+00     \n",
      "Epoch 60/100\n",
      "60/60 [==============================] - 1s - loss: 4.5900 - dense_1_loss_1: 3.5028 - dense_1_loss_2: 0.7563 - dense_1_loss_3: 0.1326 - dense_1_loss_4: 0.0227 - dense_1_loss_5: 0.0149 - dense_1_loss_6: 0.0104 - dense_1_loss_7: 0.0076 - dense_1_loss_8: 0.0082 - dense_1_loss_9: 0.0078 - dense_1_loss_10: 0.0067 - dense_1_loss_11: 0.0064 - dense_1_loss_12: 0.0062 - dense_1_loss_13: 0.0056 - dense_1_loss_14: 0.0054 - dense_1_loss_15: 0.0059 - dense_1_loss_16: 0.0056 - dense_1_loss_17: 0.0056 - dense_1_loss_18: 0.0059 - dense_1_loss_19: 0.0059 - dense_1_loss_20: 0.0059 - dense_1_loss_21: 0.0061 - dense_1_loss_22: 0.0059 - dense_1_loss_23: 0.0062 - dense_1_loss_24: 0.0061 - dense_1_loss_25: 0.0063 - dense_1_loss_26: 0.0067 - dense_1_loss_27: 0.0078 - dense_1_loss_28: 0.0080 - dense_1_loss_29: 0.0084 - dense_1_loss_30: 0.0000e+00 - dense_1_acc_1: 0.1000 - dense_1_acc_2: 0.7167 - dense_1_acc_3: 0.9667 - dense_1_acc_4: 1.0000 - dense_1_acc_5: 1.0000 - dense_1_acc_6: 1.0000 - dense_1_acc_7: 1.0000 - dense_1_acc_8: 1.0000 - dense_1_acc_9: 1.0000 - dense_1_acc_10: 1.0000 - dense_1_acc_11: 1.0000 - dense_1_acc_12: 1.0000 - dense_1_acc_13: 1.0000 - dense_1_acc_14: 1.0000 - dense_1_acc_15: 1.0000 - dense_1_acc_16: 1.0000 - dense_1_acc_17: 1.0000 - dense_1_acc_18: 1.0000 - dense_1_acc_19: 1.0000 - dense_1_acc_20: 1.0000 - dense_1_acc_21: 1.0000 - dense_1_acc_22: 1.0000 - dense_1_acc_23: 1.0000 - dense_1_acc_24: 1.0000 - dense_1_acc_25: 1.0000 - dense_1_acc_26: 1.0000 - dense_1_acc_27: 1.0000 - dense_1_acc_28: 1.0000 - dense_1_acc_29: 1.0000 - dense_1_acc_30: 0.0000e+00     \n",
      "Epoch 61/100\n"
     ]
    },
    {
     "name": "stdout",
     "output_type": "stream",
     "text": [
      "60/60 [==============================] - 1s - loss: 4.5802 - dense_1_loss_1: 3.4998 - dense_1_loss_2: 0.7542 - dense_1_loss_3: 0.1313 - dense_1_loss_4: 0.0224 - dense_1_loss_5: 0.0147 - dense_1_loss_6: 0.0103 - dense_1_loss_7: 0.0075 - dense_1_loss_8: 0.0080 - dense_1_loss_9: 0.0076 - dense_1_loss_10: 0.0066 - dense_1_loss_11: 0.0063 - dense_1_loss_12: 0.0061 - dense_1_loss_13: 0.0055 - dense_1_loss_14: 0.0053 - dense_1_loss_15: 0.0058 - dense_1_loss_16: 0.0056 - dense_1_loss_17: 0.0055 - dense_1_loss_18: 0.0058 - dense_1_loss_19: 0.0058 - dense_1_loss_20: 0.0058 - dense_1_loss_21: 0.0060 - dense_1_loss_22: 0.0058 - dense_1_loss_23: 0.0061 - dense_1_loss_24: 0.0060 - dense_1_loss_25: 0.0062 - dense_1_loss_26: 0.0065 - dense_1_loss_27: 0.0077 - dense_1_loss_28: 0.0078 - dense_1_loss_29: 0.0082 - dense_1_loss_30: 0.0000e+00 - dense_1_acc_1: 0.1000 - dense_1_acc_2: 0.7167 - dense_1_acc_3: 0.9667 - dense_1_acc_4: 1.0000 - dense_1_acc_5: 1.0000 - dense_1_acc_6: 1.0000 - dense_1_acc_7: 1.0000 - dense_1_acc_8: 1.0000 - dense_1_acc_9: 1.0000 - dense_1_acc_10: 1.0000 - dense_1_acc_11: 1.0000 - dense_1_acc_12: 1.0000 - dense_1_acc_13: 1.0000 - dense_1_acc_14: 1.0000 - dense_1_acc_15: 1.0000 - dense_1_acc_16: 1.0000 - dense_1_acc_17: 1.0000 - dense_1_acc_18: 1.0000 - dense_1_acc_19: 1.0000 - dense_1_acc_20: 1.0000 - dense_1_acc_21: 1.0000 - dense_1_acc_22: 1.0000 - dense_1_acc_23: 1.0000 - dense_1_acc_24: 1.0000 - dense_1_acc_25: 1.0000 - dense_1_acc_26: 1.0000 - dense_1_acc_27: 1.0000 - dense_1_acc_28: 1.0000 - dense_1_acc_29: 1.0000 - dense_1_acc_30: 0.0000e+00     \n",
      "Epoch 62/100\n",
      "60/60 [==============================] - 1s - loss: 4.5677 - dense_1_loss_1: 3.4969 - dense_1_loss_2: 0.7488 - dense_1_loss_3: 0.1305 - dense_1_loss_4: 0.0220 - dense_1_loss_5: 0.0144 - dense_1_loss_6: 0.0101 - dense_1_loss_7: 0.0073 - dense_1_loss_8: 0.0079 - dense_1_loss_9: 0.0075 - dense_1_loss_10: 0.0065 - dense_1_loss_11: 0.0062 - dense_1_loss_12: 0.0060 - dense_1_loss_13: 0.0054 - dense_1_loss_14: 0.0052 - dense_1_loss_15: 0.0056 - dense_1_loss_16: 0.0055 - dense_1_loss_17: 0.0054 - dense_1_loss_18: 0.0057 - dense_1_loss_19: 0.0057 - dense_1_loss_20: 0.0057 - dense_1_loss_21: 0.0059 - dense_1_loss_22: 0.0057 - dense_1_loss_23: 0.0060 - dense_1_loss_24: 0.0059 - dense_1_loss_25: 0.0061 - dense_1_loss_26: 0.0064 - dense_1_loss_27: 0.0076 - dense_1_loss_28: 0.0077 - dense_1_loss_29: 0.0081 - dense_1_loss_30: 0.0000e+00 - dense_1_acc_1: 0.1000 - dense_1_acc_2: 0.7167 - dense_1_acc_3: 0.9667 - dense_1_acc_4: 1.0000 - dense_1_acc_5: 1.0000 - dense_1_acc_6: 1.0000 - dense_1_acc_7: 1.0000 - dense_1_acc_8: 1.0000 - dense_1_acc_9: 1.0000 - dense_1_acc_10: 1.0000 - dense_1_acc_11: 1.0000 - dense_1_acc_12: 1.0000 - dense_1_acc_13: 1.0000 - dense_1_acc_14: 1.0000 - dense_1_acc_15: 1.0000 - dense_1_acc_16: 1.0000 - dense_1_acc_17: 1.0000 - dense_1_acc_18: 1.0000 - dense_1_acc_19: 1.0000 - dense_1_acc_20: 1.0000 - dense_1_acc_21: 1.0000 - dense_1_acc_22: 1.0000 - dense_1_acc_23: 1.0000 - dense_1_acc_24: 1.0000 - dense_1_acc_25: 1.0000 - dense_1_acc_26: 1.0000 - dense_1_acc_27: 1.0000 - dense_1_acc_28: 1.0000 - dense_1_acc_29: 1.0000 - dense_1_acc_30: 0.0000e+00     \n",
      "Epoch 63/100\n",
      "60/60 [==============================] - 1s - loss: 4.5569 - dense_1_loss_1: 3.4939 - dense_1_loss_2: 0.7456 - dense_1_loss_3: 0.1291 - dense_1_loss_4: 0.0217 - dense_1_loss_5: 0.0142 - dense_1_loss_6: 0.0100 - dense_1_loss_7: 0.0072 - dense_1_loss_8: 0.0077 - dense_1_loss_9: 0.0074 - dense_1_loss_10: 0.0063 - dense_1_loss_11: 0.0061 - dense_1_loss_12: 0.0059 - dense_1_loss_13: 0.0054 - dense_1_loss_14: 0.0052 - dense_1_loss_15: 0.0055 - dense_1_loss_16: 0.0054 - dense_1_loss_17: 0.0053 - dense_1_loss_18: 0.0056 - dense_1_loss_19: 0.0056 - dense_1_loss_20: 0.0056 - dense_1_loss_21: 0.0058 - dense_1_loss_22: 0.0056 - dense_1_loss_23: 0.0059 - dense_1_loss_24: 0.0058 - dense_1_loss_25: 0.0060 - dense_1_loss_26: 0.0063 - dense_1_loss_27: 0.0074 - dense_1_loss_28: 0.0076 - dense_1_loss_29: 0.0079 - dense_1_loss_30: 0.0000e+00 - dense_1_acc_1: 0.1000 - dense_1_acc_2: 0.7167 - dense_1_acc_3: 0.9667 - dense_1_acc_4: 1.0000 - dense_1_acc_5: 1.0000 - dense_1_acc_6: 1.0000 - dense_1_acc_7: 1.0000 - dense_1_acc_8: 1.0000 - dense_1_acc_9: 1.0000 - dense_1_acc_10: 1.0000 - dense_1_acc_11: 1.0000 - dense_1_acc_12: 1.0000 - dense_1_acc_13: 1.0000 - dense_1_acc_14: 1.0000 - dense_1_acc_15: 1.0000 - dense_1_acc_16: 1.0000 - dense_1_acc_17: 1.0000 - dense_1_acc_18: 1.0000 - dense_1_acc_19: 1.0000 - dense_1_acc_20: 1.0000 - dense_1_acc_21: 1.0000 - dense_1_acc_22: 1.0000 - dense_1_acc_23: 1.0000 - dense_1_acc_24: 1.0000 - dense_1_acc_25: 1.0000 - dense_1_acc_26: 1.0000 - dense_1_acc_27: 1.0000 - dense_1_acc_28: 1.0000 - dense_1_acc_29: 1.0000 - dense_1_acc_30: 0.0000e+00     \n",
      "Epoch 64/100\n",
      "60/60 [==============================] - 1s - loss: 4.5466 - dense_1_loss_1: 3.4910 - dense_1_loss_2: 0.7417 - dense_1_loss_3: 0.1286 - dense_1_loss_4: 0.0213 - dense_1_loss_5: 0.0139 - dense_1_loss_6: 0.0098 - dense_1_loss_7: 0.0071 - dense_1_loss_8: 0.0076 - dense_1_loss_9: 0.0073 - dense_1_loss_10: 0.0062 - dense_1_loss_11: 0.0060 - dense_1_loss_12: 0.0058 - dense_1_loss_13: 0.0053 - dense_1_loss_14: 0.0051 - dense_1_loss_15: 0.0055 - dense_1_loss_16: 0.0053 - dense_1_loss_17: 0.0052 - dense_1_loss_18: 0.0055 - dense_1_loss_19: 0.0055 - dense_1_loss_20: 0.0055 - dense_1_loss_21: 0.0057 - dense_1_loss_22: 0.0056 - dense_1_loss_23: 0.0058 - dense_1_loss_24: 0.0057 - dense_1_loss_25: 0.0059 - dense_1_loss_26: 0.0062 - dense_1_loss_27: 0.0073 - dense_1_loss_28: 0.0075 - dense_1_loss_29: 0.0078 - dense_1_loss_30: 0.0000e+00 - dense_1_acc_1: 0.1000 - dense_1_acc_2: 0.7167 - dense_1_acc_3: 0.9667 - dense_1_acc_4: 1.0000 - dense_1_acc_5: 1.0000 - dense_1_acc_6: 1.0000 - dense_1_acc_7: 1.0000 - dense_1_acc_8: 1.0000 - dense_1_acc_9: 1.0000 - dense_1_acc_10: 1.0000 - dense_1_acc_11: 1.0000 - dense_1_acc_12: 1.0000 - dense_1_acc_13: 1.0000 - dense_1_acc_14: 1.0000 - dense_1_acc_15: 1.0000 - dense_1_acc_16: 1.0000 - dense_1_acc_17: 1.0000 - dense_1_acc_18: 1.0000 - dense_1_acc_19: 1.0000 - dense_1_acc_20: 1.0000 - dense_1_acc_21: 1.0000 - dense_1_acc_22: 1.0000 - dense_1_acc_23: 1.0000 - dense_1_acc_24: 1.0000 - dense_1_acc_25: 1.0000 - dense_1_acc_26: 1.0000 - dense_1_acc_27: 1.0000 - dense_1_acc_28: 1.0000 - dense_1_acc_29: 1.0000 - dense_1_acc_30: 0.0000e+00     \n",
      "Epoch 65/100\n",
      "60/60 [==============================] - 1s - loss: 4.5373 - dense_1_loss_1: 3.4885 - dense_1_loss_2: 0.7387 - dense_1_loss_3: 0.1279 - dense_1_loss_4: 0.0210 - dense_1_loss_5: 0.0137 - dense_1_loss_6: 0.0097 - dense_1_loss_7: 0.0070 - dense_1_loss_8: 0.0075 - dense_1_loss_9: 0.0072 - dense_1_loss_10: 0.0061 - dense_1_loss_11: 0.0059 - dense_1_loss_12: 0.0057 - dense_1_loss_13: 0.0052 - dense_1_loss_14: 0.0050 - dense_1_loss_15: 0.0054 - dense_1_loss_16: 0.0052 - dense_1_loss_17: 0.0051 - dense_1_loss_18: 0.0054 - dense_1_loss_19: 0.0054 - dense_1_loss_20: 0.0054 - dense_1_loss_21: 0.0056 - dense_1_loss_22: 0.0055 - dense_1_loss_23: 0.0057 - dense_1_loss_24: 0.0056 - dense_1_loss_25: 0.0058 - dense_1_loss_26: 0.0061 - dense_1_loss_27: 0.0072 - dense_1_loss_28: 0.0073 - dense_1_loss_29: 0.0076 - dense_1_loss_30: 0.0000e+00 - dense_1_acc_1: 0.1000 - dense_1_acc_2: 0.7167 - dense_1_acc_3: 0.9667 - dense_1_acc_4: 1.0000 - dense_1_acc_5: 1.0000 - dense_1_acc_6: 1.0000 - dense_1_acc_7: 1.0000 - dense_1_acc_8: 1.0000 - dense_1_acc_9: 1.0000 - dense_1_acc_10: 1.0000 - dense_1_acc_11: 1.0000 - dense_1_acc_12: 1.0000 - dense_1_acc_13: 1.0000 - dense_1_acc_14: 1.0000 - dense_1_acc_15: 1.0000 - dense_1_acc_16: 1.0000 - dense_1_acc_17: 1.0000 - dense_1_acc_18: 1.0000 - dense_1_acc_19: 1.0000 - dense_1_acc_20: 1.0000 - dense_1_acc_21: 1.0000 - dense_1_acc_22: 1.0000 - dense_1_acc_23: 1.0000 - dense_1_acc_24: 1.0000 - dense_1_acc_25: 1.0000 - dense_1_acc_26: 1.0000 - dense_1_acc_27: 1.0000 - dense_1_acc_28: 1.0000 - dense_1_acc_29: 1.0000 - dense_1_acc_30: 0.0000e+00     \n",
      "Epoch 66/100\n"
     ]
    },
    {
     "name": "stdout",
     "output_type": "stream",
     "text": [
      "60/60 [==============================] - 1s - loss: 4.5272 - dense_1_loss_1: 3.4857 - dense_1_loss_2: 0.7354 - dense_1_loss_3: 0.1267 - dense_1_loss_4: 0.0206 - dense_1_loss_5: 0.0135 - dense_1_loss_6: 0.0095 - dense_1_loss_7: 0.0068 - dense_1_loss_8: 0.0074 - dense_1_loss_9: 0.0071 - dense_1_loss_10: 0.0060 - dense_1_loss_11: 0.0058 - dense_1_loss_12: 0.0056 - dense_1_loss_13: 0.0051 - dense_1_loss_14: 0.0049 - dense_1_loss_15: 0.0053 - dense_1_loss_16: 0.0051 - dense_1_loss_17: 0.0050 - dense_1_loss_18: 0.0053 - dense_1_loss_19: 0.0054 - dense_1_loss_20: 0.0053 - dense_1_loss_21: 0.0056 - dense_1_loss_22: 0.0054 - dense_1_loss_23: 0.0056 - dense_1_loss_24: 0.0055 - dense_1_loss_25: 0.0058 - dense_1_loss_26: 0.0060 - dense_1_loss_27: 0.0071 - dense_1_loss_28: 0.0072 - dense_1_loss_29: 0.0075 - dense_1_loss_30: 0.0000e+00 - dense_1_acc_1: 0.1000 - dense_1_acc_2: 0.7167 - dense_1_acc_3: 0.9667 - dense_1_acc_4: 1.0000 - dense_1_acc_5: 1.0000 - dense_1_acc_6: 1.0000 - dense_1_acc_7: 1.0000 - dense_1_acc_8: 1.0000 - dense_1_acc_9: 1.0000 - dense_1_acc_10: 1.0000 - dense_1_acc_11: 1.0000 - dense_1_acc_12: 1.0000 - dense_1_acc_13: 1.0000 - dense_1_acc_14: 1.0000 - dense_1_acc_15: 1.0000 - dense_1_acc_16: 1.0000 - dense_1_acc_17: 1.0000 - dense_1_acc_18: 1.0000 - dense_1_acc_19: 1.0000 - dense_1_acc_20: 1.0000 - dense_1_acc_21: 1.0000 - dense_1_acc_22: 1.0000 - dense_1_acc_23: 1.0000 - dense_1_acc_24: 1.0000 - dense_1_acc_25: 1.0000 - dense_1_acc_26: 1.0000 - dense_1_acc_27: 1.0000 - dense_1_acc_28: 1.0000 - dense_1_acc_29: 1.0000 - dense_1_acc_30: 0.0000e+00     \n",
      "Epoch 67/100\n",
      "60/60 [==============================] - 1s - loss: 4.5169 - dense_1_loss_1: 3.4828 - dense_1_loss_2: 0.7315 - dense_1_loss_3: 0.1262 - dense_1_loss_4: 0.0203 - dense_1_loss_5: 0.0134 - dense_1_loss_6: 0.0093 - dense_1_loss_7: 0.0068 - dense_1_loss_8: 0.0073 - dense_1_loss_9: 0.0069 - dense_1_loss_10: 0.0059 - dense_1_loss_11: 0.0057 - dense_1_loss_12: 0.0055 - dense_1_loss_13: 0.0050 - dense_1_loss_14: 0.0048 - dense_1_loss_15: 0.0052 - dense_1_loss_16: 0.0050 - dense_1_loss_17: 0.0049 - dense_1_loss_18: 0.0052 - dense_1_loss_19: 0.0053 - dense_1_loss_20: 0.0052 - dense_1_loss_21: 0.0055 - dense_1_loss_22: 0.0053 - dense_1_loss_23: 0.0055 - dense_1_loss_24: 0.0054 - dense_1_loss_25: 0.0057 - dense_1_loss_26: 0.0059 - dense_1_loss_27: 0.0070 - dense_1_loss_28: 0.0071 - dense_1_loss_29: 0.0074 - dense_1_loss_30: 0.0000e+00 - dense_1_acc_1: 0.1000 - dense_1_acc_2: 0.7000 - dense_1_acc_3: 0.9667 - dense_1_acc_4: 1.0000 - dense_1_acc_5: 1.0000 - dense_1_acc_6: 1.0000 - dense_1_acc_7: 1.0000 - dense_1_acc_8: 1.0000 - dense_1_acc_9: 1.0000 - dense_1_acc_10: 1.0000 - dense_1_acc_11: 1.0000 - dense_1_acc_12: 1.0000 - dense_1_acc_13: 1.0000 - dense_1_acc_14: 1.0000 - dense_1_acc_15: 1.0000 - dense_1_acc_16: 1.0000 - dense_1_acc_17: 1.0000 - dense_1_acc_18: 1.0000 - dense_1_acc_19: 1.0000 - dense_1_acc_20: 1.0000 - dense_1_acc_21: 1.0000 - dense_1_acc_22: 1.0000 - dense_1_acc_23: 1.0000 - dense_1_acc_24: 1.0000 - dense_1_acc_25: 1.0000 - dense_1_acc_26: 1.0000 - dense_1_acc_27: 1.0000 - dense_1_acc_28: 1.0000 - dense_1_acc_29: 1.0000 - dense_1_acc_30: 0.0000e+00     \n",
      "Epoch 68/100\n",
      "60/60 [==============================] - 1s - loss: 4.5080 - dense_1_loss_1: 3.4805 - dense_1_loss_2: 0.7282 - dense_1_loss_3: 0.1255 - dense_1_loss_4: 0.0200 - dense_1_loss_5: 0.0132 - dense_1_loss_6: 0.0091 - dense_1_loss_7: 0.0067 - dense_1_loss_8: 0.0072 - dense_1_loss_9: 0.0068 - dense_1_loss_10: 0.0059 - dense_1_loss_11: 0.0057 - dense_1_loss_12: 0.0054 - dense_1_loss_13: 0.0049 - dense_1_loss_14: 0.0047 - dense_1_loss_15: 0.0051 - dense_1_loss_16: 0.0049 - dense_1_loss_17: 0.0049 - dense_1_loss_18: 0.0051 - dense_1_loss_19: 0.0052 - dense_1_loss_20: 0.0052 - dense_1_loss_21: 0.0054 - dense_1_loss_22: 0.0052 - dense_1_loss_23: 0.0054 - dense_1_loss_24: 0.0053 - dense_1_loss_25: 0.0056 - dense_1_loss_26: 0.0058 - dense_1_loss_27: 0.0069 - dense_1_loss_28: 0.0070 - dense_1_loss_29: 0.0073 - dense_1_loss_30: 0.0000e+00 - dense_1_acc_1: 0.1000 - dense_1_acc_2: 0.7167 - dense_1_acc_3: 0.9667 - dense_1_acc_4: 1.0000 - dense_1_acc_5: 1.0000 - dense_1_acc_6: 1.0000 - dense_1_acc_7: 1.0000 - dense_1_acc_8: 1.0000 - dense_1_acc_9: 1.0000 - dense_1_acc_10: 1.0000 - dense_1_acc_11: 1.0000 - dense_1_acc_12: 1.0000 - dense_1_acc_13: 1.0000 - dense_1_acc_14: 1.0000 - dense_1_acc_15: 1.0000 - dense_1_acc_16: 1.0000 - dense_1_acc_17: 1.0000 - dense_1_acc_18: 1.0000 - dense_1_acc_19: 1.0000 - dense_1_acc_20: 1.0000 - dense_1_acc_21: 1.0000 - dense_1_acc_22: 1.0000 - dense_1_acc_23: 1.0000 - dense_1_acc_24: 1.0000 - dense_1_acc_25: 1.0000 - dense_1_acc_26: 1.0000 - dense_1_acc_27: 1.0000 - dense_1_acc_28: 1.0000 - dense_1_acc_29: 1.0000 - dense_1_acc_30: 0.0000e+00     \n",
      "Epoch 69/100\n",
      "60/60 [==============================] - 1s - loss: 4.4991 - dense_1_loss_1: 3.4777 - dense_1_loss_2: 0.7251 - dense_1_loss_3: 0.1252 - dense_1_loss_4: 0.0198 - dense_1_loss_5: 0.0130 - dense_1_loss_6: 0.0090 - dense_1_loss_7: 0.0066 - dense_1_loss_8: 0.0070 - dense_1_loss_9: 0.0067 - dense_1_loss_10: 0.0058 - dense_1_loss_11: 0.0056 - dense_1_loss_12: 0.0053 - dense_1_loss_13: 0.0049 - dense_1_loss_14: 0.0047 - dense_1_loss_15: 0.0050 - dense_1_loss_16: 0.0048 - dense_1_loss_17: 0.0048 - dense_1_loss_18: 0.0051 - dense_1_loss_19: 0.0051 - dense_1_loss_20: 0.0051 - dense_1_loss_21: 0.0053 - dense_1_loss_22: 0.0051 - dense_1_loss_23: 0.0053 - dense_1_loss_24: 0.0053 - dense_1_loss_25: 0.0055 - dense_1_loss_26: 0.0057 - dense_1_loss_27: 0.0068 - dense_1_loss_28: 0.0069 - dense_1_loss_29: 0.0072 - dense_1_loss_30: 0.0000e+00 - dense_1_acc_1: 0.1000 - dense_1_acc_2: 0.7167 - dense_1_acc_3: 0.9667 - dense_1_acc_4: 1.0000 - dense_1_acc_5: 1.0000 - dense_1_acc_6: 1.0000 - dense_1_acc_7: 1.0000 - dense_1_acc_8: 1.0000 - dense_1_acc_9: 1.0000 - dense_1_acc_10: 1.0000 - dense_1_acc_11: 1.0000 - dense_1_acc_12: 1.0000 - dense_1_acc_13: 1.0000 - dense_1_acc_14: 1.0000 - dense_1_acc_15: 1.0000 - dense_1_acc_16: 1.0000 - dense_1_acc_17: 1.0000 - dense_1_acc_18: 1.0000 - dense_1_acc_19: 1.0000 - dense_1_acc_20: 1.0000 - dense_1_acc_21: 1.0000 - dense_1_acc_22: 1.0000 - dense_1_acc_23: 1.0000 - dense_1_acc_24: 1.0000 - dense_1_acc_25: 1.0000 - dense_1_acc_26: 1.0000 - dense_1_acc_27: 1.0000 - dense_1_acc_28: 1.0000 - dense_1_acc_29: 1.0000 - dense_1_acc_30: 0.0000e+00     \n",
      "Epoch 70/100\n",
      "60/60 [==============================] - 1s - loss: 4.4895 - dense_1_loss_1: 3.4753 - dense_1_loss_2: 0.7220 - dense_1_loss_3: 0.1237 - dense_1_loss_4: 0.0195 - dense_1_loss_5: 0.0128 - dense_1_loss_6: 0.0088 - dense_1_loss_7: 0.0065 - dense_1_loss_8: 0.0069 - dense_1_loss_9: 0.0066 - dense_1_loss_10: 0.0057 - dense_1_loss_11: 0.0055 - dense_1_loss_12: 0.0052 - dense_1_loss_13: 0.0048 - dense_1_loss_14: 0.0046 - dense_1_loss_15: 0.0050 - dense_1_loss_16: 0.0048 - dense_1_loss_17: 0.0047 - dense_1_loss_18: 0.0050 - dense_1_loss_19: 0.0050 - dense_1_loss_20: 0.0050 - dense_1_loss_21: 0.0052 - dense_1_loss_22: 0.0050 - dense_1_loss_23: 0.0052 - dense_1_loss_24: 0.0052 - dense_1_loss_25: 0.0054 - dense_1_loss_26: 0.0056 - dense_1_loss_27: 0.0067 - dense_1_loss_28: 0.0068 - dense_1_loss_29: 0.0071 - dense_1_loss_30: 0.0000e+00 - dense_1_acc_1: 0.1000 - dense_1_acc_2: 0.7167 - dense_1_acc_3: 0.9667 - dense_1_acc_4: 1.0000 - dense_1_acc_5: 1.0000 - dense_1_acc_6: 1.0000 - dense_1_acc_7: 1.0000 - dense_1_acc_8: 1.0000 - dense_1_acc_9: 1.0000 - dense_1_acc_10: 1.0000 - dense_1_acc_11: 1.0000 - dense_1_acc_12: 1.0000 - dense_1_acc_13: 1.0000 - dense_1_acc_14: 1.0000 - dense_1_acc_15: 1.0000 - dense_1_acc_16: 1.0000 - dense_1_acc_17: 1.0000 - dense_1_acc_18: 1.0000 - dense_1_acc_19: 1.0000 - dense_1_acc_20: 1.0000 - dense_1_acc_21: 1.0000 - dense_1_acc_22: 1.0000 - dense_1_acc_23: 1.0000 - dense_1_acc_24: 1.0000 - dense_1_acc_25: 1.0000 - dense_1_acc_26: 1.0000 - dense_1_acc_27: 1.0000 - dense_1_acc_28: 1.0000 - dense_1_acc_29: 1.0000 - dense_1_acc_30: 0.0000e+00     \n",
      "Epoch 71/100\n"
     ]
    },
    {
     "name": "stdout",
     "output_type": "stream",
     "text": [
      "60/60 [==============================] - 1s - loss: 4.4814 - dense_1_loss_1: 3.4724 - dense_1_loss_2: 0.7198 - dense_1_loss_3: 0.1230 - dense_1_loss_4: 0.0193 - dense_1_loss_5: 0.0127 - dense_1_loss_6: 0.0087 - dense_1_loss_7: 0.0064 - dense_1_loss_8: 0.0068 - dense_1_loss_9: 0.0065 - dense_1_loss_10: 0.0056 - dense_1_loss_11: 0.0054 - dense_1_loss_12: 0.0051 - dense_1_loss_13: 0.0047 - dense_1_loss_14: 0.0045 - dense_1_loss_15: 0.0049 - dense_1_loss_16: 0.0047 - dense_1_loss_17: 0.0046 - dense_1_loss_18: 0.0049 - dense_1_loss_19: 0.0049 - dense_1_loss_20: 0.0049 - dense_1_loss_21: 0.0051 - dense_1_loss_22: 0.0049 - dense_1_loss_23: 0.0052 - dense_1_loss_24: 0.0051 - dense_1_loss_25: 0.0053 - dense_1_loss_26: 0.0055 - dense_1_loss_27: 0.0066 - dense_1_loss_28: 0.0066 - dense_1_loss_29: 0.0070 - dense_1_loss_30: 0.0000e+00 - dense_1_acc_1: 0.1000 - dense_1_acc_2: 0.7167 - dense_1_acc_3: 0.9667 - dense_1_acc_4: 1.0000 - dense_1_acc_5: 1.0000 - dense_1_acc_6: 1.0000 - dense_1_acc_7: 1.0000 - dense_1_acc_8: 1.0000 - dense_1_acc_9: 1.0000 - dense_1_acc_10: 1.0000 - dense_1_acc_11: 1.0000 - dense_1_acc_12: 1.0000 - dense_1_acc_13: 1.0000 - dense_1_acc_14: 1.0000 - dense_1_acc_15: 1.0000 - dense_1_acc_16: 1.0000 - dense_1_acc_17: 1.0000 - dense_1_acc_18: 1.0000 - dense_1_acc_19: 1.0000 - dense_1_acc_20: 1.0000 - dense_1_acc_21: 1.0000 - dense_1_acc_22: 1.0000 - dense_1_acc_23: 1.0000 - dense_1_acc_24: 1.0000 - dense_1_acc_25: 1.0000 - dense_1_acc_26: 1.0000 - dense_1_acc_27: 1.0000 - dense_1_acc_28: 1.0000 - dense_1_acc_29: 1.0000 - dense_1_acc_30: 0.0000e+00     \n",
      "Epoch 72/100\n",
      "60/60 [==============================] - 1s - loss: 4.4725 - dense_1_loss_1: 3.4701 - dense_1_loss_2: 0.7164 - dense_1_loss_3: 0.1224 - dense_1_loss_4: 0.0190 - dense_1_loss_5: 0.0125 - dense_1_loss_6: 0.0086 - dense_1_loss_7: 0.0063 - dense_1_loss_8: 0.0067 - dense_1_loss_9: 0.0064 - dense_1_loss_10: 0.0055 - dense_1_loss_11: 0.0053 - dense_1_loss_12: 0.0051 - dense_1_loss_13: 0.0047 - dense_1_loss_14: 0.0044 - dense_1_loss_15: 0.0048 - dense_1_loss_16: 0.0046 - dense_1_loss_17: 0.0046 - dense_1_loss_18: 0.0048 - dense_1_loss_19: 0.0049 - dense_1_loss_20: 0.0048 - dense_1_loss_21: 0.0051 - dense_1_loss_22: 0.0049 - dense_1_loss_23: 0.0051 - dense_1_loss_24: 0.0050 - dense_1_loss_25: 0.0053 - dense_1_loss_26: 0.0054 - dense_1_loss_27: 0.0065 - dense_1_loss_28: 0.0065 - dense_1_loss_29: 0.0069 - dense_1_loss_30: 0.0000e+00 - dense_1_acc_1: 0.1000 - dense_1_acc_2: 0.7000 - dense_1_acc_3: 0.9667 - dense_1_acc_4: 1.0000 - dense_1_acc_5: 1.0000 - dense_1_acc_6: 1.0000 - dense_1_acc_7: 1.0000 - dense_1_acc_8: 1.0000 - dense_1_acc_9: 1.0000 - dense_1_acc_10: 1.0000 - dense_1_acc_11: 1.0000 - dense_1_acc_12: 1.0000 - dense_1_acc_13: 1.0000 - dense_1_acc_14: 1.0000 - dense_1_acc_15: 1.0000 - dense_1_acc_16: 1.0000 - dense_1_acc_17: 1.0000 - dense_1_acc_18: 1.0000 - dense_1_acc_19: 1.0000 - dense_1_acc_20: 1.0000 - dense_1_acc_21: 1.0000 - dense_1_acc_22: 1.0000 - dense_1_acc_23: 1.0000 - dense_1_acc_24: 1.0000 - dense_1_acc_25: 1.0000 - dense_1_acc_26: 1.0000 - dense_1_acc_27: 1.0000 - dense_1_acc_28: 1.0000 - dense_1_acc_29: 1.0000 - dense_1_acc_30: 0.0000e+00     \n",
      "Epoch 73/100\n",
      "60/60 [==============================] - 1s - loss: 4.4646 - dense_1_loss_1: 3.4678 - dense_1_loss_2: 0.7138 - dense_1_loss_3: 0.1217 - dense_1_loss_4: 0.0187 - dense_1_loss_5: 0.0123 - dense_1_loss_6: 0.0085 - dense_1_loss_7: 0.0062 - dense_1_loss_8: 0.0066 - dense_1_loss_9: 0.0064 - dense_1_loss_10: 0.0054 - dense_1_loss_11: 0.0052 - dense_1_loss_12: 0.0050 - dense_1_loss_13: 0.0046 - dense_1_loss_14: 0.0044 - dense_1_loss_15: 0.0047 - dense_1_loss_16: 0.0046 - dense_1_loss_17: 0.0045 - dense_1_loss_18: 0.0048 - dense_1_loss_19: 0.0048 - dense_1_loss_20: 0.0048 - dense_1_loss_21: 0.0050 - dense_1_loss_22: 0.0048 - dense_1_loss_23: 0.0050 - dense_1_loss_24: 0.0049 - dense_1_loss_25: 0.0052 - dense_1_loss_26: 0.0054 - dense_1_loss_27: 0.0064 - dense_1_loss_28: 0.0064 - dense_1_loss_29: 0.0068 - dense_1_loss_30: 0.0000e+00 - dense_1_acc_1: 0.1000 - dense_1_acc_2: 0.7000 - dense_1_acc_3: 0.9667 - dense_1_acc_4: 1.0000 - dense_1_acc_5: 1.0000 - dense_1_acc_6: 1.0000 - dense_1_acc_7: 1.0000 - dense_1_acc_8: 1.0000 - dense_1_acc_9: 1.0000 - dense_1_acc_10: 1.0000 - dense_1_acc_11: 1.0000 - dense_1_acc_12: 1.0000 - dense_1_acc_13: 1.0000 - dense_1_acc_14: 1.0000 - dense_1_acc_15: 1.0000 - dense_1_acc_16: 1.0000 - dense_1_acc_17: 1.0000 - dense_1_acc_18: 1.0000 - dense_1_acc_19: 1.0000 - dense_1_acc_20: 1.0000 - dense_1_acc_21: 1.0000 - dense_1_acc_22: 1.0000 - dense_1_acc_23: 1.0000 - dense_1_acc_24: 1.0000 - dense_1_acc_25: 1.0000 - dense_1_acc_26: 1.0000 - dense_1_acc_27: 1.0000 - dense_1_acc_28: 1.0000 - dense_1_acc_29: 1.0000 - dense_1_acc_30: 0.0000e+00     \n",
      "Epoch 74/100\n",
      "60/60 [==============================] - 1s - loss: 4.4567 - dense_1_loss_1: 3.4654 - dense_1_loss_2: 0.7110 - dense_1_loss_3: 0.1213 - dense_1_loss_4: 0.0185 - dense_1_loss_5: 0.0121 - dense_1_loss_6: 0.0084 - dense_1_loss_7: 0.0061 - dense_1_loss_8: 0.0065 - dense_1_loss_9: 0.0063 - dense_1_loss_10: 0.0053 - dense_1_loss_11: 0.0052 - dense_1_loss_12: 0.0049 - dense_1_loss_13: 0.0045 - dense_1_loss_14: 0.0043 - dense_1_loss_15: 0.0047 - dense_1_loss_16: 0.0045 - dense_1_loss_17: 0.0044 - dense_1_loss_18: 0.0047 - dense_1_loss_19: 0.0047 - dense_1_loss_20: 0.0047 - dense_1_loss_21: 0.0049 - dense_1_loss_22: 0.0047 - dense_1_loss_23: 0.0049 - dense_1_loss_24: 0.0049 - dense_1_loss_25: 0.0051 - dense_1_loss_26: 0.0053 - dense_1_loss_27: 0.0063 - dense_1_loss_28: 0.0063 - dense_1_loss_29: 0.0067 - dense_1_loss_30: 0.0000e+00 - dense_1_acc_1: 0.1000 - dense_1_acc_2: 0.7167 - dense_1_acc_3: 0.9667 - dense_1_acc_4: 1.0000 - dense_1_acc_5: 1.0000 - dense_1_acc_6: 1.0000 - dense_1_acc_7: 1.0000 - dense_1_acc_8: 1.0000 - dense_1_acc_9: 1.0000 - dense_1_acc_10: 1.0000 - dense_1_acc_11: 1.0000 - dense_1_acc_12: 1.0000 - dense_1_acc_13: 1.0000 - dense_1_acc_14: 1.0000 - dense_1_acc_15: 1.0000 - dense_1_acc_16: 1.0000 - dense_1_acc_17: 1.0000 - dense_1_acc_18: 1.0000 - dense_1_acc_19: 1.0000 - dense_1_acc_20: 1.0000 - dense_1_acc_21: 1.0000 - dense_1_acc_22: 1.0000 - dense_1_acc_23: 1.0000 - dense_1_acc_24: 1.0000 - dense_1_acc_25: 1.0000 - dense_1_acc_26: 1.0000 - dense_1_acc_27: 1.0000 - dense_1_acc_28: 1.0000 - dense_1_acc_29: 1.0000 - dense_1_acc_30: 0.0000e+00     \n",
      "Epoch 75/100\n",
      "60/60 [==============================] - 1s - loss: 4.4485 - dense_1_loss_1: 3.4631 - dense_1_loss_2: 0.7082 - dense_1_loss_3: 0.1206 - dense_1_loss_4: 0.0182 - dense_1_loss_5: 0.0120 - dense_1_loss_6: 0.0083 - dense_1_loss_7: 0.0060 - dense_1_loss_8: 0.0064 - dense_1_loss_9: 0.0062 - dense_1_loss_10: 0.0052 - dense_1_loss_11: 0.0051 - dense_1_loss_12: 0.0049 - dense_1_loss_13: 0.0045 - dense_1_loss_14: 0.0042 - dense_1_loss_15: 0.0046 - dense_1_loss_16: 0.0044 - dense_1_loss_17: 0.0044 - dense_1_loss_18: 0.0046 - dense_1_loss_19: 0.0047 - dense_1_loss_20: 0.0046 - dense_1_loss_21: 0.0049 - dense_1_loss_22: 0.0046 - dense_1_loss_23: 0.0049 - dense_1_loss_24: 0.0048 - dense_1_loss_25: 0.0051 - dense_1_loss_26: 0.0052 - dense_1_loss_27: 0.0062 - dense_1_loss_28: 0.0062 - dense_1_loss_29: 0.0066 - dense_1_loss_30: 0.0000e+00 - dense_1_acc_1: 0.1000 - dense_1_acc_2: 0.7167 - dense_1_acc_3: 0.9667 - dense_1_acc_4: 1.0000 - dense_1_acc_5: 1.0000 - dense_1_acc_6: 1.0000 - dense_1_acc_7: 1.0000 - dense_1_acc_8: 1.0000 - dense_1_acc_9: 1.0000 - dense_1_acc_10: 1.0000 - dense_1_acc_11: 1.0000 - dense_1_acc_12: 1.0000 - dense_1_acc_13: 1.0000 - dense_1_acc_14: 1.0000 - dense_1_acc_15: 1.0000 - dense_1_acc_16: 1.0000 - dense_1_acc_17: 1.0000 - dense_1_acc_18: 1.0000 - dense_1_acc_19: 1.0000 - dense_1_acc_20: 1.0000 - dense_1_acc_21: 1.0000 - dense_1_acc_22: 1.0000 - dense_1_acc_23: 1.0000 - dense_1_acc_24: 1.0000 - dense_1_acc_25: 1.0000 - dense_1_acc_26: 1.0000 - dense_1_acc_27: 1.0000 - dense_1_acc_28: 1.0000 - dense_1_acc_29: 1.0000 - dense_1_acc_30: 0.0000e+00     \n",
      "Epoch 76/100\n"
     ]
    },
    {
     "name": "stdout",
     "output_type": "stream",
     "text": [
      "60/60 [==============================] - 1s - loss: 4.4415 - dense_1_loss_1: 3.4608 - dense_1_loss_2: 0.7059 - dense_1_loss_3: 0.1203 - dense_1_loss_4: 0.0180 - dense_1_loss_5: 0.0118 - dense_1_loss_6: 0.0082 - dense_1_loss_7: 0.0059 - dense_1_loss_8: 0.0064 - dense_1_loss_9: 0.0061 - dense_1_loss_10: 0.0052 - dense_1_loss_11: 0.0050 - dense_1_loss_12: 0.0048 - dense_1_loss_13: 0.0044 - dense_1_loss_14: 0.0042 - dense_1_loss_15: 0.0045 - dense_1_loss_16: 0.0044 - dense_1_loss_17: 0.0043 - dense_1_loss_18: 0.0045 - dense_1_loss_19: 0.0046 - dense_1_loss_20: 0.0046 - dense_1_loss_21: 0.0048 - dense_1_loss_22: 0.0046 - dense_1_loss_23: 0.0048 - dense_1_loss_24: 0.0047 - dense_1_loss_25: 0.0050 - dense_1_loss_26: 0.0051 - dense_1_loss_27: 0.0061 - dense_1_loss_28: 0.0062 - dense_1_loss_29: 0.0065 - dense_1_loss_30: 0.0000e+00 - dense_1_acc_1: 0.1000 - dense_1_acc_2: 0.7167 - dense_1_acc_3: 0.9667 - dense_1_acc_4: 1.0000 - dense_1_acc_5: 1.0000 - dense_1_acc_6: 1.0000 - dense_1_acc_7: 1.0000 - dense_1_acc_8: 1.0000 - dense_1_acc_9: 1.0000 - dense_1_acc_10: 1.0000 - dense_1_acc_11: 1.0000 - dense_1_acc_12: 1.0000 - dense_1_acc_13: 1.0000 - dense_1_acc_14: 1.0000 - dense_1_acc_15: 1.0000 - dense_1_acc_16: 1.0000 - dense_1_acc_17: 1.0000 - dense_1_acc_18: 1.0000 - dense_1_acc_19: 1.0000 - dense_1_acc_20: 1.0000 - dense_1_acc_21: 1.0000 - dense_1_acc_22: 1.0000 - dense_1_acc_23: 1.0000 - dense_1_acc_24: 1.0000 - dense_1_acc_25: 1.0000 - dense_1_acc_26: 1.0000 - dense_1_acc_27: 1.0000 - dense_1_acc_28: 1.0000 - dense_1_acc_29: 1.0000 - dense_1_acc_30: 0.0000e+00     \n",
      "Epoch 77/100\n",
      "60/60 [==============================] - 1s - loss: 4.4335 - dense_1_loss_1: 3.4586 - dense_1_loss_2: 0.7034 - dense_1_loss_3: 0.1191 - dense_1_loss_4: 0.0177 - dense_1_loss_5: 0.0117 - dense_1_loss_6: 0.0080 - dense_1_loss_7: 0.0058 - dense_1_loss_8: 0.0063 - dense_1_loss_9: 0.0060 - dense_1_loss_10: 0.0051 - dense_1_loss_11: 0.0049 - dense_1_loss_12: 0.0047 - dense_1_loss_13: 0.0043 - dense_1_loss_14: 0.0041 - dense_1_loss_15: 0.0045 - dense_1_loss_16: 0.0043 - dense_1_loss_17: 0.0043 - dense_1_loss_18: 0.0045 - dense_1_loss_19: 0.0046 - dense_1_loss_20: 0.0045 - dense_1_loss_21: 0.0047 - dense_1_loss_22: 0.0045 - dense_1_loss_23: 0.0048 - dense_1_loss_24: 0.0047 - dense_1_loss_25: 0.0049 - dense_1_loss_26: 0.0051 - dense_1_loss_27: 0.0060 - dense_1_loss_28: 0.0061 - dense_1_loss_29: 0.0064 - dense_1_loss_30: 0.0000e+00 - dense_1_acc_1: 0.1000 - dense_1_acc_2: 0.7167 - dense_1_acc_3: 0.9667 - dense_1_acc_4: 1.0000 - dense_1_acc_5: 1.0000 - dense_1_acc_6: 1.0000 - dense_1_acc_7: 1.0000 - dense_1_acc_8: 1.0000 - dense_1_acc_9: 1.0000 - dense_1_acc_10: 1.0000 - dense_1_acc_11: 1.0000 - dense_1_acc_12: 1.0000 - dense_1_acc_13: 1.0000 - dense_1_acc_14: 1.0000 - dense_1_acc_15: 1.0000 - dense_1_acc_16: 1.0000 - dense_1_acc_17: 1.0000 - dense_1_acc_18: 1.0000 - dense_1_acc_19: 1.0000 - dense_1_acc_20: 1.0000 - dense_1_acc_21: 1.0000 - dense_1_acc_22: 1.0000 - dense_1_acc_23: 1.0000 - dense_1_acc_24: 1.0000 - dense_1_acc_25: 1.0000 - dense_1_acc_26: 1.0000 - dense_1_acc_27: 1.0000 - dense_1_acc_28: 1.0000 - dense_1_acc_29: 1.0000 - dense_1_acc_30: 0.0000e+00     \n",
      "Epoch 78/100\n",
      "60/60 [==============================] - 1s - loss: 4.4261 - dense_1_loss_1: 3.4564 - dense_1_loss_2: 0.7005 - dense_1_loss_3: 0.1187 - dense_1_loss_4: 0.0175 - dense_1_loss_5: 0.0116 - dense_1_loss_6: 0.0080 - dense_1_loss_7: 0.0057 - dense_1_loss_8: 0.0062 - dense_1_loss_9: 0.0060 - dense_1_loss_10: 0.0050 - dense_1_loss_11: 0.0049 - dense_1_loss_12: 0.0047 - dense_1_loss_13: 0.0043 - dense_1_loss_14: 0.0041 - dense_1_loss_15: 0.0044 - dense_1_loss_16: 0.0042 - dense_1_loss_17: 0.0042 - dense_1_loss_18: 0.0044 - dense_1_loss_19: 0.0045 - dense_1_loss_20: 0.0044 - dense_1_loss_21: 0.0047 - dense_1_loss_22: 0.0044 - dense_1_loss_23: 0.0047 - dense_1_loss_24: 0.0046 - dense_1_loss_25: 0.0049 - dense_1_loss_26: 0.0050 - dense_1_loss_27: 0.0060 - dense_1_loss_28: 0.0060 - dense_1_loss_29: 0.0063 - dense_1_loss_30: 0.0000e+00 - dense_1_acc_1: 0.1000 - dense_1_acc_2: 0.7167 - dense_1_acc_3: 0.9667 - dense_1_acc_4: 1.0000 - dense_1_acc_5: 1.0000 - dense_1_acc_6: 1.0000 - dense_1_acc_7: 1.0000 - dense_1_acc_8: 1.0000 - dense_1_acc_9: 1.0000 - dense_1_acc_10: 1.0000 - dense_1_acc_11: 1.0000 - dense_1_acc_12: 1.0000 - dense_1_acc_13: 1.0000 - dense_1_acc_14: 1.0000 - dense_1_acc_15: 1.0000 - dense_1_acc_16: 1.0000 - dense_1_acc_17: 1.0000 - dense_1_acc_18: 1.0000 - dense_1_acc_19: 1.0000 - dense_1_acc_20: 1.0000 - dense_1_acc_21: 1.0000 - dense_1_acc_22: 1.0000 - dense_1_acc_23: 1.0000 - dense_1_acc_24: 1.0000 - dense_1_acc_25: 1.0000 - dense_1_acc_26: 1.0000 - dense_1_acc_27: 1.0000 - dense_1_acc_28: 1.0000 - dense_1_acc_29: 1.0000 - dense_1_acc_30: 0.0000e+00     \n",
      "Epoch 79/100\n",
      "60/60 [==============================] - 1s - loss: 4.4189 - dense_1_loss_1: 3.4543 - dense_1_loss_2: 0.6980 - dense_1_loss_3: 0.1181 - dense_1_loss_4: 0.0173 - dense_1_loss_5: 0.0114 - dense_1_loss_6: 0.0079 - dense_1_loss_7: 0.0056 - dense_1_loss_8: 0.0061 - dense_1_loss_9: 0.0059 - dense_1_loss_10: 0.0050 - dense_1_loss_11: 0.0048 - dense_1_loss_12: 0.0046 - dense_1_loss_13: 0.0042 - dense_1_loss_14: 0.0040 - dense_1_loss_15: 0.0044 - dense_1_loss_16: 0.0042 - dense_1_loss_17: 0.0041 - dense_1_loss_18: 0.0044 - dense_1_loss_19: 0.0044 - dense_1_loss_20: 0.0044 - dense_1_loss_21: 0.0046 - dense_1_loss_22: 0.0044 - dense_1_loss_23: 0.0046 - dense_1_loss_24: 0.0045 - dense_1_loss_25: 0.0048 - dense_1_loss_26: 0.0049 - dense_1_loss_27: 0.0059 - dense_1_loss_28: 0.0059 - dense_1_loss_29: 0.0062 - dense_1_loss_30: 0.0000e+00 - dense_1_acc_1: 0.1000 - dense_1_acc_2: 0.7167 - dense_1_acc_3: 0.9667 - dense_1_acc_4: 1.0000 - dense_1_acc_5: 1.0000 - dense_1_acc_6: 1.0000 - dense_1_acc_7: 1.0000 - dense_1_acc_8: 1.0000 - dense_1_acc_9: 1.0000 - dense_1_acc_10: 1.0000 - dense_1_acc_11: 1.0000 - dense_1_acc_12: 1.0000 - dense_1_acc_13: 1.0000 - dense_1_acc_14: 1.0000 - dense_1_acc_15: 1.0000 - dense_1_acc_16: 1.0000 - dense_1_acc_17: 1.0000 - dense_1_acc_18: 1.0000 - dense_1_acc_19: 1.0000 - dense_1_acc_20: 1.0000 - dense_1_acc_21: 1.0000 - dense_1_acc_22: 1.0000 - dense_1_acc_23: 1.0000 - dense_1_acc_24: 1.0000 - dense_1_acc_25: 1.0000 - dense_1_acc_26: 1.0000 - dense_1_acc_27: 1.0000 - dense_1_acc_28: 1.0000 - dense_1_acc_29: 1.0000 - dense_1_acc_30: 0.0000e+00     \n",
      "Epoch 80/100\n",
      "60/60 [==============================] - 1s - loss: 4.4125 - dense_1_loss_1: 3.4525 - dense_1_loss_2: 0.6957 - dense_1_loss_3: 0.1177 - dense_1_loss_4: 0.0171 - dense_1_loss_5: 0.0113 - dense_1_loss_6: 0.0077 - dense_1_loss_7: 0.0056 - dense_1_loss_8: 0.0060 - dense_1_loss_9: 0.0058 - dense_1_loss_10: 0.0049 - dense_1_loss_11: 0.0047 - dense_1_loss_12: 0.0045 - dense_1_loss_13: 0.0042 - dense_1_loss_14: 0.0040 - dense_1_loss_15: 0.0043 - dense_1_loss_16: 0.0041 - dense_1_loss_17: 0.0041 - dense_1_loss_18: 0.0043 - dense_1_loss_19: 0.0044 - dense_1_loss_20: 0.0043 - dense_1_loss_21: 0.0045 - dense_1_loss_22: 0.0043 - dense_1_loss_23: 0.0046 - dense_1_loss_24: 0.0045 - dense_1_loss_25: 0.0047 - dense_1_loss_26: 0.0049 - dense_1_loss_27: 0.0058 - dense_1_loss_28: 0.0058 - dense_1_loss_29: 0.0061 - dense_1_loss_30: 0.0000e+00 - dense_1_acc_1: 0.1000 - dense_1_acc_2: 0.7333 - dense_1_acc_3: 0.9667 - dense_1_acc_4: 1.0000 - dense_1_acc_5: 1.0000 - dense_1_acc_6: 1.0000 - dense_1_acc_7: 1.0000 - dense_1_acc_8: 1.0000 - dense_1_acc_9: 1.0000 - dense_1_acc_10: 1.0000 - dense_1_acc_11: 1.0000 - dense_1_acc_12: 1.0000 - dense_1_acc_13: 1.0000 - dense_1_acc_14: 1.0000 - dense_1_acc_15: 1.0000 - dense_1_acc_16: 1.0000 - dense_1_acc_17: 1.0000 - dense_1_acc_18: 1.0000 - dense_1_acc_19: 1.0000 - dense_1_acc_20: 1.0000 - dense_1_acc_21: 1.0000 - dense_1_acc_22: 1.0000 - dense_1_acc_23: 1.0000 - dense_1_acc_24: 1.0000 - dense_1_acc_25: 1.0000 - dense_1_acc_26: 1.0000 - dense_1_acc_27: 1.0000 - dense_1_acc_28: 1.0000 - dense_1_acc_29: 1.0000 - dense_1_acc_30: 0.0000e+00     \n",
      "Epoch 81/100\n"
     ]
    },
    {
     "name": "stdout",
     "output_type": "stream",
     "text": [
      "60/60 [==============================] - 1s - loss: 4.4051 - dense_1_loss_1: 3.4503 - dense_1_loss_2: 0.6931 - dense_1_loss_3: 0.1170 - dense_1_loss_4: 0.0169 - dense_1_loss_5: 0.0112 - dense_1_loss_6: 0.0077 - dense_1_loss_7: 0.0055 - dense_1_loss_8: 0.0059 - dense_1_loss_9: 0.0057 - dense_1_loss_10: 0.0048 - dense_1_loss_11: 0.0047 - dense_1_loss_12: 0.0045 - dense_1_loss_13: 0.0041 - dense_1_loss_14: 0.0039 - dense_1_loss_15: 0.0043 - dense_1_loss_16: 0.0041 - dense_1_loss_17: 0.0040 - dense_1_loss_18: 0.0042 - dense_1_loss_19: 0.0043 - dense_1_loss_20: 0.0043 - dense_1_loss_21: 0.0045 - dense_1_loss_22: 0.0043 - dense_1_loss_23: 0.0045 - dense_1_loss_24: 0.0044 - dense_1_loss_25: 0.0047 - dense_1_loss_26: 0.0048 - dense_1_loss_27: 0.0057 - dense_1_loss_28: 0.0058 - dense_1_loss_29: 0.0060 - dense_1_loss_30: 0.0000e+00 - dense_1_acc_1: 0.1000 - dense_1_acc_2: 0.7333 - dense_1_acc_3: 0.9667 - dense_1_acc_4: 1.0000 - dense_1_acc_5: 1.0000 - dense_1_acc_6: 1.0000 - dense_1_acc_7: 1.0000 - dense_1_acc_8: 1.0000 - dense_1_acc_9: 1.0000 - dense_1_acc_10: 1.0000 - dense_1_acc_11: 1.0000 - dense_1_acc_12: 1.0000 - dense_1_acc_13: 1.0000 - dense_1_acc_14: 1.0000 - dense_1_acc_15: 1.0000 - dense_1_acc_16: 1.0000 - dense_1_acc_17: 1.0000 - dense_1_acc_18: 1.0000 - dense_1_acc_19: 1.0000 - dense_1_acc_20: 1.0000 - dense_1_acc_21: 1.0000 - dense_1_acc_22: 1.0000 - dense_1_acc_23: 1.0000 - dense_1_acc_24: 1.0000 - dense_1_acc_25: 1.0000 - dense_1_acc_26: 1.0000 - dense_1_acc_27: 1.0000 - dense_1_acc_28: 1.0000 - dense_1_acc_29: 1.0000 - dense_1_acc_30: 0.0000e+00     \n",
      "Epoch 82/100\n",
      "60/60 [==============================] - 1s - loss: 4.3980 - dense_1_loss_1: 3.4480 - dense_1_loss_2: 0.6908 - dense_1_loss_3: 0.1163 - dense_1_loss_4: 0.0167 - dense_1_loss_5: 0.0110 - dense_1_loss_6: 0.0076 - dense_1_loss_7: 0.0054 - dense_1_loss_8: 0.0059 - dense_1_loss_9: 0.0057 - dense_1_loss_10: 0.0048 - dense_1_loss_11: 0.0046 - dense_1_loss_12: 0.0044 - dense_1_loss_13: 0.0041 - dense_1_loss_14: 0.0039 - dense_1_loss_15: 0.0042 - dense_1_loss_16: 0.0040 - dense_1_loss_17: 0.0040 - dense_1_loss_18: 0.0042 - dense_1_loss_19: 0.0042 - dense_1_loss_20: 0.0042 - dense_1_loss_21: 0.0044 - dense_1_loss_22: 0.0042 - dense_1_loss_23: 0.0044 - dense_1_loss_24: 0.0044 - dense_1_loss_25: 0.0046 - dense_1_loss_26: 0.0048 - dense_1_loss_27: 0.0056 - dense_1_loss_28: 0.0057 - dense_1_loss_29: 0.0059 - dense_1_loss_30: 0.0000e+00 - dense_1_acc_1: 0.1000 - dense_1_acc_2: 0.7167 - dense_1_acc_3: 0.9667 - dense_1_acc_4: 1.0000 - dense_1_acc_5: 1.0000 - dense_1_acc_6: 1.0000 - dense_1_acc_7: 1.0000 - dense_1_acc_8: 1.0000 - dense_1_acc_9: 1.0000 - dense_1_acc_10: 1.0000 - dense_1_acc_11: 1.0000 - dense_1_acc_12: 1.0000 - dense_1_acc_13: 1.0000 - dense_1_acc_14: 1.0000 - dense_1_acc_15: 1.0000 - dense_1_acc_16: 1.0000 - dense_1_acc_17: 1.0000 - dense_1_acc_18: 1.0000 - dense_1_acc_19: 1.0000 - dense_1_acc_20: 1.0000 - dense_1_acc_21: 1.0000 - dense_1_acc_22: 1.0000 - dense_1_acc_23: 1.0000 - dense_1_acc_24: 1.0000 - dense_1_acc_25: 1.0000 - dense_1_acc_26: 1.0000 - dense_1_acc_27: 1.0000 - dense_1_acc_28: 1.0000 - dense_1_acc_29: 1.0000 - dense_1_acc_30: 0.0000e+00     \n",
      "Epoch 83/100\n",
      "60/60 [==============================] - 1s - loss: 4.3912 - dense_1_loss_1: 3.4461 - dense_1_loss_2: 0.6881 - dense_1_loss_3: 0.1159 - dense_1_loss_4: 0.0165 - dense_1_loss_5: 0.0109 - dense_1_loss_6: 0.0075 - dense_1_loss_7: 0.0054 - dense_1_loss_8: 0.0058 - dense_1_loss_9: 0.0056 - dense_1_loss_10: 0.0047 - dense_1_loss_11: 0.0046 - dense_1_loss_12: 0.0044 - dense_1_loss_13: 0.0040 - dense_1_loss_14: 0.0038 - dense_1_loss_15: 0.0041 - dense_1_loss_16: 0.0040 - dense_1_loss_17: 0.0039 - dense_1_loss_18: 0.0041 - dense_1_loss_19: 0.0042 - dense_1_loss_20: 0.0042 - dense_1_loss_21: 0.0044 - dense_1_loss_22: 0.0042 - dense_1_loss_23: 0.0044 - dense_1_loss_24: 0.0043 - dense_1_loss_25: 0.0046 - dense_1_loss_26: 0.0047 - dense_1_loss_27: 0.0056 - dense_1_loss_28: 0.0056 - dense_1_loss_29: 0.0059 - dense_1_loss_30: 0.0000e+00 - dense_1_acc_1: 0.1000 - dense_1_acc_2: 0.7167 - dense_1_acc_3: 0.9667 - dense_1_acc_4: 1.0000 - dense_1_acc_5: 1.0000 - dense_1_acc_6: 1.0000 - dense_1_acc_7: 1.0000 - dense_1_acc_8: 1.0000 - dense_1_acc_9: 1.0000 - dense_1_acc_10: 1.0000 - dense_1_acc_11: 1.0000 - dense_1_acc_12: 1.0000 - dense_1_acc_13: 1.0000 - dense_1_acc_14: 1.0000 - dense_1_acc_15: 1.0000 - dense_1_acc_16: 1.0000 - dense_1_acc_17: 1.0000 - dense_1_acc_18: 1.0000 - dense_1_acc_19: 1.0000 - dense_1_acc_20: 1.0000 - dense_1_acc_21: 1.0000 - dense_1_acc_22: 1.0000 - dense_1_acc_23: 1.0000 - dense_1_acc_24: 1.0000 - dense_1_acc_25: 1.0000 - dense_1_acc_26: 1.0000 - dense_1_acc_27: 1.0000 - dense_1_acc_28: 1.0000 - dense_1_acc_29: 1.0000 - dense_1_acc_30: 0.0000e+00     \n",
      "Epoch 84/100\n",
      "60/60 [==============================] - 1s - loss: 4.3853 - dense_1_loss_1: 3.4441 - dense_1_loss_2: 0.6861 - dense_1_loss_3: 0.1157 - dense_1_loss_4: 0.0163 - dense_1_loss_5: 0.0108 - dense_1_loss_6: 0.0074 - dense_1_loss_7: 0.0053 - dense_1_loss_8: 0.0057 - dense_1_loss_9: 0.0055 - dense_1_loss_10: 0.0046 - dense_1_loss_11: 0.0045 - dense_1_loss_12: 0.0043 - dense_1_loss_13: 0.0040 - dense_1_loss_14: 0.0038 - dense_1_loss_15: 0.0041 - dense_1_loss_16: 0.0039 - dense_1_loss_17: 0.0039 - dense_1_loss_18: 0.0041 - dense_1_loss_19: 0.0041 - dense_1_loss_20: 0.0041 - dense_1_loss_21: 0.0043 - dense_1_loss_22: 0.0041 - dense_1_loss_23: 0.0043 - dense_1_loss_24: 0.0043 - dense_1_loss_25: 0.0045 - dense_1_loss_26: 0.0046 - dense_1_loss_27: 0.0055 - dense_1_loss_28: 0.0055 - dense_1_loss_29: 0.0058 - dense_1_loss_30: 0.0000e+00 - dense_1_acc_1: 0.1000 - dense_1_acc_2: 0.7167 - dense_1_acc_3: 0.9667 - dense_1_acc_4: 1.0000 - dense_1_acc_5: 1.0000 - dense_1_acc_6: 1.0000 - dense_1_acc_7: 1.0000 - dense_1_acc_8: 1.0000 - dense_1_acc_9: 1.0000 - dense_1_acc_10: 1.0000 - dense_1_acc_11: 1.0000 - dense_1_acc_12: 1.0000 - dense_1_acc_13: 1.0000 - dense_1_acc_14: 1.0000 - dense_1_acc_15: 1.0000 - dense_1_acc_16: 1.0000 - dense_1_acc_17: 1.0000 - dense_1_acc_18: 1.0000 - dense_1_acc_19: 1.0000 - dense_1_acc_20: 1.0000 - dense_1_acc_21: 1.0000 - dense_1_acc_22: 1.0000 - dense_1_acc_23: 1.0000 - dense_1_acc_24: 1.0000 - dense_1_acc_25: 1.0000 - dense_1_acc_26: 1.0000 - dense_1_acc_27: 1.0000 - dense_1_acc_28: 1.0000 - dense_1_acc_29: 1.0000 - dense_1_acc_30: 0.0000e+00     \n",
      "Epoch 85/100\n",
      "60/60 [==============================] - 1s - loss: 4.3782 - dense_1_loss_1: 3.4422 - dense_1_loss_2: 0.6838 - dense_1_loss_3: 0.1145 - dense_1_loss_4: 0.0161 - dense_1_loss_5: 0.0106 - dense_1_loss_6: 0.0073 - dense_1_loss_7: 0.0052 - dense_1_loss_8: 0.0056 - dense_1_loss_9: 0.0055 - dense_1_loss_10: 0.0046 - dense_1_loss_11: 0.0045 - dense_1_loss_12: 0.0043 - dense_1_loss_13: 0.0039 - dense_1_loss_14: 0.0037 - dense_1_loss_15: 0.0040 - dense_1_loss_16: 0.0039 - dense_1_loss_17: 0.0038 - dense_1_loss_18: 0.0040 - dense_1_loss_19: 0.0041 - dense_1_loss_20: 0.0041 - dense_1_loss_21: 0.0042 - dense_1_loss_22: 0.0041 - dense_1_loss_23: 0.0043 - dense_1_loss_24: 0.0042 - dense_1_loss_25: 0.0044 - dense_1_loss_26: 0.0046 - dense_1_loss_27: 0.0055 - dense_1_loss_28: 0.0055 - dense_1_loss_29: 0.0057 - dense_1_loss_30: 0.0000e+00 - dense_1_acc_1: 0.1000 - dense_1_acc_2: 0.7167 - dense_1_acc_3: 0.9667 - dense_1_acc_4: 1.0000 - dense_1_acc_5: 1.0000 - dense_1_acc_6: 1.0000 - dense_1_acc_7: 1.0000 - dense_1_acc_8: 1.0000 - dense_1_acc_9: 1.0000 - dense_1_acc_10: 1.0000 - dense_1_acc_11: 1.0000 - dense_1_acc_12: 1.0000 - dense_1_acc_13: 1.0000 - dense_1_acc_14: 1.0000 - dense_1_acc_15: 1.0000 - dense_1_acc_16: 1.0000 - dense_1_acc_17: 1.0000 - dense_1_acc_18: 1.0000 - dense_1_acc_19: 1.0000 - dense_1_acc_20: 1.0000 - dense_1_acc_21: 1.0000 - dense_1_acc_22: 1.0000 - dense_1_acc_23: 1.0000 - dense_1_acc_24: 1.0000 - dense_1_acc_25: 1.0000 - dense_1_acc_26: 1.0000 - dense_1_acc_27: 1.0000 - dense_1_acc_28: 1.0000 - dense_1_acc_29: 1.0000 - dense_1_acc_30: 0.0000e+00     \n",
      "Epoch 86/100\n"
     ]
    },
    {
     "name": "stdout",
     "output_type": "stream",
     "text": [
      "60/60 [==============================] - 1s - loss: 4.3739 - dense_1_loss_1: 3.4403 - dense_1_loss_2: 0.6830 - dense_1_loss_3: 0.1145 - dense_1_loss_4: 0.0160 - dense_1_loss_5: 0.0105 - dense_1_loss_6: 0.0072 - dense_1_loss_7: 0.0051 - dense_1_loss_8: 0.0056 - dense_1_loss_9: 0.0054 - dense_1_loss_10: 0.0045 - dense_1_loss_11: 0.0044 - dense_1_loss_12: 0.0042 - dense_1_loss_13: 0.0039 - dense_1_loss_14: 0.0037 - dense_1_loss_15: 0.0040 - dense_1_loss_16: 0.0038 - dense_1_loss_17: 0.0038 - dense_1_loss_18: 0.0040 - dense_1_loss_19: 0.0040 - dense_1_loss_20: 0.0040 - dense_1_loss_21: 0.0042 - dense_1_loss_22: 0.0040 - dense_1_loss_23: 0.0042 - dense_1_loss_24: 0.0042 - dense_1_loss_25: 0.0044 - dense_1_loss_26: 0.0045 - dense_1_loss_27: 0.0054 - dense_1_loss_28: 0.0054 - dense_1_loss_29: 0.0056 - dense_1_loss_30: 0.0000e+00 - dense_1_acc_1: 0.1000 - dense_1_acc_2: 0.7167 - dense_1_acc_3: 0.9667 - dense_1_acc_4: 1.0000 - dense_1_acc_5: 1.0000 - dense_1_acc_6: 1.0000 - dense_1_acc_7: 1.0000 - dense_1_acc_8: 1.0000 - dense_1_acc_9: 1.0000 - dense_1_acc_10: 1.0000 - dense_1_acc_11: 1.0000 - dense_1_acc_12: 1.0000 - dense_1_acc_13: 1.0000 - dense_1_acc_14: 1.0000 - dense_1_acc_15: 1.0000 - dense_1_acc_16: 1.0000 - dense_1_acc_17: 1.0000 - dense_1_acc_18: 1.0000 - dense_1_acc_19: 1.0000 - dense_1_acc_20: 1.0000 - dense_1_acc_21: 1.0000 - dense_1_acc_22: 1.0000 - dense_1_acc_23: 1.0000 - dense_1_acc_24: 1.0000 - dense_1_acc_25: 1.0000 - dense_1_acc_26: 1.0000 - dense_1_acc_27: 1.0000 - dense_1_acc_28: 1.0000 - dense_1_acc_29: 1.0000 - dense_1_acc_30: 0.0000e+00     \n",
      "Epoch 87/100\n",
      "60/60 [==============================] - 1s - loss: 4.3666 - dense_1_loss_1: 3.4382 - dense_1_loss_2: 0.6803 - dense_1_loss_3: 0.1136 - dense_1_loss_4: 0.0158 - dense_1_loss_5: 0.0104 - dense_1_loss_6: 0.0071 - dense_1_loss_7: 0.0051 - dense_1_loss_8: 0.0055 - dense_1_loss_9: 0.0053 - dense_1_loss_10: 0.0045 - dense_1_loss_11: 0.0044 - dense_1_loss_12: 0.0042 - dense_1_loss_13: 0.0038 - dense_1_loss_14: 0.0036 - dense_1_loss_15: 0.0039 - dense_1_loss_16: 0.0038 - dense_1_loss_17: 0.0037 - dense_1_loss_18: 0.0039 - dense_1_loss_19: 0.0040 - dense_1_loss_20: 0.0040 - dense_1_loss_21: 0.0041 - dense_1_loss_22: 0.0040 - dense_1_loss_23: 0.0042 - dense_1_loss_24: 0.0041 - dense_1_loss_25: 0.0044 - dense_1_loss_26: 0.0045 - dense_1_loss_27: 0.0053 - dense_1_loss_28: 0.0053 - dense_1_loss_29: 0.0056 - dense_1_loss_30: 0.0000e+00 - dense_1_acc_1: 0.1000 - dense_1_acc_2: 0.7333 - dense_1_acc_3: 0.9667 - dense_1_acc_4: 1.0000 - dense_1_acc_5: 1.0000 - dense_1_acc_6: 1.0000 - dense_1_acc_7: 1.0000 - dense_1_acc_8: 1.0000 - dense_1_acc_9: 1.0000 - dense_1_acc_10: 1.0000 - dense_1_acc_11: 1.0000 - dense_1_acc_12: 1.0000 - dense_1_acc_13: 1.0000 - dense_1_acc_14: 1.0000 - dense_1_acc_15: 1.0000 - dense_1_acc_16: 1.0000 - dense_1_acc_17: 1.0000 - dense_1_acc_18: 1.0000 - dense_1_acc_19: 1.0000 - dense_1_acc_20: 1.0000 - dense_1_acc_21: 1.0000 - dense_1_acc_22: 1.0000 - dense_1_acc_23: 1.0000 - dense_1_acc_24: 1.0000 - dense_1_acc_25: 1.0000 - dense_1_acc_26: 1.0000 - dense_1_acc_27: 1.0000 - dense_1_acc_28: 1.0000 - dense_1_acc_29: 1.0000 - dense_1_acc_30: 0.0000e+00     \n",
      "Epoch 88/100\n",
      "60/60 [==============================] - 1s - loss: 4.3611 - dense_1_loss_1: 3.4364 - dense_1_loss_2: 0.6785 - dense_1_loss_3: 0.1133 - dense_1_loss_4: 0.0156 - dense_1_loss_5: 0.0103 - dense_1_loss_6: 0.0070 - dense_1_loss_7: 0.0050 - dense_1_loss_8: 0.0054 - dense_1_loss_9: 0.0053 - dense_1_loss_10: 0.0044 - dense_1_loss_11: 0.0043 - dense_1_loss_12: 0.0041 - dense_1_loss_13: 0.0038 - dense_1_loss_14: 0.0036 - dense_1_loss_15: 0.0039 - dense_1_loss_16: 0.0037 - dense_1_loss_17: 0.0037 - dense_1_loss_18: 0.0039 - dense_1_loss_19: 0.0040 - dense_1_loss_20: 0.0039 - dense_1_loss_21: 0.0041 - dense_1_loss_22: 0.0039 - dense_1_loss_23: 0.0041 - dense_1_loss_24: 0.0040 - dense_1_loss_25: 0.0043 - dense_1_loss_26: 0.0044 - dense_1_loss_27: 0.0052 - dense_1_loss_28: 0.0053 - dense_1_loss_29: 0.0055 - dense_1_loss_30: 0.0000e+00 - dense_1_acc_1: 0.1000 - dense_1_acc_2: 0.7333 - dense_1_acc_3: 0.9667 - dense_1_acc_4: 1.0000 - dense_1_acc_5: 1.0000 - dense_1_acc_6: 1.0000 - dense_1_acc_7: 1.0000 - dense_1_acc_8: 1.0000 - dense_1_acc_9: 1.0000 - dense_1_acc_10: 1.0000 - dense_1_acc_11: 1.0000 - dense_1_acc_12: 1.0000 - dense_1_acc_13: 1.0000 - dense_1_acc_14: 1.0000 - dense_1_acc_15: 1.0000 - dense_1_acc_16: 1.0000 - dense_1_acc_17: 1.0000 - dense_1_acc_18: 1.0000 - dense_1_acc_19: 1.0000 - dense_1_acc_20: 1.0000 - dense_1_acc_21: 1.0000 - dense_1_acc_22: 1.0000 - dense_1_acc_23: 1.0000 - dense_1_acc_24: 1.0000 - dense_1_acc_25: 1.0000 - dense_1_acc_26: 1.0000 - dense_1_acc_27: 1.0000 - dense_1_acc_28: 1.0000 - dense_1_acc_29: 1.0000 - dense_1_acc_30: 0.0000e+00     \n",
      "Epoch 89/100\n",
      "60/60 [==============================] - 1s - loss: 4.3549 - dense_1_loss_1: 3.4346 - dense_1_loss_2: 0.6761 - dense_1_loss_3: 0.1129 - dense_1_loss_4: 0.0155 - dense_1_loss_5: 0.0102 - dense_1_loss_6: 0.0070 - dense_1_loss_7: 0.0050 - dense_1_loss_8: 0.0054 - dense_1_loss_9: 0.0052 - dense_1_loss_10: 0.0044 - dense_1_loss_11: 0.0043 - dense_1_loss_12: 0.0041 - dense_1_loss_13: 0.0037 - dense_1_loss_14: 0.0036 - dense_1_loss_15: 0.0039 - dense_1_loss_16: 0.0037 - dense_1_loss_17: 0.0037 - dense_1_loss_18: 0.0038 - dense_1_loss_19: 0.0039 - dense_1_loss_20: 0.0039 - dense_1_loss_21: 0.0040 - dense_1_loss_22: 0.0039 - dense_1_loss_23: 0.0041 - dense_1_loss_24: 0.0040 - dense_1_loss_25: 0.0043 - dense_1_loss_26: 0.0044 - dense_1_loss_27: 0.0052 - dense_1_loss_28: 0.0052 - dense_1_loss_29: 0.0054 - dense_1_loss_30: 0.0000e+00 - dense_1_acc_1: 0.1000 - dense_1_acc_2: 0.7333 - dense_1_acc_3: 0.9667 - dense_1_acc_4: 1.0000 - dense_1_acc_5: 1.0000 - dense_1_acc_6: 1.0000 - dense_1_acc_7: 1.0000 - dense_1_acc_8: 1.0000 - dense_1_acc_9: 1.0000 - dense_1_acc_10: 1.0000 - dense_1_acc_11: 1.0000 - dense_1_acc_12: 1.0000 - dense_1_acc_13: 1.0000 - dense_1_acc_14: 1.0000 - dense_1_acc_15: 1.0000 - dense_1_acc_16: 1.0000 - dense_1_acc_17: 1.0000 - dense_1_acc_18: 1.0000 - dense_1_acc_19: 1.0000 - dense_1_acc_20: 1.0000 - dense_1_acc_21: 1.0000 - dense_1_acc_22: 1.0000 - dense_1_acc_23: 1.0000 - dense_1_acc_24: 1.0000 - dense_1_acc_25: 1.0000 - dense_1_acc_26: 1.0000 - dense_1_acc_27: 1.0000 - dense_1_acc_28: 1.0000 - dense_1_acc_29: 1.0000 - dense_1_acc_30: 0.0000e+00     \n",
      "Epoch 90/100\n",
      "60/60 [==============================] - 1s - loss: 4.3494 - dense_1_loss_1: 3.4327 - dense_1_loss_2: 0.6747 - dense_1_loss_3: 0.1121 - dense_1_loss_4: 0.0153 - dense_1_loss_5: 0.0101 - dense_1_loss_6: 0.0069 - dense_1_loss_7: 0.0049 - dense_1_loss_8: 0.0053 - dense_1_loss_9: 0.0051 - dense_1_loss_10: 0.0043 - dense_1_loss_11: 0.0042 - dense_1_loss_12: 0.0040 - dense_1_loss_13: 0.0037 - dense_1_loss_14: 0.0035 - dense_1_loss_15: 0.0038 - dense_1_loss_16: 0.0036 - dense_1_loss_17: 0.0036 - dense_1_loss_18: 0.0038 - dense_1_loss_19: 0.0039 - dense_1_loss_20: 0.0038 - dense_1_loss_21: 0.0040 - dense_1_loss_22: 0.0038 - dense_1_loss_23: 0.0040 - dense_1_loss_24: 0.0039 - dense_1_loss_25: 0.0042 - dense_1_loss_26: 0.0043 - dense_1_loss_27: 0.0051 - dense_1_loss_28: 0.0052 - dense_1_loss_29: 0.0054 - dense_1_loss_30: 0.0000e+00 - dense_1_acc_1: 0.1000 - dense_1_acc_2: 0.7167 - dense_1_acc_3: 0.9667 - dense_1_acc_4: 1.0000 - dense_1_acc_5: 1.0000 - dense_1_acc_6: 1.0000 - dense_1_acc_7: 1.0000 - dense_1_acc_8: 1.0000 - dense_1_acc_9: 1.0000 - dense_1_acc_10: 1.0000 - dense_1_acc_11: 1.0000 - dense_1_acc_12: 1.0000 - dense_1_acc_13: 1.0000 - dense_1_acc_14: 1.0000 - dense_1_acc_15: 1.0000 - dense_1_acc_16: 1.0000 - dense_1_acc_17: 1.0000 - dense_1_acc_18: 1.0000 - dense_1_acc_19: 1.0000 - dense_1_acc_20: 1.0000 - dense_1_acc_21: 1.0000 - dense_1_acc_22: 1.0000 - dense_1_acc_23: 1.0000 - dense_1_acc_24: 1.0000 - dense_1_acc_25: 1.0000 - dense_1_acc_26: 1.0000 - dense_1_acc_27: 1.0000 - dense_1_acc_28: 1.0000 - dense_1_acc_29: 1.0000 - dense_1_acc_30: 0.0000e+00     \n",
      "Epoch 91/100\n"
     ]
    },
    {
     "name": "stdout",
     "output_type": "stream",
     "text": [
      "60/60 [==============================] - 1s - loss: 4.3436 - dense_1_loss_1: 3.4308 - dense_1_loss_2: 0.6727 - dense_1_loss_3: 0.1118 - dense_1_loss_4: 0.0151 - dense_1_loss_5: 0.0099 - dense_1_loss_6: 0.0068 - dense_1_loss_7: 0.0048 - dense_1_loss_8: 0.0052 - dense_1_loss_9: 0.0051 - dense_1_loss_10: 0.0043 - dense_1_loss_11: 0.0042 - dense_1_loss_12: 0.0040 - dense_1_loss_13: 0.0036 - dense_1_loss_14: 0.0035 - dense_1_loss_15: 0.0038 - dense_1_loss_16: 0.0036 - dense_1_loss_17: 0.0036 - dense_1_loss_18: 0.0037 - dense_1_loss_19: 0.0038 - dense_1_loss_20: 0.0038 - dense_1_loss_21: 0.0039 - dense_1_loss_22: 0.0038 - dense_1_loss_23: 0.0040 - dense_1_loss_24: 0.0039 - dense_1_loss_25: 0.0042 - dense_1_loss_26: 0.0043 - dense_1_loss_27: 0.0051 - dense_1_loss_28: 0.0051 - dense_1_loss_29: 0.0053 - dense_1_loss_30: 0.0000e+00 - dense_1_acc_1: 0.1000 - dense_1_acc_2: 0.7167 - dense_1_acc_3: 0.9667 - dense_1_acc_4: 1.0000 - dense_1_acc_5: 1.0000 - dense_1_acc_6: 1.0000 - dense_1_acc_7: 1.0000 - dense_1_acc_8: 1.0000 - dense_1_acc_9: 1.0000 - dense_1_acc_10: 1.0000 - dense_1_acc_11: 1.0000 - dense_1_acc_12: 1.0000 - dense_1_acc_13: 1.0000 - dense_1_acc_14: 1.0000 - dense_1_acc_15: 1.0000 - dense_1_acc_16: 1.0000 - dense_1_acc_17: 1.0000 - dense_1_acc_18: 1.0000 - dense_1_acc_19: 1.0000 - dense_1_acc_20: 1.0000 - dense_1_acc_21: 1.0000 - dense_1_acc_22: 1.0000 - dense_1_acc_23: 1.0000 - dense_1_acc_24: 1.0000 - dense_1_acc_25: 1.0000 - dense_1_acc_26: 1.0000 - dense_1_acc_27: 1.0000 - dense_1_acc_28: 1.0000 - dense_1_acc_29: 1.0000 - dense_1_acc_30: 0.0000e+00     \n",
      "Epoch 92/100\n",
      "60/60 [==============================] - 1s - loss: 4.3384 - dense_1_loss_1: 3.4292 - dense_1_loss_2: 0.6710 - dense_1_loss_3: 0.1113 - dense_1_loss_4: 0.0150 - dense_1_loss_5: 0.0098 - dense_1_loss_6: 0.0068 - dense_1_loss_7: 0.0048 - dense_1_loss_8: 0.0052 - dense_1_loss_9: 0.0050 - dense_1_loss_10: 0.0042 - dense_1_loss_11: 0.0041 - dense_1_loss_12: 0.0039 - dense_1_loss_13: 0.0036 - dense_1_loss_14: 0.0034 - dense_1_loss_15: 0.0037 - dense_1_loss_16: 0.0036 - dense_1_loss_17: 0.0035 - dense_1_loss_18: 0.0037 - dense_1_loss_19: 0.0038 - dense_1_loss_20: 0.0037 - dense_1_loss_21: 0.0039 - dense_1_loss_22: 0.0037 - dense_1_loss_23: 0.0039 - dense_1_loss_24: 0.0039 - dense_1_loss_25: 0.0041 - dense_1_loss_26: 0.0042 - dense_1_loss_27: 0.0050 - dense_1_loss_28: 0.0051 - dense_1_loss_29: 0.0052 - dense_1_loss_30: 0.0000e+00 - dense_1_acc_1: 0.1000 - dense_1_acc_2: 0.7333 - dense_1_acc_3: 0.9667 - dense_1_acc_4: 1.0000 - dense_1_acc_5: 1.0000 - dense_1_acc_6: 1.0000 - dense_1_acc_7: 1.0000 - dense_1_acc_8: 1.0000 - dense_1_acc_9: 1.0000 - dense_1_acc_10: 1.0000 - dense_1_acc_11: 1.0000 - dense_1_acc_12: 1.0000 - dense_1_acc_13: 1.0000 - dense_1_acc_14: 1.0000 - dense_1_acc_15: 1.0000 - dense_1_acc_16: 1.0000 - dense_1_acc_17: 1.0000 - dense_1_acc_18: 1.0000 - dense_1_acc_19: 1.0000 - dense_1_acc_20: 1.0000 - dense_1_acc_21: 1.0000 - dense_1_acc_22: 1.0000 - dense_1_acc_23: 1.0000 - dense_1_acc_24: 1.0000 - dense_1_acc_25: 1.0000 - dense_1_acc_26: 1.0000 - dense_1_acc_27: 1.0000 - dense_1_acc_28: 1.0000 - dense_1_acc_29: 1.0000 - dense_1_acc_30: 0.0000e+00     \n",
      "Epoch 93/100\n",
      "60/60 [==============================] - 1s - loss: 4.3324 - dense_1_loss_1: 3.4275 - dense_1_loss_2: 0.6685 - dense_1_loss_3: 0.1108 - dense_1_loss_4: 0.0148 - dense_1_loss_5: 0.0097 - dense_1_loss_6: 0.0067 - dense_1_loss_7: 0.0048 - dense_1_loss_8: 0.0051 - dense_1_loss_9: 0.0050 - dense_1_loss_10: 0.0042 - dense_1_loss_11: 0.0041 - dense_1_loss_12: 0.0039 - dense_1_loss_13: 0.0036 - dense_1_loss_14: 0.0034 - dense_1_loss_15: 0.0037 - dense_1_loss_16: 0.0035 - dense_1_loss_17: 0.0035 - dense_1_loss_18: 0.0037 - dense_1_loss_19: 0.0037 - dense_1_loss_20: 0.0037 - dense_1_loss_21: 0.0039 - dense_1_loss_22: 0.0037 - dense_1_loss_23: 0.0039 - dense_1_loss_24: 0.0038 - dense_1_loss_25: 0.0040 - dense_1_loss_26: 0.0042 - dense_1_loss_27: 0.0050 - dense_1_loss_28: 0.0050 - dense_1_loss_29: 0.0052 - dense_1_loss_30: 0.0000e+00 - dense_1_acc_1: 0.1000 - dense_1_acc_2: 0.7333 - dense_1_acc_3: 0.9667 - dense_1_acc_4: 1.0000 - dense_1_acc_5: 1.0000 - dense_1_acc_6: 1.0000 - dense_1_acc_7: 1.0000 - dense_1_acc_8: 1.0000 - dense_1_acc_9: 1.0000 - dense_1_acc_10: 1.0000 - dense_1_acc_11: 1.0000 - dense_1_acc_12: 1.0000 - dense_1_acc_13: 1.0000 - dense_1_acc_14: 1.0000 - dense_1_acc_15: 1.0000 - dense_1_acc_16: 1.0000 - dense_1_acc_17: 1.0000 - dense_1_acc_18: 1.0000 - dense_1_acc_19: 1.0000 - dense_1_acc_20: 1.0000 - dense_1_acc_21: 1.0000 - dense_1_acc_22: 1.0000 - dense_1_acc_23: 1.0000 - dense_1_acc_24: 1.0000 - dense_1_acc_25: 1.0000 - dense_1_acc_26: 1.0000 - dense_1_acc_27: 1.0000 - dense_1_acc_28: 1.0000 - dense_1_acc_29: 1.0000 - dense_1_acc_30: 0.0000e+00     \n",
      "Epoch 94/100\n",
      "60/60 [==============================] - 1s - loss: 4.3278 - dense_1_loss_1: 3.4258 - dense_1_loss_2: 0.6672 - dense_1_loss_3: 0.1106 - dense_1_loss_4: 0.0146 - dense_1_loss_5: 0.0097 - dense_1_loss_6: 0.0066 - dense_1_loss_7: 0.0047 - dense_1_loss_8: 0.0051 - dense_1_loss_9: 0.0050 - dense_1_loss_10: 0.0041 - dense_1_loss_11: 0.0040 - dense_1_loss_12: 0.0038 - dense_1_loss_13: 0.0035 - dense_1_loss_14: 0.0034 - dense_1_loss_15: 0.0037 - dense_1_loss_16: 0.0035 - dense_1_loss_17: 0.0035 - dense_1_loss_18: 0.0036 - dense_1_loss_19: 0.0037 - dense_1_loss_20: 0.0036 - dense_1_loss_21: 0.0038 - dense_1_loss_22: 0.0036 - dense_1_loss_23: 0.0038 - dense_1_loss_24: 0.0038 - dense_1_loss_25: 0.0040 - dense_1_loss_26: 0.0041 - dense_1_loss_27: 0.0049 - dense_1_loss_28: 0.0049 - dense_1_loss_29: 0.0051 - dense_1_loss_30: 0.0000e+00 - dense_1_acc_1: 0.1000 - dense_1_acc_2: 0.7333 - dense_1_acc_3: 0.9667 - dense_1_acc_4: 1.0000 - dense_1_acc_5: 1.0000 - dense_1_acc_6: 1.0000 - dense_1_acc_7: 1.0000 - dense_1_acc_8: 1.0000 - dense_1_acc_9: 1.0000 - dense_1_acc_10: 1.0000 - dense_1_acc_11: 1.0000 - dense_1_acc_12: 1.0000 - dense_1_acc_13: 1.0000 - dense_1_acc_14: 1.0000 - dense_1_acc_15: 1.0000 - dense_1_acc_16: 1.0000 - dense_1_acc_17: 1.0000 - dense_1_acc_18: 1.0000 - dense_1_acc_19: 1.0000 - dense_1_acc_20: 1.0000 - dense_1_acc_21: 1.0000 - dense_1_acc_22: 1.0000 - dense_1_acc_23: 1.0000 - dense_1_acc_24: 1.0000 - dense_1_acc_25: 1.0000 - dense_1_acc_26: 1.0000 - dense_1_acc_27: 1.0000 - dense_1_acc_28: 1.0000 - dense_1_acc_29: 1.0000 - dense_1_acc_30: 0.0000e+00     \n",
      "Epoch 95/100\n",
      "60/60 [==============================] - 1s - loss: 4.3224 - dense_1_loss_1: 3.4243 - dense_1_loss_2: 0.6649 - dense_1_loss_3: 0.1104 - dense_1_loss_4: 0.0145 - dense_1_loss_5: 0.0095 - dense_1_loss_6: 0.0065 - dense_1_loss_7: 0.0046 - dense_1_loss_8: 0.0050 - dense_1_loss_9: 0.0049 - dense_1_loss_10: 0.0041 - dense_1_loss_11: 0.0040 - dense_1_loss_12: 0.0038 - dense_1_loss_13: 0.0035 - dense_1_loss_14: 0.0033 - dense_1_loss_15: 0.0036 - dense_1_loss_16: 0.0034 - dense_1_loss_17: 0.0034 - dense_1_loss_18: 0.0036 - dense_1_loss_19: 0.0036 - dense_1_loss_20: 0.0036 - dense_1_loss_21: 0.0038 - dense_1_loss_22: 0.0036 - dense_1_loss_23: 0.0038 - dense_1_loss_24: 0.0037 - dense_1_loss_25: 0.0040 - dense_1_loss_26: 0.0041 - dense_1_loss_27: 0.0049 - dense_1_loss_28: 0.0049 - dense_1_loss_29: 0.0051 - dense_1_loss_30: 0.0000e+00 - dense_1_acc_1: 0.1000 - dense_1_acc_2: 0.7333 - dense_1_acc_3: 0.9667 - dense_1_acc_4: 1.0000 - dense_1_acc_5: 1.0000 - dense_1_acc_6: 1.0000 - dense_1_acc_7: 1.0000 - dense_1_acc_8: 1.0000 - dense_1_acc_9: 1.0000 - dense_1_acc_10: 1.0000 - dense_1_acc_11: 1.0000 - dense_1_acc_12: 1.0000 - dense_1_acc_13: 1.0000 - dense_1_acc_14: 1.0000 - dense_1_acc_15: 1.0000 - dense_1_acc_16: 1.0000 - dense_1_acc_17: 1.0000 - dense_1_acc_18: 1.0000 - dense_1_acc_19: 1.0000 - dense_1_acc_20: 1.0000 - dense_1_acc_21: 1.0000 - dense_1_acc_22: 1.0000 - dense_1_acc_23: 1.0000 - dense_1_acc_24: 1.0000 - dense_1_acc_25: 1.0000 - dense_1_acc_26: 1.0000 - dense_1_acc_27: 1.0000 - dense_1_acc_28: 1.0000 - dense_1_acc_29: 1.0000 - dense_1_acc_30: 0.0000e+00     \n",
      "Epoch 96/100\n"
     ]
    },
    {
     "name": "stdout",
     "output_type": "stream",
     "text": [
      "60/60 [==============================] - 1s - loss: 4.3171 - dense_1_loss_1: 3.4224 - dense_1_loss_2: 0.6634 - dense_1_loss_3: 0.1098 - dense_1_loss_4: 0.0144 - dense_1_loss_5: 0.0095 - dense_1_loss_6: 0.0064 - dense_1_loss_7: 0.0046 - dense_1_loss_8: 0.0050 - dense_1_loss_9: 0.0049 - dense_1_loss_10: 0.0040 - dense_1_loss_11: 0.0040 - dense_1_loss_12: 0.0037 - dense_1_loss_13: 0.0034 - dense_1_loss_14: 0.0033 - dense_1_loss_15: 0.0036 - dense_1_loss_16: 0.0034 - dense_1_loss_17: 0.0034 - dense_1_loss_18: 0.0035 - dense_1_loss_19: 0.0036 - dense_1_loss_20: 0.0036 - dense_1_loss_21: 0.0037 - dense_1_loss_22: 0.0036 - dense_1_loss_23: 0.0038 - dense_1_loss_24: 0.0037 - dense_1_loss_25: 0.0039 - dense_1_loss_26: 0.0040 - dense_1_loss_27: 0.0048 - dense_1_loss_28: 0.0048 - dense_1_loss_29: 0.0050 - dense_1_loss_30: 0.0000e+00 - dense_1_acc_1: 0.1000 - dense_1_acc_2: 0.7333 - dense_1_acc_3: 0.9667 - dense_1_acc_4: 1.0000 - dense_1_acc_5: 1.0000 - dense_1_acc_6: 1.0000 - dense_1_acc_7: 1.0000 - dense_1_acc_8: 1.0000 - dense_1_acc_9: 1.0000 - dense_1_acc_10: 1.0000 - dense_1_acc_11: 1.0000 - dense_1_acc_12: 1.0000 - dense_1_acc_13: 1.0000 - dense_1_acc_14: 1.0000 - dense_1_acc_15: 1.0000 - dense_1_acc_16: 1.0000 - dense_1_acc_17: 1.0000 - dense_1_acc_18: 1.0000 - dense_1_acc_19: 1.0000 - dense_1_acc_20: 1.0000 - dense_1_acc_21: 1.0000 - dense_1_acc_22: 1.0000 - dense_1_acc_23: 1.0000 - dense_1_acc_24: 1.0000 - dense_1_acc_25: 1.0000 - dense_1_acc_26: 1.0000 - dense_1_acc_27: 1.0000 - dense_1_acc_28: 1.0000 - dense_1_acc_29: 1.0000 - dense_1_acc_30: 0.0000e+00     \n",
      "Epoch 97/100\n",
      "60/60 [==============================] - 1s - loss: 4.3120 - dense_1_loss_1: 3.4210 - dense_1_loss_2: 0.6615 - dense_1_loss_3: 0.1092 - dense_1_loss_4: 0.0142 - dense_1_loss_5: 0.0094 - dense_1_loss_6: 0.0064 - dense_1_loss_7: 0.0045 - dense_1_loss_8: 0.0049 - dense_1_loss_9: 0.0048 - dense_1_loss_10: 0.0040 - dense_1_loss_11: 0.0039 - dense_1_loss_12: 0.0037 - dense_1_loss_13: 0.0034 - dense_1_loss_14: 0.0032 - dense_1_loss_15: 0.0035 - dense_1_loss_16: 0.0034 - dense_1_loss_17: 0.0033 - dense_1_loss_18: 0.0035 - dense_1_loss_19: 0.0036 - dense_1_loss_20: 0.0035 - dense_1_loss_21: 0.0037 - dense_1_loss_22: 0.0035 - dense_1_loss_23: 0.0037 - dense_1_loss_24: 0.0037 - dense_1_loss_25: 0.0039 - dense_1_loss_26: 0.0040 - dense_1_loss_27: 0.0048 - dense_1_loss_28: 0.0048 - dense_1_loss_29: 0.0049 - dense_1_loss_30: 0.0000e+00 - dense_1_acc_1: 0.1000 - dense_1_acc_2: 0.7333 - dense_1_acc_3: 0.9667 - dense_1_acc_4: 1.0000 - dense_1_acc_5: 1.0000 - dense_1_acc_6: 1.0000 - dense_1_acc_7: 1.0000 - dense_1_acc_8: 1.0000 - dense_1_acc_9: 1.0000 - dense_1_acc_10: 1.0000 - dense_1_acc_11: 1.0000 - dense_1_acc_12: 1.0000 - dense_1_acc_13: 1.0000 - dense_1_acc_14: 1.0000 - dense_1_acc_15: 1.0000 - dense_1_acc_16: 1.0000 - dense_1_acc_17: 1.0000 - dense_1_acc_18: 1.0000 - dense_1_acc_19: 1.0000 - dense_1_acc_20: 1.0000 - dense_1_acc_21: 1.0000 - dense_1_acc_22: 1.0000 - dense_1_acc_23: 1.0000 - dense_1_acc_24: 1.0000 - dense_1_acc_25: 1.0000 - dense_1_acc_26: 1.0000 - dense_1_acc_27: 1.0000 - dense_1_acc_28: 1.0000 - dense_1_acc_29: 1.0000 - dense_1_acc_30: 0.0000e+00     \n",
      "Epoch 98/100\n",
      "60/60 [==============================] - 1s - loss: 4.3073 - dense_1_loss_1: 3.4195 - dense_1_loss_2: 0.6600 - dense_1_loss_3: 0.1087 - dense_1_loss_4: 0.0141 - dense_1_loss_5: 0.0093 - dense_1_loss_6: 0.0063 - dense_1_loss_7: 0.0045 - dense_1_loss_8: 0.0049 - dense_1_loss_9: 0.0048 - dense_1_loss_10: 0.0039 - dense_1_loss_11: 0.0039 - dense_1_loss_12: 0.0037 - dense_1_loss_13: 0.0034 - dense_1_loss_14: 0.0032 - dense_1_loss_15: 0.0035 - dense_1_loss_16: 0.0033 - dense_1_loss_17: 0.0033 - dense_1_loss_18: 0.0035 - dense_1_loss_19: 0.0035 - dense_1_loss_20: 0.0035 - dense_1_loss_21: 0.0037 - dense_1_loss_22: 0.0035 - dense_1_loss_23: 0.0037 - dense_1_loss_24: 0.0036 - dense_1_loss_25: 0.0038 - dense_1_loss_26: 0.0039 - dense_1_loss_27: 0.0047 - dense_1_loss_28: 0.0047 - dense_1_loss_29: 0.0049 - dense_1_loss_30: 0.0000e+00 - dense_1_acc_1: 0.1000 - dense_1_acc_2: 0.7333 - dense_1_acc_3: 0.9667 - dense_1_acc_4: 1.0000 - dense_1_acc_5: 1.0000 - dense_1_acc_6: 1.0000 - dense_1_acc_7: 1.0000 - dense_1_acc_8: 1.0000 - dense_1_acc_9: 1.0000 - dense_1_acc_10: 1.0000 - dense_1_acc_11: 1.0000 - dense_1_acc_12: 1.0000 - dense_1_acc_13: 1.0000 - dense_1_acc_14: 1.0000 - dense_1_acc_15: 1.0000 - dense_1_acc_16: 1.0000 - dense_1_acc_17: 1.0000 - dense_1_acc_18: 1.0000 - dense_1_acc_19: 1.0000 - dense_1_acc_20: 1.0000 - dense_1_acc_21: 1.0000 - dense_1_acc_22: 1.0000 - dense_1_acc_23: 1.0000 - dense_1_acc_24: 1.0000 - dense_1_acc_25: 1.0000 - dense_1_acc_26: 1.0000 - dense_1_acc_27: 1.0000 - dense_1_acc_28: 1.0000 - dense_1_acc_29: 1.0000 - dense_1_acc_30: 0.0000e+00     \n",
      "Epoch 99/100\n",
      "60/60 [==============================] - 1s - loss: 4.3022 - dense_1_loss_1: 3.4179 - dense_1_loss_2: 0.6582 - dense_1_loss_3: 0.1083 - dense_1_loss_4: 0.0140 - dense_1_loss_5: 0.0092 - dense_1_loss_6: 0.0063 - dense_1_loss_7: 0.0044 - dense_1_loss_8: 0.0048 - dense_1_loss_9: 0.0047 - dense_1_loss_10: 0.0039 - dense_1_loss_11: 0.0038 - dense_1_loss_12: 0.0036 - dense_1_loss_13: 0.0033 - dense_1_loss_14: 0.0032 - dense_1_loss_15: 0.0035 - dense_1_loss_16: 0.0033 - dense_1_loss_17: 0.0033 - dense_1_loss_18: 0.0034 - dense_1_loss_19: 0.0035 - dense_1_loss_20: 0.0034 - dense_1_loss_21: 0.0036 - dense_1_loss_22: 0.0035 - dense_1_loss_23: 0.0036 - dense_1_loss_24: 0.0036 - dense_1_loss_25: 0.0038 - dense_1_loss_26: 0.0039 - dense_1_loss_27: 0.0047 - dense_1_loss_28: 0.0047 - dense_1_loss_29: 0.0049 - dense_1_loss_30: 0.0000e+00 - dense_1_acc_1: 0.1000 - dense_1_acc_2: 0.7333 - dense_1_acc_3: 0.9667 - dense_1_acc_4: 1.0000 - dense_1_acc_5: 1.0000 - dense_1_acc_6: 1.0000 - dense_1_acc_7: 1.0000 - dense_1_acc_8: 1.0000 - dense_1_acc_9: 1.0000 - dense_1_acc_10: 1.0000 - dense_1_acc_11: 1.0000 - dense_1_acc_12: 1.0000 - dense_1_acc_13: 1.0000 - dense_1_acc_14: 1.0000 - dense_1_acc_15: 1.0000 - dense_1_acc_16: 1.0000 - dense_1_acc_17: 1.0000 - dense_1_acc_18: 1.0000 - dense_1_acc_19: 1.0000 - dense_1_acc_20: 1.0000 - dense_1_acc_21: 1.0000 - dense_1_acc_22: 1.0000 - dense_1_acc_23: 1.0000 - dense_1_acc_24: 1.0000 - dense_1_acc_25: 1.0000 - dense_1_acc_26: 1.0000 - dense_1_acc_27: 1.0000 - dense_1_acc_28: 1.0000 - dense_1_acc_29: 1.0000 - dense_1_acc_30: 0.0000e+00     \n",
      "Epoch 100/100\n",
      "60/60 [==============================] - 1s - loss: 4.2974 - dense_1_loss_1: 3.4162 - dense_1_loss_2: 0.6569 - dense_1_loss_3: 0.1077 - dense_1_loss_4: 0.0138 - dense_1_loss_5: 0.0091 - dense_1_loss_6: 0.0062 - dense_1_loss_7: 0.0044 - dense_1_loss_8: 0.0048 - dense_1_loss_9: 0.0047 - dense_1_loss_10: 0.0038 - dense_1_loss_11: 0.0038 - dense_1_loss_12: 0.0036 - dense_1_loss_13: 0.0033 - dense_1_loss_14: 0.0031 - dense_1_loss_15: 0.0034 - dense_1_loss_16: 0.0033 - dense_1_loss_17: 0.0032 - dense_1_loss_18: 0.0034 - dense_1_loss_19: 0.0035 - dense_1_loss_20: 0.0034 - dense_1_loss_21: 0.0036 - dense_1_loss_22: 0.0034 - dense_1_loss_23: 0.0036 - dense_1_loss_24: 0.0035 - dense_1_loss_25: 0.0038 - dense_1_loss_26: 0.0039 - dense_1_loss_27: 0.0046 - dense_1_loss_28: 0.0046 - dense_1_loss_29: 0.0048 - dense_1_loss_30: 0.0000e+00 - dense_1_acc_1: 0.1000 - dense_1_acc_2: 0.7333 - dense_1_acc_3: 0.9667 - dense_1_acc_4: 1.0000 - dense_1_acc_5: 1.0000 - dense_1_acc_6: 1.0000 - dense_1_acc_7: 1.0000 - dense_1_acc_8: 1.0000 - dense_1_acc_9: 1.0000 - dense_1_acc_10: 1.0000 - dense_1_acc_11: 1.0000 - dense_1_acc_12: 1.0000 - dense_1_acc_13: 1.0000 - dense_1_acc_14: 1.0000 - dense_1_acc_15: 1.0000 - dense_1_acc_16: 1.0000 - dense_1_acc_17: 1.0000 - dense_1_acc_18: 1.0000 - dense_1_acc_19: 1.0000 - dense_1_acc_20: 1.0000 - dense_1_acc_21: 1.0000 - dense_1_acc_22: 1.0000 - dense_1_acc_23: 1.0000 - dense_1_acc_24: 1.0000 - dense_1_acc_25: 1.0000 - dense_1_acc_26: 1.0000 - dense_1_acc_27: 1.0000 - dense_1_acc_28: 1.0000 - dense_1_acc_29: 1.0000 - dense_1_acc_30: 0.0000e+00     \n"
     ]
    },
    {
     "data": {
      "text/plain": [
       "<keras.callbacks.History at 0x7ff0f110e208>"
      ]
     },
     "execution_count": 19,
     "metadata": {},
     "output_type": "execute_result"
    }
   ],
   "source": [
    "model.fit([X, a0, c0], list(Y), epochs=100)"
   ]
  },
  {
   "cell_type": "markdown",
   "metadata": {},
   "source": [
    "You should see the model loss going down. Now that you have trained a model, lets go on the the final section to implement an inference algorithm, and generate some music! "
   ]
  },
  {
   "cell_type": "markdown",
   "metadata": {},
   "source": [
    "## 3 - Generating music\n",
    "\n",
    "You now have a trained model which has learned the patterns of the jazz soloist. Lets now use this model to synthesize new music. \n",
    "\n",
    "#### 3.1 - Predicting & Sampling\n",
    "\n",
    "<img src=\"images/music_gen.png\" style=\"width:600;height:400px;\">\n",
    "\n",
    "At each step of sampling, you will take as input the activation `a` and cell state `c` from the previous state of the LSTM, forward propagate by one step, and get a new output activation as well as cell state. The new activation `a` can then be used to generate the output, using `densor` as before. \n",
    "\n",
    "To start off the model, we will initialize `x0` as well as the LSTM activation and and cell value `a0` and `c0` to be zeros. \n",
    "\n",
    "\n",
    "<!-- \n",
    "You are about to build a function that will do this inference for you. Your function takes in your previous model and the number of time steps `Ty` that you want to sample. It will return a keras model that would be able to generate sequences for you. Furthermore, the function takes in a dense layer of `78` units and the number of activations. \n",
    "!--> \n",
    "\n",
    "\n",
    "**Exercise:** Implement the function below to sample a sequence of musical values. Here are some of the key steps you'll need to implement inside the for-loop that generates the $T_y$ output characters: \n",
    "\n",
    "Step 2.A: Use `LSTM_Cell`, which inputs the previous step's `c` and `a` to generate the current step's `c` and `a`. \n",
    "\n",
    "Step 2.B: Use `densor` (defined previously) to compute a softmax on `a` to get the output for the current step. \n",
    "\n",
    "Step 2.C: Save the output you have just generated by appending it to `outputs`.\n",
    "\n",
    "Step 2.D: Sample x to the be \"out\"'s one-hot version (the prediction) so that you can pass it to the next LSTM's step.  We have already provided this line of code, which uses a [Lambda](https://keras.io/layers/core/#lambda) function. \n",
    "```python\n",
    "x = Lambda(one_hot)(out) \n",
    "```\n",
    "[Minor technical note: Rather than sampling a value at random according to the probabilities in `out`, this line of code actually chooses the single most likely note at each step using an argmax.]\n"
   ]
  },
  {
   "cell_type": "code",
   "execution_count": 20,
   "metadata": {
    "collapsed": true
   },
   "outputs": [],
   "source": [
    "# GRADED FUNCTION: music_inference_model\n",
    "\n",
    "def music_inference_model(LSTM_cell, densor, n_values = 78, n_a = 64, Ty = 100):\n",
    "    \"\"\"\n",
    "    Uses the trained \"LSTM_cell\" and \"densor\" from model() to generate a sequence of values.\n",
    "    \n",
    "    Arguments:\n",
    "    LSTM_cell -- the trained \"LSTM_cell\" from model(), Keras layer object\n",
    "    densor -- the trained \"densor\" from model(), Keras layer object\n",
    "    n_values -- integer, umber of unique values\n",
    "    n_a -- number of units in the LSTM_cell\n",
    "    Ty -- integer, number of time steps to generate\n",
    "    \n",
    "    Returns:\n",
    "    inference_model -- Keras model instance\n",
    "    \"\"\"\n",
    "    \n",
    "    # Define the input of your model with a shape \n",
    "    x0 = Input(shape=(1, n_values))\n",
    "    \n",
    "    # Define s0, initial hidden state for the decoder LSTM\n",
    "    a0 = Input(shape=(n_a,), name='a0')\n",
    "    c0 = Input(shape=(n_a,), name='c0')\n",
    "    a = a0\n",
    "    c = c0\n",
    "    x = x0\n",
    "\n",
    "    ### START CODE HERE ###\n",
    "    # Step 1: Create an empty list of \"outputs\" to later store your predicted values (≈1 line)\n",
    "    outputs = []\n",
    "    \n",
    "    # Step 2: Loop over Ty and generate a value at every time step\n",
    "    for t in range(Ty):\n",
    "        \n",
    "        # Step 2.A: Perform one step of LSTM_cell (≈1 line)\n",
    "        a, _, c = LSTM_cell(x, initial_state=[a, c])\n",
    "        \n",
    "        # Step 2.B: Apply Dense layer to the hidden state output of the LSTM_cell (≈1 line)\n",
    "        out = densor(a)\n",
    "\n",
    "        # Step 2.C: Append the prediction \"out\" to \"outputs\". out.shape = (None, 78) (≈1 line)\n",
    "        outputs.append(out)\n",
    "        \n",
    "        # Step 2.D: Select the next value according to \"out\", and set \"x\" to be the one-hot representation of the\n",
    "        #           selected value, which will be passed as the input to LSTM_cell on the next step. We have provided \n",
    "        #           the line of code you need to do this. \n",
    "        x = Lambda(one_hot)(out)\n",
    "        \n",
    "    # Step 3: Create model instance with the correct \"inputs\" and \"outputs\" (≈1 line)\n",
    "    inference_model = Model(inputs=[x0, a0, c0], outputs=outputs)\n",
    "    \n",
    "    ### END CODE HERE ###\n",
    "    \n",
    "    return inference_model"
   ]
  },
  {
   "cell_type": "markdown",
   "metadata": {},
   "source": [
    "Run the cell below to define your inference model. This model is hard coded to generate 50 values."
   ]
  },
  {
   "cell_type": "code",
   "execution_count": 21,
   "metadata": {
    "collapsed": true
   },
   "outputs": [],
   "source": [
    "inference_model = music_inference_model(LSTM_cell, densor, n_values = 78, n_a = 64, Ty = 50)"
   ]
  },
  {
   "cell_type": "markdown",
   "metadata": {},
   "source": [
    "Finally, this creates the zero-valued vectors you will use to initialize `x` and the LSTM state variables `a` and `c`. "
   ]
  },
  {
   "cell_type": "code",
   "execution_count": 22,
   "metadata": {
    "collapsed": true
   },
   "outputs": [],
   "source": [
    "x_initializer = np.zeros((1, 1, 78))\n",
    "a_initializer = np.zeros((1, n_a))\n",
    "c_initializer = np.zeros((1, n_a))"
   ]
  },
  {
   "cell_type": "markdown",
   "metadata": {},
   "source": [
    "**Exercise**: Implement `predict_and_sample()`. This function takes many arguments including the inputs [x_initializer, a_initializer, c_initializer]. In order to predict the output corresponding to this input, you will need to carry-out 3 steps:\n",
    "1. Use your inference model to predict an output given your set of inputs. The output `pred` should be a list of length $T_y$ where each element is a numpy-array of shape (1, n_values).\n",
    "2. Convert `pred` into a numpy array of $T_y$ indices. Each index corresponds is computed by taking the `argmax` of an element of the `pred` list. [Hint](https://docs.scipy.org/doc/numpy/reference/generated/numpy.argmax.html).\n",
    "3. Convert the indices into their one-hot vector representations. [Hint](https://keras.io/utils/#to_categorical)."
   ]
  },
  {
   "cell_type": "code",
   "execution_count": 23,
   "metadata": {
    "collapsed": true
   },
   "outputs": [],
   "source": [
    "# GRADED FUNCTION: predict_and_sample\n",
    "\n",
    "def predict_and_sample(inference_model, x_initializer = x_initializer, a_initializer = a_initializer, \n",
    "                       c_initializer = c_initializer):\n",
    "    \"\"\"\n",
    "    Predicts the next value of values using the inference model.\n",
    "    \n",
    "    Arguments:\n",
    "    inference_model -- Keras model instance for inference time\n",
    "    x_initializer -- numpy array of shape (1, 1, 78), one-hot vector initializing the values generation\n",
    "    a_initializer -- numpy array of shape (1, n_a), initializing the hidden state of the LSTM_cell\n",
    "    c_initializer -- numpy array of shape (1, n_a), initializing the cell state of the LSTM_cel\n",
    "    \n",
    "    Returns:\n",
    "    results -- numpy-array of shape (Ty, 78), matrix of one-hot vectors representing the values generated\n",
    "    indices -- numpy-array of shape (Ty, 1), matrix of indices representing the values generated\n",
    "    \"\"\"\n",
    "    \n",
    "    ### START CODE HERE ###\n",
    "    # Step 1: Use your inference model to predict an output sequence given x_initializer, a_initializer and c_initializer.\n",
    "    pred = inference_model.predict([x_initializer, a_initializer, c_initializer])\n",
    "    # Step 2: Convert \"pred\" into an np.array() of indices with the maximum probabilities\n",
    "    indices = np.argmax(pred, axis=-1)\n",
    "    # Step 3: Convert indices to one-hot vectors, the shape of the results should be (1, )\n",
    "    results = to_categorical(indices, num_classes=78)\n",
    "    ### END CODE HERE ###\n",
    "    \n",
    "    return results, indices"
   ]
  },
  {
   "cell_type": "code",
   "execution_count": 24,
   "metadata": {},
   "outputs": [
    {
     "name": "stdout",
     "output_type": "stream",
     "text": [
      "np.argmax(results[12]) = 36\n",
      "np.argmax(results[17]) = 2\n",
      "list(indices[12:18]) = [array([36]), array([44]), array([36]), array([31]), array([68]), array([2])]\n"
     ]
    }
   ],
   "source": [
    "results, indices = predict_and_sample(inference_model, x_initializer, a_initializer, c_initializer)\n",
    "print(\"np.argmax(results[12]) =\", np.argmax(results[12]))\n",
    "print(\"np.argmax(results[17]) =\", np.argmax(results[17]))\n",
    "print(\"list(indices[12:18]) =\", list(indices[12:18]))"
   ]
  },
  {
   "cell_type": "markdown",
   "metadata": {},
   "source": [
    "**Expected Output**: Your results may differ because Keras' results are not completely predictable. However, if you have trained your LSTM_cell with model.fit() for exactly 100 epochs as described above, you should very likely observe a sequence of indices that are not all identical. Moreover, you should observe that: np.argmax(results[12]) is the first element of list(indices[12:18]) and np.argmax(results[17]) is the last element of list(indices[12:18]). \n",
    "\n",
    "<table>\n",
    "    <tr>\n",
    "        <td>\n",
    "            **np.argmax(results[12])** =\n",
    "        </td>\n",
    "        <td>\n",
    "        1\n",
    "        </td>\n",
    "    </tr>\n",
    "    <tr>\n",
    "        <td>\n",
    "            **np.argmax(results[12])** =\n",
    "        </td>\n",
    "        <td>\n",
    "        42\n",
    "        </td>\n",
    "    </tr>\n",
    "    <tr>\n",
    "        <td>\n",
    "            **list(indices[12:18])** =\n",
    "        </td>\n",
    "        <td>\n",
    "            [array([1]), array([42]), array([54]), array([17]), array([1]), array([42])]\n",
    "        </td>\n",
    "    </tr>\n",
    "</table>"
   ]
  },
  {
   "cell_type": "markdown",
   "metadata": {},
   "source": [
    "#### 3.3 - Generate music \n",
    "\n",
    "Finally, you are ready to generate music. Your RNN generates a sequence of values. The following code generates music by first calling your `predict_and_sample()` function. These values are then post-processed into musical chords (meaning that multiple values or notes can be played at the same time). \n",
    "\n",
    "Most computational music algorithms use some post-processing because it is difficult to generate music that sounds good without such post-processing. The post-processing does things such as clean up the generated audio by making sure the same sound is not repeated too many times, that two successive notes are not too far from each other in pitch, and so on. One could argue that a lot of these post-processing steps are hacks; also, a lot the music generation literature has also focused on hand-crafting post-processors, and a lot of the output quality depends on the quality of the post-processing and not just the quality of the RNN. But this post-processing does make a huge difference, so lets use it in our implementation as well. \n",
    "\n",
    "Lets make some music! "
   ]
  },
  {
   "cell_type": "markdown",
   "metadata": {},
   "source": [
    "Run the following cell to generate music and record it into your `out_stream`. This can take a couple of minutes."
   ]
  },
  {
   "cell_type": "code",
   "execution_count": null,
   "metadata": {
    "collapsed": true,
    "scrolled": false
   },
   "outputs": [],
   "source": [
    "out_stream = generate_music(inference_model)"
   ]
  },
  {
   "cell_type": "markdown",
   "metadata": {},
   "source": [
    "To listen to your music, click File->Open... Then go to \"output/\" and download \"my_music.midi\". Either play it on your computer with an application that can read midi files if you have one, or use one of the free online \"MIDI to mp3\" conversion tools to convert this to mp3.  \n",
    "\n",
    "As reference, here also is a 30sec audio clip we generated using this algorithm. "
   ]
  },
  {
   "cell_type": "code",
   "execution_count": null,
   "metadata": {
    "collapsed": true
   },
   "outputs": [],
   "source": [
    "IPython.display.Audio('./data/30s_trained_model.mp3')"
   ]
  },
  {
   "cell_type": "markdown",
   "metadata": {},
   "source": [
    "### Congratulations!\n",
    "\n",
    "You have come to the end of the notebook. \n",
    "\n",
    "<font color=\"blue\">\n",
    "Here's what you should remember:\n",
    "- A sequence model can be used to generate musical values, which are then post-processed into midi music. \n",
    "- Fairly similar models can be used to generate dinosaur names or to generate music, with the major difference being the input fed to the model.  \n",
    "- In Keras, sequence generation involves defining layers with shared weights, which are then repeated for the different time steps $1, \\ldots, T_x$. "
   ]
  },
  {
   "cell_type": "markdown",
   "metadata": {},
   "source": [
    "Congratulations on completing this assignment and generating a jazz solo! "
   ]
  },
  {
   "cell_type": "markdown",
   "metadata": {},
   "source": [
    "**References**\n",
    "\n",
    "The ideas presented in this notebook came primarily from three computational music papers cited below. The implementation here also took significant inspiration and used many components from Ji-Sung Kim's github repository.\n",
    "\n",
    "- Ji-Sung Kim, 2016, [deepjazz](https://github.com/jisungk/deepjazz)\n",
    "- Jon Gillick, Kevin Tang and Robert Keller, 2009. [Learning Jazz Grammars](http://ai.stanford.edu/~kdtang/papers/smc09-jazzgrammar.pdf)\n",
    "- Robert Keller and David Morrison, 2007, [A Grammatical Approach to Automatic Improvisation](http://smc07.uoa.gr/SMC07%20Proceedings/SMC07%20Paper%2055.pdf)\n",
    "- François Pachet, 1999, [Surprising Harmonies](http://citeseerx.ist.psu.edu/viewdoc/download?doi=10.1.1.5.7473&rep=rep1&type=pdf)\n",
    "\n",
    "We're also grateful to François Germain for valuable feedback."
   ]
  }
 ],
 "metadata": {
  "coursera": {
   "course_slug": "nlp-sequence-models",
   "graded_item_id": "EG0F7",
   "launcher_item_id": "cxJXc"
  },
  "kernelspec": {
   "display_name": "Python 3",
   "language": "python",
   "name": "python3"
  },
  "language_info": {
   "codemirror_mode": {
    "name": "ipython",
    "version": 3
   },
   "file_extension": ".py",
   "mimetype": "text/x-python",
   "name": "python",
   "nbconvert_exporter": "python",
   "pygments_lexer": "ipython3",
   "version": "3.6.0"
  }
 },
 "nbformat": 4,
 "nbformat_minor": 2
}
